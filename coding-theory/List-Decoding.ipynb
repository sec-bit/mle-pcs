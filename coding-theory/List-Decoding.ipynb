{
 "cells": [
  {
   "cell_type": "markdown",
   "id": "ac070197-374b-46d7-9427-05a55b9a78c1",
   "metadata": {},
   "source": [
    "## The Two Worlds of Error Correction & The Unique Decoding Limit\n",
    "\n",
    "### 1.1 Two Perspectives on Noise: Hamming vs. Shannon\n",
    "\n",
    "In coding theory, we have two fundamental views on communication over a noisy channel:\n",
    "\n",
    "- **Shannon theory.** This probabilistic model shows that for a channel with random noise (like the q-ary Symmetric Channel, or qSC$_p$), we can achieve reliable communication for any rate  \n",
    "  $$R < 1 - H_q(p).$$\n",
    "  This promises successful communication even with a relatively high fraction of errors.\n",
    "\n",
    "- **Hamming theory.** This model takes a more pessimistic, worst-case view. It provides a 100% guarantee of error correction, but only for a much smaller fraction of errors.\n",
    "\n",
    "There is a significant gap between the number of errors these two theories can handle. This section explores the mathematical and geometric reasons for the strict limits of the Hamming world, which sets the stage for list decoding as a bridge between the two.\n",
    "\n",
    "\n",
    "### 1.2 The Quantitative Limit of Unique Decoding\n",
    "\n",
    "Let’s define our terms from the Hamming perspective. A code has a **rate** $R = k/n$ (message length / codeword length) and a **relative distance** $\\delta = d/n$ (minimum distance / codeword length).\n",
    "\n",
    "The central tenet of unique decoding is that it can correct a fraction of errors up to half the relative distance. By the Singleton bound, we know that a code’s relative distance is limited by its rate:\n",
    "$$\\delta \\le 1 - R.$$\n",
    "This directly implies that the fraction of correctable errors, $p$, must satisfy the following condition:\n",
    "$$p \\le \\frac{1 - R}{2}.$$\n",
    "\n",
    "This is the hard barrier for unique decoding. If the fraction of errors exceeds this, the worst-case guarantee is broken. Reed–Solomon codes are optimal in this regard, as they can achieve this bound.\n",
    "\n",
    "\n",
    "### 1.3 Visualizing the Breakdown: The “Bad Examples”\n",
    "\n",
    "The reason for this strict limit is best understood visually. Consider the figure\n",
    "<img src=\"./imgs/image_bad_examples.png\" alt=\"Generic model of a communication system\" width=\"600\"/>\n",
    "\n",
    "where $c_1, c_2, c_3, c_4$ are valid codewords.\n",
    "\n",
    "The decoder fails for received words that fall into the “bad examples” region (the area with dotted lines). This happens in two key scenarios:\n",
    "\n",
    "- **Ambiguity (point $y$).** The received word $y$ has been corrupted such that it lies exactly halfway between two codewords, say $c_1$ and $c_4$. Its distance to both is exactly $\\delta/2$. Since there is no **unique** closest codeword, the decoder must give up.\n",
    "\n",
    "- **Decoding failure (point $z$).** The received word $z$ does not fall within the $\\delta/2$ decoding radius of **any** codeword. It exists in the interstitial space between them, and the decoder again declares a failure.\n",
    "\n",
    "\n",
    "### 1.4 The Path Forward: List Decoding\n",
    "\n",
    "The unique decoding model is pessimistic because the number of these “bad examples” is insignificant compared to the total volume of possible received words. However, the model’s strict requirement for a unique answer forces it to fail even in these rare cases.\n",
    "\n",
    "To overcome this, we relax the demand for a single candidate. This leads to **list decoding**, a paradigm where the decoder, instead of failing, returns a short list of all plausible codewords."
   ]
  },
  {
   "cell_type": "code",
   "execution_count": null,
   "id": "af40c60c-2f27-4acd-8c6b-a7defa6a11a9",
   "metadata": {},
   "outputs": [],
   "source": []
  }
 ],
 "metadata": {
  "kernelspec": {
   "display_name": "Python 3 (ipykernel)",
   "language": "python",
   "name": "python3"
  },
  "language_info": {
   "codemirror_mode": {
    "name": "ipython",
    "version": 3
   },
   "file_extension": ".py",
   "mimetype": "text/x-python",
   "name": "python",
   "nbconvert_exporter": "python",
   "pygments_lexer": "ipython3",
   "version": "3.12.5"
  }
 },
 "nbformat": 4,
 "nbformat_minor": 5
}
