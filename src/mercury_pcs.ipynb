{
 "cells": [
  {
   "cell_type": "code",
   "execution_count": 1,
   "metadata": {},
   "outputs": [],
   "source": [
    "from curve import Fr as Field, ec_mul, G1Point as G1\n",
    "from merlin.merlin_transcript import MerlinTranscript\n",
    "from mle2 import MLEPolynomial\n",
    "from utils import log_2, log_2_ceiling, is_power_of_two, prime_field_inv, Scalar\n",
    "from kzg10_non_hiding2 import Commitment, KZG10_PCS\n",
    "from curve import Fr as Field, G1Point as G1, G2Point as G2, ec_pairing_check\n",
    "from unipoly2 import UniPolynomial, UniPolynomialWithFft\n",
    "from typing import TypeVar, Union, Optional\n",
    "from random import Random, randint"
   ]
  },
  {
   "cell_type": "code",
   "execution_count": 2,
   "metadata": {},
   "outputs": [
    {
     "data": {
      "text/plain": [
       "Finite Field of size 21888242871839275222246405745257275088548364400416034343698204186575808495617"
      ]
     },
     "execution_count": 2,
     "metadata": {},
     "output_type": "execute_result"
    }
   ],
   "source": [
    "BN254_Fr = GF(Field.field_modulus); BN254_Fr"
   ]
  },
  {
   "cell_type": "code",
   "execution_count": 3,
   "metadata": {},
   "outputs": [],
   "source": [
    "Rp.<X> = BN254_Fr[]\n",
    "B_mono = [X^i for i in range(0, 1024)]\n",
    "def poly(cof, B=B_mono):\n",
    "    return reduce(lambda acc, e: acc + e, [BN254_Fr(int(a)) * b for a, b in zip(cof, B)])\n",
    "    \n",
    "def powers(u, k):\n",
    "    return [u^i for i in range(0, 2**k)]\n",
    "    \n",
    "def eval(f, D):\n",
    "    n = len(D)\n",
    "    k = log_2_ceiling(n)\n",
    "    return [poly(f, powers(D[i], k)) for i in range(0, n)]\n",
    "F = Field\n"
   ]
  },
  {
   "cell_type": "code",
   "execution_count": 4,
   "metadata": {},
   "outputs": [],
   "source": [
    "kzg_pcs = KZG10_PCS(G1, G2, Field, 20, debug=True)"
   ]
  },
  {
   "cell_type": "code",
   "execution_count": 5,
   "metadata": {},
   "outputs": [],
   "source": [
    "def commit(f: MLEPolynomial):\n",
    "    evals = f.evals\n",
    "    f_cm = kzg_pcs.commit(UniPolynomial(evals))\n",
    "    return f_cm"
   ]
  },
  {
   "cell_type": "code",
   "execution_count": 6,
   "metadata": {},
   "outputs": [],
   "source": [
    "tr = MerlinTranscript(b\"test-mercury-pcs\")"
   ]
  },
  {
   "cell_type": "code",
   "execution_count": 7,
   "metadata": {},
   "outputs": [
    {
     "data": {
      "text/plain": [
       "-13"
      ]
     },
     "execution_count": 7,
     "metadata": {},
     "output_type": "execute_result"
    }
   ],
   "source": [
    "f_mle = MLEPolynomial([F(int(1)), F(int(3)), F(int(2)), F(int(1)),\n",
    "                    F(int(2)), F(int(-2)), F(int(1)), F(int(0)),\n",
    "                    F(int(-1)), F(int(2)), F(int(3)), F(int(1)),\n",
    "                    F(int(3)), F(int(1)), F(int(-2)), F(int(3))], 4)\n",
    "f_cm = commit(f_mle)\n",
    "us = [F(int(2)), F(int(-1)), F(int(1)), F(int(-2))]\n",
    "v = f_mle.evaluate(us)\n",
    "v\n"
   ]
  },
  {
   "cell_type": "code",
   "execution_count": 8,
   "metadata": {},
   "outputs": [
    {
     "data": {
      "text/plain": [
       "([-2, 4, 1, -2], [0, 3, 0, -2])"
      ]
     },
     "execution_count": 8,
     "metadata": {},
     "output_type": "execute_result"
    }
   ],
   "source": [
    "k = f_mle.num_var\n",
    "us_l = us[:k//2]\n",
    "us_r = us[k//2:]\n",
    "vec_eq_l = MLEPolynomial.eqs_over_hypercube(us_l)\n",
    "vec_eq_r = MLEPolynomial.eqs_over_hypercube(us_r)\n",
    "n_l = len(vec_eq_l) # column\n",
    "n_r = len(vec_eq_r) # row\n",
    "vec_eq_l, vec_eq_r\n"
   ]
  },
  {
   "cell_type": "code",
   "execution_count": 9,
   "metadata": {},
   "outputs": [],
   "source": [
    "alpha = F(int(3))\n",
    "alpha_exp_4 = F(int(3^4))"
   ]
  },
  {
   "cell_type": "markdown",
   "metadata": {},
   "source": [
    "$$\n",
    "\\tilde{f}(X_0, X_1, X_2, X_3) = \n",
    "\\begin{bmatrix}\n",
    "1 & X_2 & X_3 & X_2X_3 \\\\\n",
    "\\end{bmatrix}\n",
    "\\begin{bmatrix}\n",
    "c_0 & c_1 & c_2 & c_3 \\\\\n",
    "c_4 & c_5 & c_6 & c_7 \\\\\n",
    "c_8 & c_9 & c_{10} & c_{11} \\\\\n",
    "c_{12} & c_{13} & c_{14} & c_{15}\n",
    "\\end{bmatrix}\n",
    "\\begin{bmatrix}\n",
    "1 \\\\\n",
    "X_0 \\\\\n",
    "X_1 \\\\\n",
    "X_0X_1 \\\\\n",
    "\\end{bmatrix}\n",
    "$$"
   ]
  },
  {
   "cell_type": "code",
   "execution_count": 10,
   "metadata": {},
   "outputs": [
    {
     "data": {
      "text/plain": [
       "[1, 3, 2, 1, 2, -2, 1, 0, -1, 2, 3, 1, 3, 1, -2, 3]"
      ]
     },
     "execution_count": 10,
     "metadata": {},
     "output_type": "execute_result"
    }
   ],
   "source": [
    "f_mle.evals"
   ]
  },
  {
   "cell_type": "code",
   "execution_count": 11,
   "metadata": {},
   "outputs": [
    {
     "data": {
      "text/plain": [
       "[[1, 3, 2, 1], [2, -2, 1, 0], [-1, 2, 3, 1], [3, 1, -2, 3]]"
      ]
     },
     "execution_count": 11,
     "metadata": {},
     "output_type": "execute_result"
    }
   ],
   "source": [
    "[f_mle.evals[i:i+4] for i in range(0, len(f_mle.evals), 4)]\n"
   ]
  },
  {
   "cell_type": "code",
   "execution_count": 12,
   "metadata": {},
   "outputs": [
    {
     "data": {
      "text/plain": [
       "[[1, 2, -1, 3], [3, -2, 2, 1], [2, 1, 3, -2], [1, 0, 1, 3]]"
      ]
     },
     "execution_count": 12,
     "metadata": {},
     "output_type": "execute_result"
    }
   ],
   "source": [
    "h_evals = []\n",
    "for j in range(n_l):\n",
    "    h_evals.append([f_mle.evals[j+i*n_l] for i in range(n_r)] )\n",
    "h_evals\n"
   ]
  },
  {
   "cell_type": "code",
   "execution_count": 13,
   "metadata": {},
   "outputs": [
    {
     "data": {
      "text/plain": [
       "([1, 2, -1, 3], [3, -2, 2, 1], [2, 1, 3, -2], [1, 0, 1, 3])"
      ]
     },
     "execution_count": 13,
     "metadata": {},
     "output_type": "execute_result"
    }
   ],
   "source": [
    "f0_mle = MLEPolynomial(h_evals[0], 2)\n",
    "f1_mle = MLEPolynomial(h_evals[1], 2)\n",
    "f2_mle = MLEPolynomial(h_evals[2], 2)\n",
    "f3_mle = MLEPolynomial(h_evals[3], 2)\n",
    "f0_mle.evals, f1_mle.evals, f2_mle.evals, f3_mle.evals\n"
   ]
  },
  {
   "cell_type": "code",
   "execution_count": 14,
   "metadata": {},
   "outputs": [],
   "source": [
    "f0_poly = poly(f0_mle.evals)\n",
    "f1_poly = poly(f1_mle.evals)\n",
    "f2_poly = poly(f2_mle.evals)\n",
    "f3_poly = poly(f3_mle.evals)\n"
   ]
  },
  {
   "cell_type": "code",
   "execution_count": 15,
   "metadata": {},
   "outputs": [
    {
     "data": {
      "text/plain": [
       "(1 + 3x + 2x^2 + x^3 + 2x^4 + -2x^5 + x^6 + -1x^8 + 2x^9 + 3x^10 + x^11 + 3x^12 + x^13 + -2x^14 + 3x^15,\n",
       " 37056988)"
      ]
     },
     "execution_count": 15,
     "metadata": {},
     "output_type": "execute_result"
    }
   ],
   "source": [
    "f0_uni = UniPolynomial(f0_mle.evals)\n",
    "f1_uni = UniPolynomial(f1_mle.evals)\n",
    "f2_uni = UniPolynomial(f2_mle.evals)\n",
    "f3_uni = UniPolynomial(f3_mle.evals)\n",
    "f_uni = UniPolynomial(f_mle.evals)\n",
    "f_uni, f_uni.evaluate(F(int(3)))"
   ]
  },
  {
   "cell_type": "code",
   "execution_count": 16,
   "metadata": {},
   "outputs": [
    {
     "data": {
      "text/plain": [
       "37056988"
      ]
     },
     "execution_count": 16,
     "metadata": {},
     "output_type": "execute_result"
    }
   ],
   "source": [
    "f0_uni.evaluate(F(int(3^4))) + F(int(3)) * f1_uni.evaluate(F(int(3^4))) + F(int(3^2)) * f2_uni.evaluate(F(int(3^4))) + F(int(3^3)) * f3_uni.evaluate(F(int(3^4)))"
   ]
  },
  {
   "cell_type": "code",
   "execution_count": 17,
   "metadata": {},
   "outputs": [
    {
     "data": {
      "text/plain": [
       "(3*X^15 + 21888242871839275222246405745257275088548364400416034343698204186575808495615*X^14 + X^13 + 3*X^12 + X^11 + 3*X^10 + 2*X^9 + 21888242871839275222246405745257275088548364400416034343698204186575808495616*X^8 + X^6 + 21888242871839275222246405745257275088548364400416034343698204186575808495615*X^5 + 2*X^4 + X^3 + 2*X^2 + 3*X + 1,\n",
       " 37056988)"
      ]
     },
     "execution_count": 17,
     "metadata": {},
     "output_type": "execute_result"
    }
   ],
   "source": [
    "f_poly = (f0_poly(X^4) + X*f1_poly(X^4) + X^2*f2_poly(X^4) + X^3*f3_poly(X^4))\n",
    "f_poly, f_poly(BN254_Fr(int(3)))\n"
   ]
  },
  {
   "cell_type": "code",
   "execution_count": 18,
   "metadata": {},
   "outputs": [
    {
     "data": {
      "text/plain": [
       "(3*X^11 + 21888242871839275222246405745257275088548364400416034343698204186575808495615*X^10 + X^9 + 3*X^8 + 10*X^7 + 21888242871839275222246405745257275088548364400416034343698204186575808495614*X^6 + 5*X^5 + 8*X^4 + 30*X^3 + 21888242871839275222246405745257275088548364400416034343698204186575808495609*X^2 + 13*X + 26,\n",
       " 91*X^3 + 21888242871839275222246405745257275088548364400416034343698204186575808495595*X^2 + 42*X + 79)"
      ]
     },
     "execution_count": 18,
     "metadata": {},
     "output_type": "execute_result"
    }
   ],
   "source": [
    "q_poly = f_poly // (X^4-3)\n",
    "r_poly = f_poly % (X^4-3)\n",
    "q_poly, r_poly\n"
   ]
  },
  {
   "cell_type": "code",
   "execution_count": 19,
   "metadata": {},
   "outputs": [
    {
     "data": {
      "text/plain": [
       "(475058, 2464)"
      ]
     },
     "execution_count": 19,
     "metadata": {},
     "output_type": "execute_result"
    }
   ],
   "source": [
    "q_poly(BN254_Fr(int(alpha))), r_poly(BN254_Fr(int(alpha)))"
   ]
  },
  {
   "cell_type": "code",
   "execution_count": 20,
   "metadata": {},
   "outputs": [
    {
     "data": {
      "text/plain": [
       "37056988"
      ]
     },
     "execution_count": 20,
     "metadata": {},
     "output_type": "execute_result"
    }
   ],
   "source": [
    "# Check if f[0..3] are correct\n",
    "x_uni = UniPolynomial([F(int(0)), F(int(1))])\n",
    "\n",
    "f_alt_eval_at_alpha = f0_uni.evaluate(alpha_exp_4) \\\n",
    "    + (f1_uni.evaluate(alpha_exp_4)*alpha) \\\n",
    "    + (f2_uni.evaluate(alpha_exp_4)*alpha*alpha) \\\n",
    "    + (f3_uni.evaluate(alpha_exp_4) * alpha*alpha*alpha)\n",
    "f_alt_eval_at_alpha"
   ]
  },
  {
   "cell_type": "code",
   "execution_count": 21,
   "metadata": {},
   "outputs": [
    {
     "data": {
      "text/plain": [
       "(26 + 8x + 3x^2,\n",
       " 79,\n",
       " 13 + 5x + x^2,\n",
       " 42,\n",
       " -8 + -3x + -2x^2,\n",
       " -22,\n",
       " 30 + 10x + 3x^2,\n",
       " 91)"
      ]
     },
     "execution_count": 21,
     "metadata": {},
     "output_type": "execute_result"
    }
   ],
   "source": [
    "q0_uni, r0 = f0_uni.div_by_linear_divisor(alpha)\n",
    "q1_uni, r1 = f1_uni.div_by_linear_divisor(alpha)\n",
    "q2_uni, r2 = f2_uni.div_by_linear_divisor(alpha)\n",
    "q3_uni, r3 = f3_uni.div_by_linear_divisor(alpha)\n",
    "q0_uni, r0, q1_uni, r1, q2_uni, r2, q3_uni, r3\n"
   ]
  },
  {
   "cell_type": "code",
   "execution_count": 22,
   "metadata": {},
   "outputs": [
    {
     "data": {
      "text/plain": [
       "(True, True, True, True)"
      ]
     },
     "execution_count": 22,
     "metadata": {},
     "output_type": "execute_result"
    }
   ],
   "source": [
    "r0 == f0_uni.evaluate(alpha), r1 == f1_uni.evaluate(alpha), r2 == f2_uni.evaluate(alpha), r3 == f3_uni.evaluate(alpha)\n"
   ]
  },
  {
   "cell_type": "code",
   "execution_count": 23,
   "metadata": {},
   "outputs": [
    {
     "data": {
      "text/plain": [
       "(475058, [26, 13, -8, 30, 8, 5, -3, 10, 3, 1, -2, 3])"
      ]
     },
     "execution_count": 23,
     "metadata": {},
     "output_type": "execute_result"
    }
   ],
   "source": [
    "# Construct q(X)\n",
    "#\n",
    "#   q(X) = q0(X^4) + X*q1(X^4) + X^2*q2(X^4) + X^3*q3(X^4)\n",
    "#   \n",
    "#  Or, the coefficients of q(X) are:\n",
    "#\n",
    "#   [q0[0], q1[0], q2[0], q3[0], \n",
    "#    q0[1], q1[1], q2[1], q3[1], \n",
    "#    q0[2], q1[2], q2[2], q3[2]]\n",
    "#\n",
    "#  Please note that deg(q) < 12\n",
    "\n",
    "q_coeffs = []\n",
    "for i in range(len(q0_uni.coeffs)):\n",
    "    q_coeffs.append(q0_uni.coeffs[i])\n",
    "    q_coeffs.append(q1_uni.coeffs[i])\n",
    "    q_coeffs.append(q2_uni.coeffs[i])\n",
    "    q_coeffs.append(q3_uni.coeffs[i])\n",
    "q_uni = UniPolynomial(q_coeffs)\n",
    "q_uni.evaluate(alpha), q_coeffs"
   ]
  },
  {
   "cell_type": "code",
   "execution_count": 24,
   "metadata": {},
   "outputs": [],
   "source": [
    "def compute_quotient(coeffs, k):\n",
    "    num_col = 2**k\n",
    "    num_row = len(coeffs) // num_col\n",
    "    print(f\"num_col: {num_col}, num_row: {num_row}\")\n",
    "\n",
    "    q_coeffs = [F.zero()] * (num_col * (num_row-1))\n",
    "    for j in range(num_col):\n",
    "        fi = coeffs[j::num_row]\n",
    "\n",
    "        qi, ri = UniPolynomial(fi).div_by_linear_divisor(alpha)\n",
    "        for i in range(num_row-1):\n",
    "            q_coeffs[j+i*num_row] = qi.coeffs[i]\n",
    "    return q_coeffs\n",
    "\n"
   ]
  },
  {
   "cell_type": "code",
   "execution_count": 25,
   "metadata": {},
   "outputs": [
    {
     "name": "stdout",
     "output_type": "stream",
     "text": [
      "num_col: 4, num_row: 4\n"
     ]
    },
    {
     "data": {
      "text/plain": [
       "[26, 13, -8, 30, 8, 5, -3, 10, 3, 1, -2, 3]"
      ]
     },
     "execution_count": 25,
     "metadata": {},
     "output_type": "execute_result"
    }
   ],
   "source": [
    "compute_quotient(f_uni.coeffs, 2)"
   ]
  },
  {
   "cell_type": "code",
   "execution_count": 26,
   "metadata": {},
   "outputs": [
    {
     "data": {
      "text/plain": [
       "475058"
      ]
     },
     "execution_count": 26,
     "metadata": {},
     "output_type": "execute_result"
    }
   ],
   "source": [
    "q_eval_at_alpha = q0_uni.evaluate(alpha_exp_4) \\\n",
    "    + (q1_uni.evaluate(alpha_exp_4)*alpha) \\\n",
    "    + (q2_uni.evaluate(alpha_exp_4)*alpha*alpha) \\\n",
    "    + (q3_uni.evaluate(alpha_exp_4) * alpha*alpha*alpha)\n",
    "q_eval_at_alpha"
   ]
  },
  {
   "cell_type": "code",
   "execution_count": 27,
   "metadata": {},
   "outputs": [],
   "source": [
    "def compute_product_poly(a: list[Field], b: list[Field]):\n",
    "    assert len(a) == len(b), \"Length of a and b must be the same\"\n",
    "    l = len(a)\n",
    "    s = [F.zero()] * (l-1)\n",
    "    dot_product = F.zero()\n",
    "    for i in range(l):\n",
    "        for j in range(l):\n",
    "            if abs(i-j) == 0:\n",
    "                dot_product += a[i] * b[j]\n",
    "            else:\n",
    "                s[abs(i-j)-1] += a[i] * b[j]\n",
    "    return s, dot_product"
   ]
  },
  {
   "cell_type": "code",
   "execution_count": 28,
   "metadata": {},
   "outputs": [],
   "source": [
    "def inner_product(a, b, z):\n",
    "    return sum([a[i] * b[i] for i in range(len(a))], z)"
   ]
  },
  {
   "cell_type": "code",
   "execution_count": 29,
   "metadata": {},
   "outputs": [
    {
     "data": {
      "text/plain": [
       "([37, 25, 17], 21, True)"
      ]
     },
     "execution_count": 29,
     "metadata": {},
     "output_type": "execute_result"
    }
   ],
   "source": [
    "a = [F(int(1)), F(int(2)), F(int(3)), F(int(4))]\n",
    "b = [F(int(4)), F(int(2)), F(int(3)), F(int(1))]\n",
    "a_uni = UniPolynomial(a)\n",
    "b_uni = UniPolynomial(b)\n",
    "s, v = compute_product_poly(a, b)\n",
    "s_uni = UniPolynomial(s)\n",
    "s, v, v == inner_product(a, b, F(int(0)))"
   ]
  },
  {
   "cell_type": "code",
   "execution_count": 30,
   "metadata": {},
   "outputs": [
    {
     "data": {
      "text/plain": [
       "True"
      ]
     },
     "execution_count": 30,
     "metadata": {},
     "output_type": "execute_result"
    }
   ],
   "source": [
    "# Check if s(X) is correct\n",
    "#\n",
    "#    a(X)b(1/X) + a(1/X)b(X) = 2v + X*s(X) + (1/X)*s(1/X)\n",
    "#\n",
    "z = F.rand()\n",
    "z_inv = int(1)/z\n",
    "# a_uni.evaluate(z) * b_uni.evaluate(z_inv), F(int(2)) * v\n",
    "a_uni.evaluate(z) * b_uni.evaluate(z_inv) + a_uni.evaluate(z_inv) * b_uni.evaluate(z) \\\n",
    "    == F(int(2))*v + z*s_uni.evaluate(z) + z_inv*s_uni.evaluate(z_inv)"
   ]
  },
  {
   "cell_type": "code",
   "execution_count": 31,
   "metadata": {},
   "outputs": [
    {
     "data": {
      "text/plain": [
       "[26, 13, -8, 30, 8, 5, -3, 10, 3, 1, -2, 3]"
      ]
     },
     "execution_count": 31,
     "metadata": {},
     "output_type": "execute_result"
    }
   ],
   "source": [
    "q_coeffs = []\n",
    "for i in range(len(q0_uni.coeffs)):\n",
    "    q_coeffs.append(q0_uni.coeffs[i])\n",
    "    q_coeffs.append(q1_uni.coeffs[i])\n",
    "    q_coeffs.append(q2_uni.coeffs[i])\n",
    "    q_coeffs.append(q3_uni.coeffs[i])\n",
    "q_coeffs"
   ]
  },
  {
   "cell_type": "code",
   "execution_count": 32,
   "metadata": {},
   "outputs": [
    {
     "data": {
      "text/plain": [
       "([26, 13, -8, 30, 8, 5, -3, 10, 3, 1, -2, 3], [79, 42, -22, 91])"
      ]
     },
     "execution_count": 32,
     "metadata": {},
     "output_type": "execute_result"
    }
   ],
   "source": [
    "q, r = UniPolynomial.polynomial_division_with_remainder(f_uni.coeffs, \n",
    "                        [-alpha, F(int(0)), F(int(0)), F(int(0)), F(int(1))])\n",
    "q, r"
   ]
  },
  {
   "cell_type": "code",
   "execution_count": 33,
   "metadata": {},
   "outputs": [],
   "source": [
    "r_uni = UniPolynomial(r)"
   ]
  },
  {
   "cell_type": "code",
   "execution_count": 34,
   "metadata": {},
   "outputs": [
    {
     "data": {
      "text/plain": [
       "2464"
      ]
     },
     "execution_count": 34,
     "metadata": {},
     "output_type": "execute_result"
    }
   ],
   "source": [
    "r_uni.evaluate(F(int(3)))"
   ]
  },
  {
   "cell_type": "code",
   "execution_count": 35,
   "metadata": {},
   "outputs": [
    {
     "data": {
      "text/plain": [
       "(4 + x^2 + 4x^3, 3 + 6x + -3x^2 + 9x^3)"
      ]
     },
     "execution_count": 35,
     "metadata": {},
     "output_type": "execute_result"
    }
   ],
   "source": [
    "f0_uni + f1_uni, Scalar(F(int(3))) * f0_uni\n"
   ]
  },
  {
   "cell_type": "code",
   "execution_count": 36,
   "metadata": {},
   "outputs": [
    {
     "data": {
      "text/plain": [
       "10 + -11x + 11x^2 + -10x^3"
      ]
     },
     "execution_count": 36,
     "metadata": {},
     "output_type": "execute_result"
    }
   ],
   "source": [
    "h = Scalar(vec_eq_l[0]) * f0_uni + Scalar(vec_eq_l[1]) * f1_uni  \\\n",
    "    + Scalar(vec_eq_l[2]) * f2_uni + Scalar(vec_eq_l[3]) * f3_uni\n",
    "h"
   ]
  },
  {
   "cell_type": "code",
   "execution_count": 37,
   "metadata": {},
   "outputs": [
    {
     "data": {
      "text/plain": [
       "(MLEPolynomial([1, 2, -1, 3], 2), MLEPolynomial([-1, -2, 1, -3], 2))"
      ]
     },
     "execution_count": 37,
     "metadata": {},
     "output_type": "execute_result"
    }
   ],
   "source": [
    "f0_mle, -f0_mle"
   ]
  },
  {
   "cell_type": "code",
   "execution_count": 38,
   "metadata": {},
   "outputs": [
    {
     "data": {
      "text/plain": [
       "(MLEPolynomial([-2, 4, -3, 2], 2),\n",
       " MLEPolynomial([1, 2, -1, 3], 2),\n",
       " MLEPolynomial([3, -2, 2, 1], 2))"
      ]
     },
     "execution_count": 38,
     "metadata": {},
     "output_type": "execute_result"
    }
   ],
   "source": [
    "f0_mle - f1_mle, f0_mle, f1_mle"
   ]
  },
  {
   "cell_type": "code",
   "execution_count": 39,
   "metadata": {},
   "outputs": [
    {
     "data": {
      "text/plain": [
       "-13"
      ]
     },
     "execution_count": 39,
     "metadata": {},
     "output_type": "execute_result"
    }
   ],
   "source": [
    "v = f_mle.evaluate(us)\n",
    "v"
   ]
  },
  {
   "cell_type": "markdown",
   "metadata": {},
   "source": [
    "## 2. Prove evaluation"
   ]
  },
  {
   "cell_type": "code",
   "execution_count": 40,
   "metadata": {},
   "outputs": [],
   "source": [
    "debug = 1\n",
    "transcript = MerlinTranscript(b\"test-mercury-pcs\")\n",
    "transcript.absorb(b\"commitment\", f_cm.cm)\n",
    "transcript.absorb(b\"point\", us)\n",
    "transcript.absorb(b\"value\", v)\n"
   ]
  },
  {
   "cell_type": "markdown",
   "metadata": {},
   "source": [
    "### Step 1\n",
    "\n",
    "1. compute $h(X)$\n",
    "2. commit $h(X)$"
   ]
  },
  {
   "cell_type": "code",
   "execution_count": 41,
   "metadata": {},
   "outputs": [
    {
     "data": {
      "text/plain": [
       "([-2, 4, 1, -2], [0, 3, 0, -2])"
      ]
     },
     "execution_count": 41,
     "metadata": {},
     "output_type": "execute_result"
    }
   ],
   "source": [
    "\n",
    "k = f_mle.num_var\n",
    "us_l = us[:k//2]\n",
    "us_r = us[k//2:]\n",
    "vec_eq_l = MLEPolynomial.eqs_over_hypercube(us_l)\n",
    "vec_eq_r = MLEPolynomial.eqs_over_hypercube(us_r)\n",
    "n_l = len(vec_eq_l) # column\n",
    "n_r = len(vec_eq_r) # row\n",
    "vec_eq_l, vec_eq_r"
   ]
  },
  {
   "cell_type": "code",
   "execution_count": 42,
   "metadata": {},
   "outputs": [
    {
     "data": {
      "text/plain": [
       "Commitment((341203988594841721703751627390561602518991312853592249390238506514023511558, 4570164882443154697207366432674390476737733102807743213900207502309583215167))"
      ]
     },
     "execution_count": 42,
     "metadata": {},
     "output_type": "execute_result"
    }
   ],
   "source": [
    "# Compute h(X)\n",
    "h_coeffs = []\n",
    "for i in range(n_r):\n",
    "    h_coeffs.append(sum([f_mle.evals[i*n_l+j] * vec_eq_l[j] for j in range(n_r)], F(int(0))))\n",
    "h_uni = UniPolynomial(h_coeffs)\n",
    "h_cm = kzg_pcs.commit(h_uni)\n",
    "transcript.absorb(b\"h_cm\", h_cm.cm)\n",
    "h_cm"
   ]
  },
  {
   "cell_type": "code",
   "execution_count": 43,
   "metadata": {},
   "outputs": [
    {
     "name": "stdout",
     "output_type": "stream",
     "text": [
      "P> check: folded polynomial h(X)\n",
      "P> check: folded polynomial h(X) passed\n"
     ]
    }
   ],
   "source": [
    "if debug > 0:\n",
    "    print(f\"P> check: folded polynomial h(X)\")\n",
    "    coeffs = f_mle.evals\n",
    "    eqs = MLEPolynomial.eqs_over_hypercube(us)\n",
    "    lhs = inner_product(h_coeffs, vec_eq_r, F(int(0))) \n",
    "    rhs = inner_product(coeffs, eqs, F(int(0)))\n",
    "    assert lhs == rhs, f\"lhs: {lhs}, rhs: {rhs}\"\n",
    "    print(f\"P> check: folded polynomial h(X) passed\")\n"
   ]
  },
  {
   "cell_type": "markdown",
   "metadata": {},
   "source": [
    "### Step 2\n",
    "\n",
    "- (a). get $\\alpha\\in\\mathbb{F}_p$ from the verifier\n",
    "- (b). compute $q(X)$ and $g(X)$, s.t.\n",
    "\n",
    "$$\n",
    "f(X) = (X^b - \\alpha) * q(X) + g(X)\n",
    "$$"
   ]
  },
  {
   "cell_type": "code",
   "execution_count": 44,
   "metadata": {},
   "outputs": [
    {
     "data": {
      "text/plain": [
       "66954866"
      ]
     },
     "execution_count": 44,
     "metadata": {},
     "output_type": "execute_result"
    }
   ],
   "source": [
    "# Step 2\n",
    "\n",
    "alpha = transcript.squeeze(Field, b\"alpha\", 4)\n",
    "alpha"
   ]
  },
  {
   "cell_type": "code",
   "execution_count": 45,
   "metadata": {},
   "outputs": [],
   "source": [
    "def div_by_quadratic_binomial(coeffs, alpha, k):\n",
    "    num_col = 2**k\n",
    "    num_row = len(coeffs) // num_col\n",
    "    print(f\"num_col: {num_col}, num_row: {num_row}\")\n",
    "\n",
    "    q_coeffs = [F.zero()] * (num_col * (num_row-1))\n",
    "    r_coeffs = [F.zero()] * num_col\n",
    "    for j in range(num_col):\n",
    "        fi = coeffs[j::num_row]\n",
    "        qi, ri = UniPolynomial(fi).div_by_linear_divisor(alpha)\n",
    "        for i in range(num_row-1):\n",
    "            q_coeffs[j+i*num_row] = qi.coeffs[i]\n",
    "        r_coeffs[j] = ri\n",
    "    return q_coeffs, r_coeffs"
   ]
  },
  {
   "cell_type": "code",
   "execution_count": 46,
   "metadata": {},
   "outputs": [
    {
     "name": "stdout",
     "output_type": "stream",
     "text": [
      "num_col: 4, num_row: 4\n"
     ]
    },
    {
     "data": {
      "text/plain": [
       "(Commitment((6873374277395425445538081471403900421153044372429899318315463318322988015074, 16690292592350444777928793433203390570537489251096203454692664097972278279727)),\n",
       " Commitment((12744849022295298739892606625958984031642490183242839912364573373366770170425, 10807392124513062104048213661706791445849571919278941606978474073386634973494)))"
      ]
     },
     "execution_count": 46,
     "metadata": {},
     "output_type": "execute_result"
    }
   ],
   "source": [
    "# Compute q(X) and g(X)\n",
    "\n",
    "q_coeffs, g_coeffs = div_by_quadratic_binomial(f_mle.evals, alpha, 2)\n",
    "q_uni = UniPolynomial(q_coeffs)\n",
    "g_uni = UniPolynomial(g_coeffs)\n",
    "q_cm = kzg_pcs.commit(q_uni)\n",
    "g_cm = kzg_pcs.commit(g_uni)\n",
    "q_cm, g_cm"
   ]
  },
  {
   "cell_type": "code",
   "execution_count": 47,
   "metadata": {},
   "outputs": [
    {
     "name": "stdout",
     "output_type": "stream",
     "text": [
      "P> check: quotient polynomial q(X) and remainder polynomial g(X)\n",
      "P> check: quotient polynomial q(X) passed\n",
      "P> check: remainder polynomial g(X) passed\n"
     ]
    }
   ],
   "source": [
    "if debug > 0:\n",
    "    print(f\"P> check: quotient polynomial q(X) and remainder polynomial g(X)\")\n",
    "    q, r = UniPolynomial.polynomial_division_with_remainder(f_mle.evals, \n",
    "                            [-alpha, F(int(0)),  F(int(0)), F(int(0)), F(int(1))])\n",
    "    assert q == q_coeffs, f\"q: {q}, q_coeffs: {q_coeffs}\"\n",
    "    print(f\"P> check: quotient polynomial q(X) passed\")\n",
    "    assert r == g_coeffs, f\"r: {r}, r_coeffs: {g_coeffs}\"\n",
    "    print(f\"P> check: remainder polynomial g(X) passed\")"
   ]
  },
  {
   "cell_type": "code",
   "execution_count": 48,
   "metadata": {},
   "outputs": [],
   "source": [
    "# Commit and send q(X) and g(X)\n",
    "\n",
    "transcript.absorb(b\"q_cm\", q_cm.cm)\n",
    "transcript.absorb(b\"g_cm\", g_cm.cm)"
   ]
  },
  {
   "cell_type": "markdown",
   "metadata": {},
   "source": [
    "### Step 3\n",
    "\n",
    "- (a). Get $\\gamma\\in\\mathbb{F}_p$ from the verifier\n",
    "- (b). Compute $s(X)$ and send its commitment $C_s$\n",
    "- (c). Compute $d(X)$ and send its commitment $C_d$\n",
    "\n"
   ]
  },
  {
   "cell_type": "code",
   "execution_count": 75,
   "metadata": {},
   "outputs": [
    {
     "data": {
      "text/plain": [
       "(89040678, <class 'curve.Fr'>)"
      ]
     },
     "execution_count": 75,
     "metadata": {},
     "output_type": "execute_result"
    }
   ],
   "source": [
    "gamma = transcript.squeeze(Field, b\"gamma\", 4)\n",
    "gamma, type(gamma)"
   ]
  },
  {
   "cell_type": "code",
   "execution_count": 50,
   "metadata": {},
   "outputs": [],
   "source": [
    "def compute_product_poly(a: list[Field], b: list[Field]):\n",
    "    assert len(a) == len(b), \"Length of a and b must be the same\"\n",
    "    l = len(a)\n",
    "    s = [F.zero()] * (l-1)\n",
    "    dot_product = F.zero()\n",
    "    for i in range(l):\n",
    "        for j in range(l):\n",
    "            if abs(i-j) == 0:\n",
    "                dot_product += a[i] * b[j]\n",
    "            else:\n",
    "                s[abs(i-j)-1] += a[i] * b[j]\n",
    "    return s, dot_product"
   ]
  },
  {
   "cell_type": "code",
   "execution_count": 76,
   "metadata": {},
   "outputs": [
    {
     "data": {
      "text/plain": [
       "Commitment((196218153828482921355178233114718791152912307737878072738063461265417166874, 394014398374792061255415805359155323151193649000371028071552966415569233135))"
      ]
     },
     "execution_count": 76,
     "metadata": {},
     "output_type": "execute_result"
    }
   ],
   "source": [
    "# Compute s1(X) and s2(X), and send [s(X)]\n",
    "#\n",
    "#  where s(X) = s1(X) + gamma * s2(X)\n",
    "\n",
    "s1_coeffs, v1 = compute_product_poly(g_coeffs, vec_eq_l)\n",
    "s2_coeffs, v2 = compute_product_poly(h_coeffs, vec_eq_r)\n",
    "s1_uni = UniPolynomial(s1_coeffs)\n",
    "s2_uni = UniPolynomial(s2_coeffs)\n",
    "s_uni = s1_uni + Scalar(gamma) * s2_uni\n",
    "s_cm = kzg_pcs.commit(s_uni)\n",
    "s_cm"
   ]
  },
  {
   "cell_type": "code",
   "execution_count": 77,
   "metadata": {},
   "outputs": [
    {
     "name": "stdout",
     "output_type": "stream",
     "text": [
      "P> check: s1(X) and s2(X)\n",
      "P> check: s1(X) passed\n",
      "P> check: s2(X) passed\n"
     ]
    }
   ],
   "source": [
    "if debug > 0:\n",
    "    print(f\"P> check: s1(X) and s2(X)\")\n",
    "    assert v2 == v, f\"v2: {v2}, v: {v}\"\n",
    "    assert v1 == h_uni.evaluate(alpha), f\"v1: {v1}, h_uni.evaluate(alpha): {h_uni.evaluate(alpha)}\"\n",
    "    z = F.rand()\n",
    "    z_inv = int(1)/z\n",
    "    g_uni = UniPolynomial(g_coeffs)\n",
    "    p1_uni = UniPolynomial(vec_eq_l)\n",
    "    h_uni = UniPolynomial(h_coeffs)\n",
    "    p2_uni = UniPolynomial(vec_eq_r)\n",
    "    s1_uni = UniPolynomial(s1_coeffs)\n",
    "    s2_uni = UniPolynomial(s2_coeffs)\n",
    "    assert g_uni.evaluate(z) * p1_uni.evaluate(z_inv) + g_uni.evaluate(z_inv) * p1_uni.evaluate(z) \\\n",
    "        == F(int(2))*v1 + z*s1_uni.evaluate(z) + z_inv*s1_uni.evaluate(z_inv)\n",
    "    print(f\"P> check: s1(X) passed\")\n",
    "    assert h_uni.evaluate(z) * p2_uni.evaluate(z_inv) + h_uni.evaluate(z_inv) * p2_uni.evaluate(z) \\\n",
    "        == F(int(2))*v2 + z*s2_uni.evaluate(z) + z_inv*s2_uni.evaluate(z_inv)\n",
    "    print(f\"P> check: s2(X) passed\")\n",
    "\n"
   ]
  },
  {
   "cell_type": "code",
   "execution_count": 78,
   "metadata": {},
   "outputs": [
    {
     "data": {
      "text/plain": [
       "Commitment((411548608121372520815472318385633818999017454145389265932878881921792672285, 11683702693697689722457230903516371286641048263922663281742983635724242819079))"
      ]
     },
     "execution_count": 78,
     "metadata": {},
     "output_type": "execute_result"
    }
   ],
   "source": [
    "# Compute d(X) where d(X) = X^{l-1} * g(1/X)\n",
    "\n",
    "d_coeffs = g_coeffs[::-1]\n",
    "d_uni = UniPolynomial(d_coeffs)\n",
    "d_cm = kzg_pcs.commit(d_uni)\n",
    "d_cm"
   ]
  },
  {
   "cell_type": "code",
   "execution_count": 79,
   "metadata": {},
   "outputs": [
    {
     "name": "stdout",
     "output_type": "stream",
     "text": [
      "P> check: d(X)\n",
      "P> check: d(X) passed\n"
     ]
    }
   ],
   "source": [
    "if debug > 0:\n",
    "    print(f\"P> check: d(X)\")\n",
    "    z = F.rand()\n",
    "    z_inv = int(1)/z\n",
    "    d_uni = UniPolynomial(d_coeffs)\n",
    "    g_uni = UniPolynomial(g_coeffs)\n",
    "    lhs = d_uni.evaluate(z)\n",
    "    assert lhs == z^(int(n_l)-int(1)) * g_uni.evaluate(z_inv)\n",
    "    print(f\"P> check: d(X) passed\")"
   ]
  },
  {
   "cell_type": "code",
   "execution_count": 80,
   "metadata": {},
   "outputs": [],
   "source": [
    "transcript.absorb(b\"s_cm\", s_cm.cm)\n",
    "transcript.absorb(b\"d_cm\", d_cm.cm)"
   ]
  },
  {
   "cell_type": "markdown",
   "metadata": {},
   "source": [
    "### Step 4\n",
    "\n",
    "- (a). Get $\\zeta\\in\\mathbb{F}_p$ from the verifier\n",
    "- (b). Compute and send $g(\\zeta), g(1/\\zeta), h(\\zeta), h(1/\\zeta), s(\\zeta), s(1/\\zeta)$ and send them to the verifier\n",
    "- (c). Compute the quotient polynomial $t(X)$ and send its commitment $C_t$ \n",
    "\n",
    "$$\n",
    "t(X) = \\frac{f(X) - q(X)(z^b - \\alpha) - g(\\zeta)}{X - \\zeta}\n",
    "$$\n"
   ]
  },
  {
   "cell_type": "code",
   "execution_count": 81,
   "metadata": {},
   "outputs": [],
   "source": [
    "zeta = transcript.squeeze(Field, b\"zeta\", 4)\n",
    "zeta_inv = zeta.inv()"
   ]
  },
  {
   "cell_type": "code",
   "execution_count": 82,
   "metadata": {},
   "outputs": [],
   "source": [
    "g_at_zeta = g_uni.evaluate(zeta)\n",
    "g_at_zeta_inv = g_uni.evaluate(zeta_inv)\n",
    "h_at_zeta = h_uni.evaluate(zeta)\n",
    "h_at_zeta_inv = h_uni.evaluate(zeta_inv)\n",
    "s_at_zeta = s_uni.evaluate(zeta)\n",
    "s_at_zeta_inv = s_uni.evaluate(zeta_inv)"
   ]
  },
  {
   "cell_type": "code",
   "execution_count": 88,
   "metadata": {},
   "outputs": [
    {
     "data": {
      "text/plain": [
       "-320010484181115610812123662559302472706056545349919408 + -103508575654681906348588614540275275117858512989098647x + 207017140487745510874267438536765553073217321966678577x^2 + -310525719234318449659817744109557372277347152542366849x^3 + -4637836421663923373260987705813334791825921673x^4 + -1545945527763164405815148009344596766480018702x^5 + 3091890893900758967445839696468738025345902976x^6 + -4637836467842657614456546655019179222572817225x^7 + -69268101361793338423808766646120343326x^8 + -23089367120597779474602922215373447773x^9 + 46178734241195558949205844430746895553x^10 + -69268101361793338423808766646120343324x^11 + 3x^12 + x^13 + -2x^14 + 3x^15"
      ]
     },
     "execution_count": 88,
     "metadata": {},
     "output_type": "execute_result"
    }
   ],
   "source": [
    "u = f_uni - q_uni * Scalar(zeta^n_l - alpha) - Scalar(g_at_zeta)\n",
    "u"
   ]
  },
  {
   "cell_type": "code",
   "execution_count": 89,
   "metadata": {},
   "outputs": [
    {
     "data": {
      "text/plain": [
       "(Commitment((7564077621549655343295293161727763898648355577163371329825382307061906824629, 20961728419572618406325587578344293151556639381818099483799713097095237121275)),\n",
       " 0)"
      ]
     },
     "execution_count": 89,
     "metadata": {},
     "output_type": "execute_result"
    }
   ],
   "source": [
    "t_uni, t_eval = u.div_by_linear_divisor(zeta)\n",
    "t_cm = kzg_pcs.commit(t_uni)\n",
    "t_cm, t_eval\n"
   ]
  },
  {
   "cell_type": "code",
   "execution_count": 90,
   "metadata": {},
   "outputs": [
    {
     "name": "stdout",
     "output_type": "stream",
     "text": [
      "P> check: quotient polynomial t(X)\n",
      "P> check: quotient polynomial t(X) passed\n"
     ]
    }
   ],
   "source": [
    "if debug > 0:\n",
    "    print(f\"P> check: quotient polynomial t(X)\")\n",
    "    assert t_eval == Field.zero(), f\"t_eval: {t_eval}\"\n",
    "    z = F.rand()\n",
    "    t_z = t_uni.evaluate(z)\n",
    "    f_z = f_uni.evaluate(z)\n",
    "    q_z = q_uni.evaluate(z)\n",
    "    assert t_z * (z - zeta) == f_z - q_z * (zeta^n_l - alpha) - g_at_zeta\n",
    "    print(f\"P> check: quotient polynomial t(X) passed\")\n"
   ]
  },
  {
   "cell_type": "code",
   "execution_count": 92,
   "metadata": {},
   "outputs": [
    {
     "name": "stdout",
     "output_type": "stream",
     "text": [
      "P> check: C_t\n",
      "type(lhs1)= <class 'curve.G1Point'>, type(lhs2)= <class 'curve.G2Point'>, type(rhs1)= <class 'curve.G1Point'>, type(rhs2)= <class 'curve.G2Point'>\n",
      "P> check: C_t passed\n"
     ]
    }
   ],
   "source": [
    "if debug > 0:\n",
    "    print(f\"P> check: C_t\")\n",
    "    g_G1 = kzg_pcs.params['g']\n",
    "    h_G2 = kzg_pcs.params['h']\n",
    "    h_tau_G2 = kzg_pcs.params['tau_h']\n",
    "    lhs1 = f_cm.cm + t_cm.cm.ec_mul(zeta) - q_cm.cm.ec_mul(zeta^n_l - alpha) - g_G1.ec_mul(g_at_zeta)\n",
    "    lhs2 = h_G2\n",
    "    rhs1 = t_cm.cm\n",
    "    rhs2 = h_tau_G2\n",
    "    print(f\"type(lhs1)= {type(lhs1)}, type(lhs2)= {type(lhs2)}, type(rhs1)= {type(rhs1)}, type(rhs2)= {type(rhs2)}\")\n",
    "    checked = ec_pairing_check([lhs1, rhs1], [-lhs2, rhs2])\n",
    "    assert checked, \"C_t is not valid\"\n",
    "    print(f\"P> check: C_t passed\")\n"
   ]
  },
  {
   "cell_type": "code",
   "execution_count": 93,
   "metadata": {},
   "outputs": [],
   "source": [
    "transcript.absorb(b\"t_cm\", t_cm.cm)\n",
    "transcript.absorb(b\"g_at_zeta\", g_at_zeta)\n",
    "transcript.absorb(b\"g_at_zeta_inv\", g_at_zeta_inv)\n",
    "transcript.absorb(b\"h_at_zeta\", h_at_zeta)\n",
    "transcript.absorb(b\"h_at_zeta_inv\", h_at_zeta_inv)\n",
    "transcript.absorb(b\"s_at_zeta\", s_at_zeta)\n",
    "transcript.absorb(b\"s_at_zeta_inv\", s_at_zeta_inv)"
   ]
  },
  {
   "cell_type": "markdown",
   "metadata": {},
   "source": [
    "### Step 5\n",
    "\n",
    "Aggregate the evaluation proofs"
   ]
  },
  {
   "cell_type": "code",
   "execution_count": 94,
   "metadata": {},
   "outputs": [
    {
     "data": {
      "text/plain": [
       "({'w_cm': Commitment((15522446906494288407282696648261850622287101021721313436696028069912532784720, 603214464022950610669451026422499576356824841616091783390441425826994905145))},\n",
       " {'w_cm': Commitment((21807297083416410354924359503853066118819031366858090987581267815333402259120, 3665392969967324964834023121604975099446719084408716190589686241189390173360))},\n",
       " {'w_cm': Commitment((19277402036953961621331476720166919837657448960632489771751307109877544454558, 14785722924673158890380759949870394812979469962011416906141661546783155852289))})"
      ]
     },
     "execution_count": 94,
     "metadata": {},
     "output_type": "execute_result"
    }
   ],
   "source": [
    "# Aggregate the evaluation proofs\n",
    "\n",
    "eta = transcript.squeeze(Field, b\"eta\", 4)\n",
    "\n",
    "a_uni = g_uni + Scalar(eta) * h_uni + Scalar(eta*eta) * s_uni\n",
    "a_at_zeta_inv, a_at_zeta_inv_arg = kzg_pcs.prove_evaluation(a_uni, zeta_inv)\n",
    "\n",
    "a_uni += Scalar(eta*eta*eta) * d_uni\n",
    "a_at_zeta, a_at_zeta_arg = kzg_pcs.prove_evaluation(a_uni, zeta)\n",
    "\n",
    "h_uni_at_alpha, h_at_alpha_arg = kzg_pcs.prove_evaluation(h_uni, alpha)\n",
    "a_at_zeta_arg, a_at_zeta_inv_arg, h_at_alpha_arg\n",
    "\n"
   ]
  },
  {
   "cell_type": "code",
   "execution_count": 96,
   "metadata": {},
   "outputs": [
    {
     "name": "stdout",
     "output_type": "stream",
     "text": [
      "P> check: h(alpha)\n",
      "P> check: h(alpha) passed\n"
     ]
    }
   ],
   "source": [
    "if debug > 0:\n",
    "    print(f\"P> check: h(alpha)\")\n",
    "    p1_uni = UniPolynomial(vec_eq_l)\n",
    "    p2_uni = UniPolynomial(vec_eq_r)\n",
    "    p1_at_zeta = p1_uni.evaluate(zeta)\n",
    "    p2_at_zeta = p2_uni.evaluate(zeta)\n",
    "    p1_at_zeta_inv = p1_uni.evaluate(zeta_inv)\n",
    "    p2_at_zeta_inv = p2_uni.evaluate(zeta_inv)\n",
    "    h_alpha = (h_at_zeta * p2_at_zeta_inv) + (h_at_zeta_inv * p2_at_zeta) - v - v\n",
    "    h_alpha *= gamma \n",
    "    h_alpha += (g_at_zeta * p1_at_zeta_inv) + (g_at_zeta_inv * p1_at_zeta)\n",
    "    h_alpha -= zeta * s_at_zeta + zeta_inv * s_at_zeta_inv\n",
    "\n",
    "    d_at_zeta = zeta^(int(n_l-1)) * g_at_zeta_inv\n",
    "    assert d_at_zeta == d_uni.evaluate(zeta), f\"d_at_zeta: {d_at_zeta}, d_uni.evaluate(zeta): {d_uni.evaluate(zeta)}\"\n",
    "    assert h_uni_at_alpha * Field(int(2)) == h_alpha, f\"h_uni_at_alpha: {h_uni_at_alpha}, h_alpha: {h_alpha}\"\n",
    "    print(f\"P> check: h(alpha) passed\")\n"
   ]
  },
  {
   "cell_type": "code",
   "execution_count": 98,
   "metadata": {},
   "outputs": [
    {
     "name": "stdout",
     "output_type": "stream",
     "text": [
      "P> check: aggregate evaluation proofs\n",
      "P> check: aggregate evaluation proofs passed\n"
     ]
    }
   ],
   "source": [
    "if debug > 0:\n",
    "    print(f\"P> check: aggregate evaluation proofs\")\n",
    "    C_a = g_cm.cm + h_cm.cm.ec_mul(eta) + s_cm.cm.ec_mul(eta*eta) \n",
    "    checked1 = kzg_pcs.verify_evaluation(Commitment(C_a), zeta_inv, a_at_zeta_inv, a_at_zeta_inv_arg)\n",
    "    C_a += d_cm.cm.ec_mul(eta*eta*eta)\n",
    "    checked2 = kzg_pcs.verify_evaluation(Commitment(C_a), zeta, a_at_zeta, a_at_zeta_arg)\n",
    "    assert checked1 and checked2, f\"checked1: {checked1}, checked2: {checked2}\"\n",
    "    checked3 = kzg_pcs.verify_evaluation(h_cm, alpha, h_uni_at_alpha, h_at_alpha_arg)\n",
    "    assert checked3, f\"checked3: {checked3}\"\n",
    "    print(f\"P> check: aggregate evaluation proofs passed\")"
   ]
  },
  {
   "cell_type": "code",
   "execution_count": 101,
   "metadata": {},
   "outputs": [
    {
     "data": {
      "text/plain": [
       "456432506869271084770462484798"
      ]
     },
     "execution_count": 101,
     "metadata": {},
     "output_type": "execute_result"
    }
   ],
   "source": [
    "ff = UniPolynomial([F(int(2)), F(int(6)), F(int(10)), F(int(14))])\n",
    "ff.evaluate(F(int(3194597718)))\n"
   ]
  },
  {
   "cell_type": "code",
   "execution_count": null,
   "metadata": {},
   "outputs": [],
   "source": []
  }
 ],
 "metadata": {
  "kernelspec": {
   "display_name": "SageMath 10.4",
   "language": "sage",
   "name": "SageMath-10.4"
  },
  "language_info": {
   "codemirror_mode": {
    "name": "ipython",
    "version": 3
   },
   "file_extension": ".py",
   "mimetype": "text/x-python",
   "name": "python",
   "nbconvert_exporter": "python",
   "pygments_lexer": "ipython3",
   "version": "3.12.4"
  }
 },
 "nbformat": 4,
 "nbformat_minor": 2
}
