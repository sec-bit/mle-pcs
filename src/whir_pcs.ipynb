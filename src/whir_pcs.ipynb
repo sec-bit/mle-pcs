{
 "cells": [
  {
   "cell_type": "code",
   "execution_count": 1,
   "metadata": {
    "vscode": {
     "languageId": "python"
    }
   },
   "outputs": [],
   "source": [
    "F193 = GF(64*3+1)\n",
    "TWO_ADICITY = 6\n",
    "ORDER = 64*3+1\n",
    "MULTIPLICATIVE_GENERATOR = F193.primitive_element()\n",
    "ROOT_OF_UNITY = F193(MULTIPLICATIVE_GENERATOR**3) # 125\n",
    "F193.primitive_element()\n",
    "R193.<X, A, B, X0, X1, X2, X3, X4, X5, A0, A1, A2, A3, A4, A5, A6, A7, A8, A9, A10, A11, A12, A13, A14, A15> = PolynomialRing(F193)"
   ]
  },
  {
   "cell_type": "code",
   "execution_count": 2,
   "metadata": {
    "vscode": {
     "languageId": "python"
    }
   },
   "outputs": [],
   "source": [
    "from typing import Union, Optional, TypeVar\n",
    "from random import randint, Random\n",
    "from utils import prime_field_inv, is_power_of_two, log_2, next_power_of_two, bit_reverse, Scalar, inner_product\n"
   ]
  },
  {
   "cell_type": "code",
   "execution_count": 3,
   "metadata": {
    "vscode": {
     "languageId": "python"
    }
   },
   "outputs": [],
   "source": [
    "from ff.tiny import F193\n",
    "Fp = F193"
   ]
  },
  {
   "cell_type": "code",
   "execution_count": 4,
   "metadata": {
    "vscode": {
     "languageId": "python"
    }
   },
   "outputs": [],
   "source": [
    "# class Fp:\n",
    "#     field_modulus = ORDER\n",
    "\n",
    "#     ROOT_OF_UNITY = ROOT_OF_UNITY\n",
    "#     MULTIPLICATIVE_GENERATOR = MULTIPLICATIVE_GENERATOR\n",
    "#     TWO_ADICITY = TWO_ADICITY\n",
    "\n",
    "#     def __init__(self, val: Integer | int) -> None:\n",
    "#         if self.field_modulus is None:\n",
    "#             raise AttributeError(\"Field Modulus hasn't been specified\")\n",
    "\n",
    "#         if isinstance(val, Fp):\n",
    "#             self.n = val.n % self.field_modulus\n",
    "#         elif isinstance(val, Integer):\n",
    "#             self.n = val % self.field_modulus\n",
    "#         elif Integer(val) == Integer(val):\n",
    "#             self.n = Integer(val) % self.field_modulus\n",
    "#         else:\n",
    "#             raise TypeError(\n",
    "#                 \"Expected an int or Fp object, but got object of type {}\"\n",
    "#                 .format(type(val))\n",
    "#             )\n",
    "\n",
    "#     def __add__(self, other: Union[Integer, \"Fp\"]) -> \"Fp\":\n",
    "#         if isinstance(other, Fp):\n",
    "#             on = other.n\n",
    "#         elif isinstance(other, Integer):\n",
    "#             on = other\n",
    "#         elif Integer(other) == Integer(other):\n",
    "#             on = Integer(other)\n",
    "#         else:\n",
    "#             raise TypeError(\n",
    "#                 \"Expected an int or Fp object, but got object of type {}\"\n",
    "#                 .format(type(other))\n",
    "#             )\n",
    "\n",
    "#         return type(self)((self.n + on) % self.field_modulus)\n",
    "\n",
    "#     def __mul__(self, other: Union[\"Fp\", Integer]) -> \"Fp\":\n",
    "#         if isinstance(other, Fp):\n",
    "#             on = other.n\n",
    "#         elif isinstance(other, Integer):\n",
    "#             on = other\n",
    "#         elif Integer(other) == Integer(other):\n",
    "#             on = Integer(other)\n",
    "#         else:\n",
    "#             raise TypeError(\n",
    "#                 \"Expected an int or Fp object, but got object of type {}\"\n",
    "#                 .format(type(other))\n",
    "#             )\n",
    "\n",
    "#         return type(self)((self.n * on) % self.field_modulus)\n",
    "\n",
    "#     def __rmul__(self, other: Union[\"Fp\", Integer]) -> \"Fp\":\n",
    "#         return self * other\n",
    "\n",
    "#     def __radd__(self, other: Union[\"Fp\", Integer]) -> \"Fp\":\n",
    "#         return self + other\n",
    "\n",
    "#     def __rsub__(self, other: Union[\"Fp\", Integer]) -> \"Fp\":\n",
    "#         if isinstance(other, Fp):\n",
    "#             on = other.n\n",
    "#         elif isinstance(other, Integer):\n",
    "#             on = other\n",
    "#         elif Integer(other) == Integer(other):\n",
    "#             on = Integer(other)\n",
    "#         else:\n",
    "#             raise TypeError(\n",
    "#                 \"Expected an int or Fp object, but got object of type {}\"\n",
    "#                 .format(type(other))\n",
    "#             )\n",
    "\n",
    "#         return type(self)((on - self.n) % self.field_modulus)\n",
    "\n",
    "#     def __sub__(self, other: Union[\"Fp\", Integer]) -> \"Fp\":\n",
    "#         if isinstance(other, Fp):\n",
    "#             on = other.n\n",
    "#         elif isinstance(other, Integer):\n",
    "#             on = other\n",
    "#         elif Integer(other) == Integer(other):\n",
    "#             on = Integer(other)\n",
    "#         else:\n",
    "#             raise TypeError(\n",
    "#                 \"Expected an int or Fp object, but got object of type {}\"\n",
    "#                 .format(type(other))\n",
    "#             )\n",
    "\n",
    "#         return type(self)((self.n - on) % self.field_modulus)\n",
    "\n",
    "#     def __div__(self, other: Union[\"Fp\", Integer]) -> \"Fp\":\n",
    "#         if isinstance(other, Fp):\n",
    "#             on = other.n\n",
    "#         elif isinstance(other, Integer):\n",
    "#             on = other\n",
    "#         elif Integer(other) == Integer(other):\n",
    "#             on = Integer(other)\n",
    "#         else:\n",
    "#             raise TypeError(\n",
    "#                 \"Expected an int or Fp object, but got object of type {}\"\n",
    "#                 .format(type(other))\n",
    "#             )\n",
    "\n",
    "#         return type(self)(\n",
    "#             self.n * prime_field_inv(on, self.field_modulus) % self.field_modulus\n",
    "#         )\n",
    "\n",
    "#     def __truediv__(self, other: Union[\"Fp\", Integer]) -> \"Fp\":\n",
    "#         return self.__div__(other)\n",
    "\n",
    "#     def __rdiv__(self, other: Union[\"Fp\", Integer]) -> \"Fp\":\n",
    "#         if isinstance(other, Fp):\n",
    "#             on = other.n\n",
    "#         elif isinstance(other, Integer):\n",
    "#             on = other\n",
    "#         elif Integer(other) == Integer(other):\n",
    "#             on = Integer(other)\n",
    "#         else:\n",
    "#             raise TypeError(\n",
    "#                 \"Expected an int or Fp object, but got object of type {}\"\n",
    "#                 .format(type(other))\n",
    "#             )\n",
    "\n",
    "#         return type(self)(\n",
    "#             prime_field_inv(self.n, self.field_modulus) * on % self.field_modulus\n",
    "#         )\n",
    "\n",
    "#     def __rtruediv__(self, other: Union[\"Fp\", Integer]) -> \"Fp\":\n",
    "#         return self.__rdiv__(other)\n",
    "\n",
    "#     # def __pow__(self, other: Union[\"Fp\", Integer]) -> \"Fp\":\n",
    "#     #     if other == 0:\n",
    "#     #         return type(self)(1)\n",
    "#     #     elif other == 1:\n",
    "#     #         return type(self)(self.n)\n",
    "#     #     elif other % 2 == 0:\n",
    "#     #         return (self * self) ** (other // 2)\n",
    "#     #     else:\n",
    "#     #         return ((self * self) ** (other // 2)) * self\n",
    "\n",
    "#     def __eq__(self, other: Union[\"Fp\", Integer]) -> bool:\n",
    "#         if isinstance(other, Fp):\n",
    "#             return self.n == other.n\n",
    "#         elif isinstance(other, Integer):\n",
    "#             return self.n == other\n",
    "#         elif Integer(other) == Integer(other):\n",
    "#             return self.n == Integer(other)\n",
    "#         else:\n",
    "#             raise TypeError(\n",
    "#                 \"Expected an int or Fp object, but got object of type {}\"\n",
    "#                 .format(type(other))\n",
    "#             )\n",
    "\n",
    "#     def __ne__(self, other: Union[\"Fp\", Integer]) -> bool:\n",
    "#         return not self == other\n",
    "\n",
    "#     def __neg__(self) -> \"Fp\":\n",
    "#         return type(self)(-self.n)\n",
    "\n",
    "#     def __str__(self) -> str:\n",
    "#         return self.repr()\n",
    "        \n",
    "#     def __repr__(self) -> str:\n",
    "#         return self.repr()\n",
    "    \n",
    "#     # Override the default (inefficient) __pow__ function in py_ecc.fields.field_elements.FQ\n",
    "#     def __pow__(self: \"Fp\", other: int) -> \"Fp\":\n",
    "#         return type(self)(pow(self.n, other, self.field_modulus))\n",
    "    \n",
    "#     # def __repr__(self) -> str:\n",
    "#     #     return repr(self.n)\n",
    "\n",
    "#     def __int__(self) -> int:\n",
    "#         return self.n\n",
    "\n",
    "#     @classmethod\n",
    "#     def one(cls) -> \"Fp\":\n",
    "#         return cls(1)\n",
    "\n",
    "#     @classmethod\n",
    "#     def zero(cls) -> \"Fp\":\n",
    "#         return cls(0)\n",
    "    \n",
    "#     @classmethod\n",
    "#     def neg_one(cls) -> \"Fp\":\n",
    "#         return cls(cls.field_modulus - 1)\n",
    "\n",
    "#     @classmethod\n",
    "#     def rand(cls, rndg: Optional[Random] = None) -> \"Fp\":\n",
    "#         if rndg is None:\n",
    "#             return cls(randint(1, cls.field_modulus - 1))\n",
    "#         return cls(rndg.randint(1, cls.field_modulus - 1))\n",
    "    \n",
    "#     @classmethod\n",
    "#     def random(cls) -> \"Fp\":\n",
    "#         return cls.rand()\n",
    "    \n",
    "#     @classmethod\n",
    "#     def rands(cls, rndg: Random, n: int) -> list[\"Fp\"]:\n",
    "#         return [cls(rndg.randint(1, cls.field_modulus - 1)) for _ in range(n)]\n",
    "    \n",
    "#     @classmethod\n",
    "#     def from_bytes(cls, b: bytes) -> \"Fp\":\n",
    "#         i = int.from_bytes(b, \"big\")\n",
    "#         return cls(i)\n",
    "    \n",
    "#     def inv(self) -> \"Fp\":\n",
    "#         return Fp(prime_field_inv(self.n, self.field_modulus))\n",
    "    \n",
    "#     def repr(self) -> str:\n",
    "#         k = self.field_modulus // 2\n",
    "#         if self.n < k:\n",
    "#             return f\"{self.n}\"\n",
    "#         else:\n",
    "#             return f\"-{self.field_modulus - self.n}\"\n",
    "        \n",
    "#     def exp(self: \"Fp\", other: int) -> \"Fp\":\n",
    "#         return type(self)(pow(self.n, other, self.field_modulus))\n",
    "    \n",
    "#     @classmethod\n",
    "#     def compute_root_of_unity(cls) -> \"Fp\":\n",
    "#         return cls(pow(cls.MULTIPLICATIVE_GENERATOR, ((cls.field_modulus - 1) // 2 ** cls.TWO_ADICITY), cls.field_modulus))\n",
    "    \n",
    "#     @classmethod\n",
    "#     def root_of_unity(cls) -> \"Fp\":\n",
    "#         return cls(cls.ROOT_OF_UNITY)\n",
    "    \n",
    "#     @classmethod\n",
    "#     def multiplicative_generator(cls) -> \"Fp\":\n",
    "#         return cls(cls.MULTIPLICATIVE_GENERATOR)\n",
    "\n",
    "#     @classmethod\n",
    "#     def nth_root_of_unity(cls, n: int) -> \"Fp\":\n",
    "#         assert is_power_of_two(n), \"n must be a power of two\"\n",
    "#         return cls(pow(cls.ROOT_OF_UNITY, 2**(cls.TWO_ADICITY - log_2(n)), cls.field_modulus))"
   ]
  },
  {
   "cell_type": "code",
   "execution_count": 5,
   "metadata": {
    "vscode": {
     "languageId": "python"
    }
   },
   "outputs": [],
   "source": [
    "from unipoly2 import UniPolynomial, UniPolynomialWithFft, bit_reverse_permutation\n",
    "from mle2 import MLEPolynomial\n",
    "UniPolynomial.set_field_type(Fp)\n",
    "UniPolynomialWithFft.set_field_type(Fp)\n",
    "MLEPolynomial.set_field_type(Fp)\n",
    "from merkle import MerkleTree\n",
    "from transcript import MerlinTranscript"
   ]
  },
  {
   "cell_type": "code",
   "execution_count": 6,
   "metadata": {
    "vscode": {
     "languageId": "python"
    }
   },
   "outputs": [
    {
     "name": "stdout",
     "output_type": "stream",
     "text": [
      "len(f)=32, f_coeffs=[1, 2, 1, -3, 1, -6, -2, 6, -2, 1, 3, -2, 3, 1, -7, 6, -1, -3, -3, 9, -1, 7, 4, -12, 2, 0, -1, -4, -3, -2, 5, 0]\n"
     ]
    },
    {
     "data": {
      "text/plain": [
       "-17"
      ]
     },
     "execution_count": 6,
     "metadata": {},
     "output_type": "execute_result"
    }
   ],
   "source": [
    "f_mle = MLEPolynomial([Fp(1), Fp(3), Fp(2), Fp(1),\n",
    "                    Fp(2), Fp(-2), Fp(1), Fp(0),\n",
    "                    Fp(-1), Fp(2), Fp(3), Fp(1),\n",
    "                    Fp(3), Fp(1), Fp(-2), Fp(3),\n",
    "                    Fp(0), Fp(-1), Fp(-2), Fp(3),\n",
    "                    ], \n",
    "                    5)\n",
    "f_coeffs = MLEPolynomial.compute_coeffs_from_evals(f_mle.evals)\n",
    "print(f\"len(f)={len(f_coeffs)}, f_coeffs={f_coeffs}\")\n",
    "\n",
    "us = [Fp(2), Fp(-1), Fp(2), Fp(-2), Fp(3)]\n",
    "v = f_mle.evaluate(us)\n",
    "v"
   ]
  },
  {
   "cell_type": "code",
   "execution_count": 7,
   "metadata": {
    "vscode": {
     "languageId": "python"
    }
   },
   "outputs": [],
   "source": [
    "def get_order_of_omega(omega: Fp, N: int) -> Fp:\n",
    "    for i in range(log_2(N)+1):\n",
    "        if omega**(2**i) == Fp.one():\n",
    "            return 2**i\n",
    "    return None"
   ]
  },
  {
   "cell_type": "code",
   "execution_count": 8,
   "metadata": {
    "vscode": {
     "languageId": "python"
    }
   },
   "outputs": [],
   "source": [
    "from functools import reduce\n",
    "from operator import mul\n",
    "\n",
    "def eq_eval(r_vec, u_vec):\n",
    "    assert len(r_vec) == len(u_vec), f\"len(r_vec) = {len(r_vec)}, len(u_vec) = {len(u_vec)}\"\n",
    "    factors = [(Fp(1) - r) * (1 - u) + r * u for r, u in zip(r_vec, u_vec)]\n",
    "\n",
    "    return reduce(mul, factors, Fp(1))"
   ]
  },
  {
   "cell_type": "code",
   "execution_count": 9,
   "metadata": {
    "vscode": {
     "languageId": "python"
    }
   },
   "outputs": [],
   "source": [
    "def rs_encode(f: list[Fp], coset: Fp, k:int, N: int) -> list[Fp]:\n",
    "    assert len(f) <= k, f\"len(f) = {len(f)}, k = {k}\"\n",
    "    assert is_power_of_two(N), f\"N = {N} is not a power of two\"\n",
    "    assert is_power_of_two(k), f\"k = {k} is not a power of two\"\n",
    "    assert N >= k, f\"N = {N} must be greater than k = {k}\"\n",
    "\n",
    "    omega = Fp.nth_root_of_unity(N)\n",
    "    print(f\"encode> k={k}, N={N}, omega = {omega}\")\n",
    "    k = log_2(N)\n",
    "    vec = f + [Fp.zero()] * (N - len(f))\n",
    "    return UniPolynomialWithFft.fft_coset_rbo(vec, coset, k, omega)"
   ]
  },
  {
   "cell_type": "code",
   "execution_count": 10,
   "metadata": {
    "vscode": {
     "languageId": "python"
    }
   },
   "outputs": [
    {
     "data": {
      "text/plain": [
       "[78, -92, -28]"
      ]
     },
     "execution_count": 10,
     "metadata": {},
     "output_type": "execute_result"
    }
   ],
   "source": [
    "def compute_power_of_2_powers(alpha: Fp, n: int) -> list[Fp]:\n",
    "        return [alpha**(2**i) for i in range(n)]\n",
    "z0 = Fp(78)\n",
    "powers = compute_power_of_2_powers(z0, 3)\n",
    "powers\n",
    "\n"
   ]
  },
  {
   "cell_type": "code",
   "execution_count": 11,
   "metadata": {
    "vscode": {
     "languageId": "python"
    }
   },
   "outputs": [
    {
     "data": {
      "text/plain": [
       "[1, 2, 4, 8, 16, 32, 64, -65]"
      ]
     },
     "execution_count": 11,
     "metadata": {},
     "output_type": "execute_result"
    }
   ],
   "source": [
    "def compute_powers(alpha: Fp, n: int) -> list[Fp]:\n",
    "        return [alpha**i for i in range(n)]\n",
    "r0 = Fp(2)\n",
    "powers = compute_powers(r0, 8)\n",
    "powers\n"
   ]
  },
  {
   "cell_type": "code",
   "execution_count": 12,
   "metadata": {
    "vscode": {
     "languageId": "python"
    }
   },
   "outputs": [],
   "source": [
    "def eq_sum(eqs: list[list[Fp]], gamma: Fp) -> list[Fp]:\n",
    "    n = len(eqs[0])\n",
    "    new_eq = [Fp(0)] * n\n",
    "    for i, eq in enumerate(eqs):\n",
    "        assert len(eq) == n, f\"len(eq) = {len(eq)}, n = {n}\"\n",
    "        for j in range(n):\n",
    "            new_eq[j] += eq[j] * gamma**i\n",
    "\n",
    "    return new_eq"
   ]
  },
  {
   "cell_type": "code",
   "execution_count": 13,
   "metadata": {
    "vscode": {
     "languageId": "python"
    }
   },
   "outputs": [],
   "source": [
    "def fold_code(code: list[Fp], \n",
    "              r_vec: list[Fp], \n",
    "              coset: Fp, \n",
    "              twiddles, debug=0) -> list[Fp]:\n",
    "    k = len(r_vec)\n",
    "    assert is_power_of_two(len(code)), \"n must be a power of two\"\n",
    "    coseti = coset\n",
    "    \n",
    "    for round_idx in range(k):\n",
    "        code_folded = [(code[2*i] + code[2*i+1]) / 2 \n",
    "                        + r_vec[round_idx] * (code[2*i] - code[2*i+1]) / (2 * coseti * twiddles[i]) \n",
    "                        for i in range(len(code)//2)]\n",
    "        \n",
    "        if debug > 1:\n",
    "            print(\"P> show code folding\")\n",
    "            for i in range(len(code)//2):\n",
    "                left = code[2*i]\n",
    "                right = code[2*i+1]\n",
    "                print(f\"P> 📒: {left} + {right} => {code_folded[i]}, r={r_vec[round_idx]},w={twiddles[i]},coset={coseti}\")\n",
    "        coseti *= coseti\n",
    "        code = code_folded\n",
    "    return code_folded"
   ]
  },
  {
   "cell_type": "code",
   "execution_count": 14,
   "metadata": {
    "vscode": {
     "languageId": "python"
    }
   },
   "outputs": [],
   "source": [
    "def fold_code_chunk(code_chunk: list[Fp], \n",
    "              k: int,\n",
    "              r_vec: list[Fp], \n",
    "              coset: Fp, \n",
    "              start_idx: int, \n",
    "              size: int, \n",
    "              twiddles,\n",
    "              debug=0) -> list[Fp]:\n",
    "    assert len(code_chunk) == size, f\"len(code_chunk) = {len(code_chunk)}, size = {size}\"\n",
    "    if debug > 0: print(f\"P> start_idx = {start_idx}, size = {size}\")\n",
    "    if debug > 0: print(f\"P> twiddles = {twiddles}\")\n",
    "    coset_round = coset\n",
    "    twiddles_start_idx = start_idx // 2\n",
    "    for round_idx in range(k):\n",
    "        if debug > 0: print(f\"P> {round_idx}-th round, twiddles_start_idx = {twiddles_start_idx}\")\n",
    "        code_chunk_folded = [(code_chunk[2*i] + code_chunk[2*i+1]) / 2 \n",
    "                        + r_vec[round_idx] * (code_chunk[2*i] - code_chunk[2*i+1]) / (2 * coset_round * twiddles[twiddles_start_idx+i]) \n",
    "                        for i in range(len(code_chunk)//2)]\n",
    "\n",
    "        if debug > 1:\n",
    "            print(\"P> show code chunk folding\")\n",
    "            for i in range(len(code_chunk)//2):\n",
    "                left = code_chunk[2*i]\n",
    "                right = code_chunk[2*i+1]\n",
    "                print(f\"P> 📒: {left} + {right} => {code_chunk_folded[i]}, r={r_vec[round_idx]},w={twiddles[twiddles_start_idx+i]},coset={coset_round}\")\n",
    "\n",
    "        coset_round *= coset_round\n",
    "        code_chunk = code_chunk_folded\n",
    "        twiddles_start_idx = twiddles_start_idx // 2\n",
    "    return code_chunk_folded"
   ]
  },
  {
   "cell_type": "markdown",
   "metadata": {},
   "source": [
    "## Proving demo"
   ]
  },
  {
   "cell_type": "markdown",
   "metadata": {},
   "source": [
    "### 1. parameters setup"
   ]
  },
  {
   "cell_type": "code",
   "execution_count": 15,
   "metadata": {
    "vscode": {
     "languageId": "python"
    }
   },
   "outputs": [],
   "source": [
    "f0_len = len(f_mle.evals)\n",
    "debug = 2\n",
    "# coset = Fp(1)\n",
    "coset = Fp.multiplicative_generator()\n",
    "k = 2\n",
    "folding_factor = 1\n",
    "domain_folding_factor = 1\n",
    "blowup_factor = 2\n",
    "t = 2  # number of shift queries, now it is fixed to 1\n",
    "\n",
    "f0_code_len = f0_len * blowup_factor\n",
    "twiddles = UniPolynomialWithFft.precompute_twiddles_for_fft(f0_code_len, is_bit_reversed=True)\n"
   ]
  },
  {
   "cell_type": "code",
   "execution_count": 16,
   "metadata": {
    "vscode": {
     "languageId": "python"
    }
   },
   "outputs": [
    {
     "data": {
      "text/plain": [
       "(True, True)"
      ]
     },
     "execution_count": 16,
     "metadata": {},
     "output_type": "execute_result"
    }
   ],
   "source": [
    "omega = Fp.nth_root_of_unity(f0_code_len)\n",
    "\n",
    "omega^f0_code_len == Fp(1), omega^(f0_code_len//2) == Fp(-1)\n"
   ]
  },
  {
   "cell_type": "markdown",
   "metadata": {},
   "source": [
    "### Commit to the polynomial $f_0$"
   ]
  },
  {
   "cell_type": "code",
   "execution_count": 17,
   "metadata": {
    "vscode": {
     "languageId": "python"
    }
   },
   "outputs": [
    {
     "name": "stdout",
     "output_type": "stream",
     "text": [
      "encode> k=32, N=64, omega = -68\n",
      "check rs_encode\n",
      "check rs_encode passed\n"
     ]
    },
    {
     "data": {
      "text/plain": [
       "[78,\n",
       " 73,\n",
       " -32,\n",
       " -59,\n",
       " 30,\n",
       " 4,\n",
       " 31,\n",
       " -95,\n",
       " 80,\n",
       " -2,\n",
       " 66,\n",
       " 89,\n",
       " -36,\n",
       " -50,\n",
       " 12,\n",
       " 8,\n",
       " 29,\n",
       " 23,\n",
       " -68,\n",
       " 11,\n",
       " 81,\n",
       " 59,\n",
       " 56,\n",
       " -34,\n",
       " -8,\n",
       " 72,\n",
       " 24,\n",
       " 26,\n",
       " -69,\n",
       " 32,\n",
       " -55,\n",
       " 42,\n",
       " -55,\n",
       " -75,\n",
       " 70,\n",
       " -49,\n",
       " -83,\n",
       " -97,\n",
       " 70,\n",
       " -84,\n",
       " -72,\n",
       " 40,\n",
       " 11,\n",
       " 57,\n",
       " 65,\n",
       " 85,\n",
       " -88,\n",
       " 35,\n",
       " -39,\n",
       " 16,\n",
       " -39,\n",
       " -63,\n",
       " 13,\n",
       " -3,\n",
       " 31,\n",
       " 4,\n",
       " 75,\n",
       " -59,\n",
       " 77,\n",
       " -40,\n",
       " 10,\n",
       " -90,\n",
       " -70,\n",
       " -7]"
      ]
     },
     "execution_count": 17,
     "metadata": {},
     "output_type": "execute_result"
    }
   ],
   "source": [
    "f0 = f_mle.evals\n",
    "f0_code = rs_encode(f_coeffs, coset, len(f_coeffs), f0_code_len)\n",
    "f0_cm = MerkleTree(f0_code)\n",
    "\n",
    "if debug > 1:\n",
    "    print(f\"check rs_encode\")\n",
    "    f_uni = UniPolynomial(f_coeffs)\n",
    "    D = compute_powers(omega, len(f0_code))\n",
    "    D_rbo = bit_reverse_permutation(D)\n",
    "    for i in range(len(f0_code)):\n",
    "        w = D_rbo[i]\n",
    "        assert f_uni.evaluate(w * coset) == f0_code[i], \\\n",
    "            f\"f_uni.evaluate(D_rbo[{i}]) = {f_uni.evaluate(w)}, f0_code[{i}] = {f0_code[i]}\"\n",
    "        w_pow = compute_power_of_2_powers(w * coset, f_mle.num_var)\n",
    "        assert f_mle.evaluate(w_pow) == f0_code[i], \\\n",
    "            f\"f_mle.evaluate(D_rbo[{i}]) = {f_mle.evaluate(w_pow)}, f0_code[{i}] = {f0_code[i]}\"\n",
    "    print(f\"check rs_encode passed\")\n",
    "f0_code"
   ]
  },
  {
   "cell_type": "code",
   "execution_count": 18,
   "metadata": {
    "vscode": {
     "languageId": "python"
    }
   },
   "outputs": [
    {
     "data": {
      "text/plain": [
       "MLEPolynomial([-12, 24, 6, -12, 24, -48, -12, 24, 8, -16, -4, 8, -16, 32, 8, -16, 18, -36, -9, 18, -36, 72, 18, -36, -12, 24, 6, -12, 24, -48, -12, 24], 5)"
      ]
     },
     "execution_count": 18,
     "metadata": {},
     "output_type": "execute_result"
    }
   ],
   "source": [
    "eq0 = MLEPolynomial.eqs_over_hypercube(us)\n",
    "eq0_mle = MLEPolynomial(eq0, log_2(f0_len))\n",
    "eq0_mle"
   ]
  },
  {
   "cell_type": "code",
   "execution_count": 19,
   "metadata": {
    "vscode": {
     "languageId": "python"
    }
   },
   "outputs": [
    {
     "data": {
      "text/plain": [
       "b'-17'"
      ]
     },
     "execution_count": 19,
     "metadata": {},
     "output_type": "execute_result"
    }
   ],
   "source": [
    "str(v).encode()"
   ]
  },
  {
   "cell_type": "code",
   "execution_count": 20,
   "metadata": {
    "vscode": {
     "languageId": "python"
    }
   },
   "outputs": [
    {
     "name": "stdout",
     "output_type": "stream",
     "text": [
      "P> tr.state = 29\n",
      "P> tr.state = 61\n",
      "P> tr.state = 103\n",
      "P> tr.state = 39\n"
     ]
    }
   ],
   "source": [
    "tr = MerlinTranscript(b\"whir-rs-pcs\")\n",
    "print(f\"P> tr.state = {tr.state}\")\n",
    "# tr = tr.fork(b\"fork\")\n",
    "tr.absorb(b\"f_code_merkle_root\", f0_cm.root)\n",
    "print(f\"P> tr.state = {tr.state}\")\n",
    "tr.absorb(b\"point\", us)\n",
    "print(f\"P> tr.state = {tr.state}\")\n",
    "tr.absorb(b\"value\", v)\n",
    "print(f\"P> tr.state = {tr.state}\")\n"
   ]
  },
  {
   "cell_type": "code",
   "execution_count": 21,
   "metadata": {
    "vscode": {
     "languageId": "python"
    }
   },
   "outputs": [],
   "source": [
    "all_r_vec = []\n",
    "total_k = log_2(f0_len)\n",
    "remain_k = total_k\n",
    "acc_k = 0\n",
    "all_z_y_vec = []\n",
    "all_gamma = []"
   ]
  },
  {
   "cell_type": "markdown",
   "metadata": {},
   "source": [
    "### First iteration, Sumcheck round\n",
    "\n",
    "Inputs:\n",
    "\n",
    "1. $i$: is the index of the current iteration, $i=1, 2, 3, \\ldots, M-1$\n",
    "2. $f_{i-1}$: the polynomial to be folded\n",
    "3. $eq^*_{i-1}$: the polynomial to be folded, $eq_0$ if $i=1$\n",
    "\n",
    "Outputs:\n",
    "\n",
    "1. $f_i$: the folded polynomial\n",
    "2. $\\vec{r}_i$: the random numbers generated by the verifier\n",
    "3. $\\{h_j\\}$: the sumcheck results, $j \\in [0, 2^k)$\n",
    "4. $K_A$: the number of variables of the folded polynomial, `acc_k`\n",
    "5. $K_R$: the number of variables of the remaining polynomial, `remain_k`\n",
    "\n",
    "$$\n",
    "K = K_A + K_R\n",
    "$$\n",
    "\n",
    "Protocol Steps:\n",
    "\n",
    "1. Fold $f_{i-1}$ to $f_{i}$\n",
    "\n",
    "$$\n",
    "f_i = \\mathsf{fold}(f_{i-1}, \\vec{r}_i)\n",
    "$$\n",
    "\n",
    "2. Fold $eq^*_{i-1}$ to $eq_{i}$\n",
    "\n",
    "$$\n",
    "eq_i = \\mathsf{fold}(eq^*_{i-1}, \\vec{r}_i)\n",
    "$$\n",
    "\n",
    "3. Generate a new `sum_checked` ($v_i$) \n",
    "\n",
    "$$\n",
    "v_i = \\sum_{\\vec{b}\\in\\{0,1\\}^{K_R}} \\tilde{f}_i(\\vec{b}) \\cdot eq_i(\\vec{b})\n",
    "$$\n",
    "\n",
    "\n"
   ]
  },
  {
   "cell_type": "code",
   "execution_count": 22,
   "metadata": {
    "vscode": {
     "languageId": "python"
    }
   },
   "outputs": [
    {
     "name": "stdout",
     "output_type": "stream",
     "text": [
      "P> h = [-30, 13, -85]\n",
      "P> r[0] = 45\n",
      "P> h = [-28, -48, -54]\n",
      "P> r[1] = -65\n",
      "P> check sum_checked = 36\n",
      "P> sum_checked = 36 = Σ_b f1(b) * eq(b,us)\n",
      "P> check sum_checked passed\n",
      "P> sum_checked = 36, r_vec = [45, -65], f1 = [-77, -10, 24, 28, -95, 0, 0, 0], eq1 = [-65, -63, -21, 42, 1, -2, -65, -63]\n"
     ]
    }
   ],
   "source": [
    "sum_checked = v\n",
    "half = f0_len >> 1\n",
    "r_vec = []\n",
    "sumcheck_h_vec = []\n",
    "f1 = f0.copy()\n",
    "eq1 = eq0.copy()\n",
    "for i in range(k):\n",
    "    f_even = f1[::2]\n",
    "    f_odd = f1[1::2]\n",
    "    eq_even = eq1[::2]\n",
    "    eq_odd = eq1[1::2]\n",
    "    # construct h(X)\n",
    "    h_eval_at_0 = sum([f_even[j] * eq_even[j] for j in range(half)], Fp.zero())\n",
    "    h_eval_at_1 = sum([f_odd[j] * eq_odd[j] for j in range(half)], Fp.zero())\n",
    "    h_eval_at_2 = sum([ (2 * f_odd[j] - f_even[j]) * (2 * eq_odd[j] - eq_even[j]) for j in range(half)])\n",
    "    h = [h_eval_at_0, h_eval_at_1, h_eval_at_2]\n",
    "\n",
    "    sumcheck_h_vec.append(h)\n",
    "\n",
    "    tr.absorb(b\"h(X)\", h)\n",
    "\n",
    "    if debug > 0:\n",
    "        print(f\"P> h = {h}\")\n",
    "        \n",
    "    # check sum\n",
    "    assert h_eval_at_0 + h_eval_at_1 == sum_checked, \\\n",
    "        f\"h_eval_at_0 + h_eval_at_1 = {h_eval_at_0 + h_eval_at_1}, sum_checked = {sum_checked}\"\n",
    "    \n",
    "    # Receive a random number from the verifier\n",
    "    r = tr.squeeze(Fp, b\"r\", 4)\n",
    "    if debug > 0:\n",
    "        print(f\"P> r[{i}] = {r}\")\n",
    "    r_vec.append(r)\n",
    "    \n",
    "    # fold f\n",
    "\n",
    "    f_folded = [(Fp(1) - r) * f_even[i] + r * f_odd[i] for i in range(half)]\n",
    "    eq_folded = [(Fp(1) - r) * eq_even[i] + r * eq_odd[i] for i in range(half)]\n",
    "\n",
    "    f1 = f_folded\n",
    "    eq1 = eq_folded\n",
    "\n",
    "    # update sumcheck for the next round\n",
    "    sum_checked = UniPolynomial.evaluate_from_evals(h, \n",
    "                r, [Fp(0), Fp(1), Fp(2)])\n",
    "    half >>= 1\n",
    "\n",
    "\n",
    "## End of the big loop for `i`\n",
    "\n",
    "f1_len = len(f1)\n",
    "f1_mle = MLEPolynomial(f1, log_2(f1_len))\n",
    "\n",
    "# check sumcheck\n",
    "if debug > 0:\n",
    "    print(f\"P> check sum_checked = {sum_checked}\")\n",
    "    # eq_mle_post = MLEPolynomial(eq1, log_2(f_len)-k)\n",
    "    # eq_mle_post_at_r = eq_mle_post.evaluate(r_vec)\n",
    "    eval = Fp.zero()\n",
    "    for i in range(f0_len // (2**k)):\n",
    "        eval += f1[i] * eq1[i]\n",
    "    assert sum_checked == eval, \\\n",
    "        f\"sum_checked = {sum_checked}, eval = {eval}\"\n",
    "    print(f\"P> sum_checked = {eval} = Σ_b f1(b) * eq(b,us)\")\n",
    "    print(f\"P> check sum_checked passed\")\n",
    "\n",
    "print(f\"P> sum_checked = {sum_checked}, r_vec = {r_vec}, f1 = {f1}, eq1 = {eq1}\")\n"
   ]
  },
  {
   "cell_type": "markdown",
   "metadata": {},
   "source": [
    "### First iteration, FRI round\n",
    "\n",
    "Inputs:\n",
    "\n",
    "1. $i$: is the index of the current iteration, $i=1, 2, 3, \\ldots, M-1$\n",
    "2. $\\vec{r}_i$: the random numbers generated by the verifier.\n",
    "3. $C_{i-1}$: the code of the polynomial $f_{i-1}$ generated in the preview iteration.\n",
    "4. $g$: the coset factor for RS-codes, i.e. $C_i = f_i(X)\\mid_{L_i}$, $L_i=gH_{i}$\n",
    "\n",
    "Outputs:\n",
    "\n",
    "1. $K_A$: the number of variables of the folded polynomial, `acc_k`\n",
    "2. $K_R$: the number of variables of the remaining polynomial, `remain_k`\n",
    "3. $C_i$: the code of the polynomial $f_i$ generated in the previous sumcheck round.\n",
    "\n",
    "$$\n",
    "K = K_A + K_R\n",
    "$$\n",
    "\n",
    "4. $(z_0, y_0)$: the out-of-domain query and its evaluation\n",
    "5. $\\{(z_1, y_1), (z_2, y_2), \\ldots, (z_t, y_t)\\}$: the shift queries and their evaluations\n",
    "6. $\\{\\vec{c}_1, \\vec{c}_2, \\ldots, \\vec{c}_t\\}$: the query replies from $C_{i-1}$\n",
    "\n",
    "Steps:\n",
    "\n",
    "1. Construct code $C_i$ from $f_i$\n",
    "\n",
    "2. Sample $z_0\\leftarrow\\mathbb{F}_p$ and evaluate $\\tilde{f}_i(\\mathsf{pow}(z_0, K_R))=y_0$\n",
    "\n",
    "3. Sample $\\{z_1, z_2, \\ldots, z_t\\}\\leftarrow L^{2^k}_{i-1}$ and evaluate $\\tilde{f}_i(\\mathsf{pow}(z_j, K_R))=y_j$\n",
    "\n",
    "4. Collect query replies $\\{\\vec{c}_1, \\vec{c}_2, \\ldots, \\vec{c}_t\\}$ from $C_{i-1}$, s.t.\n",
    "\n",
    "$$\n",
    "f_{i-1}(x_{i,j})=c_{i,j}\n",
    "$$\n",
    "\n",
    "where $\\vec{x}_i$ are query-locations of $\\vec{c}_i$ in $C_{i-1}$.\n",
    "\n",
    "The challenged evaluations $\\{y_0, y_1, \\ldots, y_t\\}$ will be computed by the query-replies $\\{\\vec{c}_1, \\vec{c}_2, \\ldots, \\vec{c}_t\\}$ by the verifier:\n",
    "\n",
    "$$\n",
    "\\mathsf{fold}(\\vec{c}_j, \\vec{r}_i) = \\vec{y}_j\n",
    "$$\n",
    "\n",
    "Therefore, the prover doesn't have to send $\\{\\vec{y}_1, \\vec{y}_2, \\ldots, \\vec{y}_t\\}$ to the verifier.\n",
    "\n",
    "The verifier needs to check every sampled evaluations are correct, specifically:\n",
    "\n",
    "$$\n",
    "\\tilde{f}_i(\\mathsf{pow}(z_j, K_R))=y_j, \\qquad j\\in\\{0, 1, \\ldots, t\\}\n",
    "$$\n",
    "\n",
    "These jobs are done by $K_R$-fold sumchecks in the following iterations along with the initial evaluation wrt. $\\tilde{f}_0(\\vec{u})$.\n"
   ]
  },
  {
   "cell_type": "markdown",
   "metadata": {},
   "source": [
    "Create `f1_code`, whose length is `16`"
   ]
  },
  {
   "cell_type": "code",
   "execution_count": 23,
   "metadata": {
    "vscode": {
     "languageId": "python"
    }
   },
   "outputs": [
    {
     "name": "stdout",
     "output_type": "stream",
     "text": [
      "encode> k=8, N=32, omega = -8\n",
      "P> Check f1_code \n",
      "P> f1_code = [-82, -56, -51, 43, 11, -80, 84, 94, 37, -64, 22, 85, 38, -20, -92, -43, -44, -8, 65, 83, -55, 82, 77, -44, -11, -12, 29, -35, 17, -35, -58, 68]\n",
      "P> D = [1, -8, 64, 67, 43, 42, 50, -14, -81, 69, 27, -23, -9, 72, 3, -24, -1, 8, -64, -67, -43, -42, -50, 14, 81, -69, -27, 23, 9, -72, -3, 24]\n",
      "P> D_rbo = [1, -1, -81, 81, 43, -43, -9, 9, 64, -64, 27, -27, 50, -50, 3, -3, -8, 8, 69, -69, 42, -42, 72, -72, 67, -67, -23, 23, -14, 14, -24, 24]\n",
      "P> Check f1_code passed\n"
     ]
    }
   ],
   "source": [
    "f1_coeffs = MLEPolynomial.compute_coeffs_from_evals(f1)\n",
    "f1_code = rs_encode(f1_coeffs, coset, len(f1_coeffs), f0_code_len//2)\n",
    "f1_code_cm = MerkleTree(f1_code)\n",
    "\n",
    "if debug > 0:\n",
    "    print(f\"P> Check f1_code \")\n",
    "    print(f\"P> f1_code = {f1_code}\")\n",
    "    new_omega = Fp.nth_root_of_unity(len(f1_code))\n",
    "    D = compute_powers(new_omega, len(f1_code))\n",
    "    D_rbo = bit_reverse_permutation(D)\n",
    "    print(f\"P> D = {D}\")\n",
    "    print(f\"P> D_rbo = {D_rbo}\")\n",
    "    \n",
    "    f1_uni = UniPolynomialWithFft(f1_coeffs)\n",
    "    evals = [f1_uni.evaluate(coset * d) for d in D_rbo]\n",
    "    assert evals == f1_code, f\"evals={evals}, f1_code={f1_code}\"\n",
    "\n",
    "    for i in range(len(D_rbo)):\n",
    "        w = D_rbo[i]\n",
    "        w_pow = compute_power_of_2_powers(w * coset, f1_mle.num_var)\n",
    "        assert f1_code[i] == f1_mle.evaluate(w_pow), \\\n",
    "            f\"f1_code[{i}] = {f1_code[i]}, f1_mle.evaluate(w_pow) = {f1_mle.evaluate(w_pow)}\"\n",
    "    print(f\"P> Check f1_code passed\")\n",
    "\n",
    "tr.absorb(b\"f_folded_code_cm\", f1_code_cm.root)"
   ]
  },
  {
   "cell_type": "code",
   "execution_count": 24,
   "metadata": {
    "vscode": {
     "languageId": "python"
    }
   },
   "outputs": [
    {
     "name": "stdout",
     "output_type": "stream",
     "text": [
      "P> z0 = -72, y0 = -39\n",
      "P> z_idx_vec = [0, 15]\n",
      "P> z_vec = [1, -3], y_vec = [30, 37]\n",
      "P> check query-reply-0 = [78, 73, -32, -59]\n",
      "P> check query-reply-1 = [10, -90, -70, -7]\n",
      "P> query_replies = [[78, 73, -32, -59], [10, -90, -70, -7]]\n"
     ]
    }
   ],
   "source": [
    "# out-of-domain query, and its evaluation\n",
    "\n",
    "z0 = tr.squeeze(Fp, b\"z0\", 4)\n",
    "y0 = f1_mle.evaluate(compute_power_of_2_powers(z0, log_2(len(f1))))\n",
    "print(f\"P> z0 = {z0}, y0 = {y0}\")\n",
    "\n",
    "tr.absorb(b\"y0\", y0)\n",
    "\n",
    "# construct query indices\n",
    "max_queries_try = 1000\n",
    "z_idx_vec = []\n",
    "for i in range(max_queries_try):\n",
    "    z_idx = tr.squeeze(int, b\"zi\", 4) % (len(f0_code)//2**k)\n",
    "    if z_idx not in z_idx_vec:\n",
    "        z_idx_vec.append(z_idx)\n",
    "    else:\n",
    "        continue\n",
    "    if len(z_idx_vec) >= t:\n",
    "        break\n",
    "assert len(z_idx_vec) == t, f\"len(z_idx_vec) = {len(z_idx_vec)}, t = {t}\"\n",
    "print(f\"P> z_idx_vec = {z_idx_vec}\")\n",
    "\n",
    "# shift queries and their evaluations\n",
    "z_vec, y_vec = [], []\n",
    "for i in range(t):\n",
    "    # new_omega is the root of unity for `f0_code_folded`, while omega is the root of unity for `f0_code`\n",
    "    omega_code_folded = omega**(2**k)\n",
    "\n",
    "    zi = omega_code_folded** bit_reverse(z_idx_vec[i], log_2(len(f0_code)//2**k))\n",
    "    # print(f\"P> zi = {zi}\")\n",
    "    z_vec.append(zi)\n",
    "    zi_pow = compute_power_of_2_powers(zi * coset**(2**k), f1_mle.num_var)\n",
    "    # print(f\"P> z_pow = {z_pow}\")\n",
    "    y_vec.append(f1_mle.evaluate(zi_pow))\n",
    "\n",
    "print(f\"P> z_vec = {z_vec}, y_vec = {y_vec}\")\n",
    "\n",
    "# collect query replies $c_j$, which are the code chunks of $C_{i-1}$ and can be used to compute $y_i$\n",
    "query_replies = []\n",
    "for i in range(t):\n",
    "    idx = z_idx_vec[i]\n",
    "    start_idx = idx*2**k\n",
    "    end_idx = (idx+1)*2**k\n",
    "    query_reply = f0_code[start_idx: end_idx]\n",
    "    query_replies.append(query_reply)\n",
    "\n",
    "    if debug > 1:\n",
    "        print(f\"P> check query-reply-{i} = {query_reply}\")\n",
    "        # print(f\"P> query_reply = {query_reply}, r_vec = {r_vec}\")\n",
    "        start_idx = idx*2**k\n",
    "        end_idx = (idx+1)*2**k\n",
    "        # print(f\"P> start_idx = {start_idx}, end_idx = {end_idx}\")\n",
    "        query_reply_folded = fold_code_chunk(query_reply, k, r_vec, coset, start_idx, 2**k, twiddles)\n",
    "        # print(f\"P> query_reply_folded = {query_reply_folded}\")\n",
    "        assert len(query_reply_folded) == int(1), f\"len(code_folded) = {len(query_reply_folded)}, query_reply = {query_reply}, r_vec = {r_vec}, coseti = {coset}\"\n",
    "        assert query_reply_folded[0] == y_vec[i], f\"code_folded[0] = {query_reply_folded[0]}, y_vec[{i}] = {y_vec[i]}\"\n",
    "\n",
    "tr.absorb(b\"query_replies\", query_replies)\n",
    "print(f\"P> query_replies = {query_replies}\")\n"
   ]
  },
  {
   "cell_type": "markdown",
   "metadata": {},
   "source": [
    "### Update global variables "
   ]
  },
  {
   "cell_type": "code",
   "execution_count": 25,
   "metadata": {
    "vscode": {
     "languageId": "python"
    }
   },
   "outputs": [
    {
     "name": "stdout",
     "output_type": "stream",
     "text": [
      "P> acc_k = 2, remain_k = 3\n"
     ]
    }
   ],
   "source": [
    "all_r_vec += r_vec\n",
    "remain_k -= k\n",
    "acc_k += k\n",
    "all_z_y_vec.append((acc_k, z0, y0, z_vec, y_vec, remain_k))\n",
    "print(f\"P> acc_k = {acc_k}, remain_k = {remain_k}\")"
   ]
  },
  {
   "cell_type": "markdown",
   "metadata": {},
   "source": [
    "### First Iteration: batching\n",
    "\n",
    "Inputs :\n",
    "\n",
    "1. $i$: is the index of the current iteration\n",
    "2. $\\gamma$: is the random challenge for aggregating sumchecks from the verifier\n",
    "3. $v_i$: is the sum to be checked from the previous sumcheck rounds\n",
    "4. $\\{(z_0, y_0), (z_1, y_1), \\ldots, (z_t, y_t)\\}$: the queries and their evaluations\n",
    "4. $K_R$: the number of variables of the remaining polynomial\n",
    "\n",
    "Outputs:\n",
    "\n",
    "1. $v^*_i$: the sum aggregated with new targets from the $i$-th FRI round (the last round).\n",
    "2. $eq^*_{i}$: the MLE polynomial (evaluations array over $\\{0,1\\}^{K_R}$) aggregated.\n",
    "\n",
    "Steps:\n",
    "\n",
    "1. Construct array $eq_{z_0}$ from $z_0$\n",
    "\n",
    "$$\n",
    "\\mathsf{pow}(z_0, K_{R}) = (z_0, z_0^2, \\ldots, z_0^{2^{K_R-1}})\n",
    "$$\n",
    "\n",
    "where $K_R = K - K_A$\n",
    "\n",
    "$$\n",
    "eq_{z_0} = \\tilde{eq}(\\vec{b}, \\mathsf{pow}(z_0, K_R))\n",
    "$$\n",
    "\n",
    "2. Construct array-array $eq_{z_i}$ from $\\{z_i\\}$\n",
    "\n",
    "$$\n",
    "eq_{z_i} = \\tilde{eq}(\\vec{b}, \\mathsf{pow}(z_i, K_R))\n",
    "$$\n",
    "\n",
    "3. Accumulate the sumcheck targets on $v_i$ into $v^*_{i}$\n",
    "\n",
    "$$\n",
    "v^*_{i} = v_i + \\gamma \\cdot y_0 + \\sum_{j=1}^{t} \\gamma^{j+1} \\cdot y_j\n",
    "$$\n",
    "\n",
    "\n",
    "4. Construct the array $eq^*_{(i)}$ , whose length is $2^{K_R}$\n",
    "\n",
    "$$\n",
    "eq^*_{(i)} = eq_{(i)} + \\gamma\\cdot eq_{z_0} + \\sum_{j=1}^{t} \\gamma^{j+1} \\cdot eq_{z_j}\n",
    "$$\n",
    "\n",
    "which follows the equation below:\n",
    "\n",
    "$$\n",
    "\\sum_{\\vec{b}\\in\\{0,1\\}^{K_R}} \\tilde{f}_{i}(\\vec{b}) \\cdot eq^*_{(i)}(\\vec{b}) = v^*_i\n",
    "$$"
   ]
  },
  {
   "cell_type": "code",
   "execution_count": 26,
   "metadata": {
    "vscode": {
     "languageId": "python"
    }
   },
   "outputs": [
    {
     "data": {
      "text/plain": [
       "(2, 3, 3)"
      ]
     },
     "execution_count": 26,
     "metadata": {},
     "output_type": "execute_result"
    }
   ],
   "source": [
    "acc_k, remain_k, f1_mle.num_var"
   ]
  },
  {
   "cell_type": "code",
   "execution_count": 27,
   "metadata": {
    "vscode": {
     "languageId": "python"
    }
   },
   "outputs": [
    {
     "name": "stdout",
     "output_type": "stream",
     "text": [
      "P> check checked_sum\n",
      "P> check checked_sum passed\n",
      "P> check new_eq and new_sum\n",
      "P> check new_eq and new_sum passed\n"
     ]
    }
   ],
   "source": [
    "# Double check `sum_checked`\n",
    "\n",
    "if debug > 0:\n",
    "    print(f\"P> check checked_sum\")\n",
    "    assert sum([f1[i] * eq1[i] for i in range(len(f1))]) == sum_checked, \\\n",
    "        f\"sum([f1[i] * eq1[i] for i in range(len(f1))]) = {sum([f1[i] * eq1[i] for i in range(len(f1))])}, sum_checked = {sum_checked}\"\n",
    "    print(f\"P> check checked_sum passed\")\n",
    "\n",
    "gamma = tr.squeeze(Fp, b\"gamma\", 4)\n",
    "gamma\n",
    "\n",
    "# initialize `new_eq_mle` and `new_sum_checked`\n",
    "new_eq_mle = MLEPolynomial(eq1, remain_k)\n",
    "new_sum_checked = sum_checked\n",
    "\n",
    "# aggregate `z0, y0`\n",
    "z0_pow = compute_power_of_2_powers(z0, remain_k)\n",
    "eqz = MLEPolynomial.eqs_over_hypercube(z0_pow)\n",
    "eqz_mle = MLEPolynomial(eqz, remain_k)\n",
    "new_eq_mle += Scalar(gamma) * eqz_mle\n",
    "\n",
    "new_sum_checked += gamma * y0\n",
    "\n",
    "\n",
    "# aggregate `z_vec, y_vec`\n",
    "eq_list = []\n",
    "for i, zi, yi in zip(range(t), z_vec, y_vec):\n",
    "    # NOTE: `zi` is actually in the coset domain\n",
    "    zi_pow = compute_power_of_2_powers(zi * (coset**(2**k)), remain_k)\n",
    "    eqzi = MLEPolynomial(MLEPolynomial.eqs_over_hypercube(zi_pow), remain_k)\n",
    "    eq_list.append(eqzi)\n",
    "    new_eq_mle += Scalar(gamma**(i+2)) * eqzi\n",
    "    new_sum_checked += gamma**(i+2) * yi\n",
    "\n",
    "# compute `new_eq1` alternatively\n",
    "# TODO: remove it after testing\n",
    "new_eq1 = eq_sum([eq1, eqz] + eq_list, gamma)\n",
    "\n",
    "if debug > 1:\n",
    "    print(f\"P> check new_eq and new_sum\")\n",
    "    f_curr = f1\n",
    "    new_eq_curr = new_eq_mle.evals\n",
    "    eval = sum([f_curr[i] * new_eq_curr[i] for i in range(len(f_curr))])\n",
    "    eval_alt = sum([f_curr[i] * new_eq1[i] for i in range(len(f_curr))])\n",
    "    assert eval == eval_alt == new_sum_checked, \\\n",
    "        f\"f1(z) = {eval}, eval_alt = {eval_alt}, new_sum_checked = {new_sum_checked}\"\n",
    "    print(f\"P> check new_eq and new_sum passed\")\n"
   ]
  },
  {
   "cell_type": "code",
   "execution_count": 28,
   "metadata": {
    "vscode": {
     "languageId": "python"
    }
   },
   "outputs": [],
   "source": [
    "all_gamma.append(gamma)"
   ]
  },
  {
   "cell_type": "markdown",
   "metadata": {},
   "source": [
    "### 2nd Iteration, Sumcheck Round\n",
    "\n",
    "1. Construct `f2`, `eq2`\n",
    "2. Construct `r_vec_2`\n",
    "3. Output `sumcheck_h_vec_2`\n",
    "5. Output `sum_checked_2`\n"
   ]
  },
  {
   "cell_type": "code",
   "execution_count": 29,
   "metadata": {
    "vscode": {
     "languageId": "python"
    }
   },
   "outputs": [
    {
     "name": "stdout",
     "output_type": "stream",
     "text": [
      "P> tr.state = 12148363030896137046\n",
      "P> h = [74, 3, -44]\n",
      "P> r[0] = -9\n",
      "P> tr.state = 4951936474584552270\n",
      "P> h = [-43, -94, 21]\n",
      "P> r[1] = -56\n",
      "P> check sum_checked = 36\n",
      "P> sum_checked = 58 = Σ_b f2(b) * eq(b,us)\n",
      "P> check sum_checked passed\n",
      "P> sum_checked = 58, r_vec_2 = [-9, -56], f2 = [-67, 83], eq2 = [-49, 3]\n"
     ]
    }
   ],
   "source": [
    "sum_checked_2 = new_sum_checked\n",
    "half = len(f1) >> 1\n",
    "r_vec_2 = []\n",
    "sumcheck_h_vec_2 = []\n",
    "f2 = f1.copy()\n",
    "eq2 = new_eq1.copy()\n",
    "# new_eq\n",
    "for i in range(k):\n",
    "    f2_even = f2[::2]\n",
    "    f2_odd = f2[1::2]\n",
    "    eq2_even = eq2[::2]\n",
    "    eq2_odd = eq2[1::2]\n",
    "    # construct h(X)\n",
    "    h_eval_at_0 = sum([f2_even[j] * eq2_even[j] for j in range(half)], Fp.zero())\n",
    "    h_eval_at_1 = sum([f2_odd[j] * eq2_odd[j] for j in range(half)], Fp.zero())\n",
    "    h_eval_at_2 = sum([ (2 * f2_odd[j] - f2_even[j]) * (2 * eq2_odd[j] - eq2_even[j]) for j in range(half)])\n",
    "    h = [h_eval_at_0, h_eval_at_1, h_eval_at_2]\n",
    "    sumcheck_h_vec_2.append(h)\n",
    "\n",
    "    tr.absorb(b\"h(X)\", h)\n",
    "    print(f\"P> tr.state = {tr.state}\")\n",
    "    if debug > 0:\n",
    "        print(f\"P> h = {h}\")\n",
    "    # check sum\n",
    "    assert h_eval_at_0 + h_eval_at_1 == sum_checked_2, \\\n",
    "        f\"i={i}, h_eval_at_0 + h_eval_at_1 = {h_eval_at_0 + h_eval_at_1}, sum_checked = {sum_checked_2}\"\n",
    "    \n",
    "    # Receive a random number from the verifier\n",
    "    r = tr.squeeze(Fp, b\"r\", 4)\n",
    "    if debug > 0:\n",
    "        print(f\"P> r[{i}] = {r}\")\n",
    "    r_vec_2.append(r)\n",
    "    \n",
    "    # fold f\n",
    "\n",
    "    f2_folded = [(Fp(1) - r) * f2_even[i] + r * f2_odd[i] for i in range(half)]\n",
    "    eq2_folded = [(Fp(1) - r) * eq2_even[i] + r * eq2_odd[i] for i in range(half)]\n",
    "\n",
    "    f2 = f2_folded\n",
    "    eq2 = eq2_folded\n",
    "\n",
    "    # update sumcheck for the next round\n",
    "    sum_checked_2 = UniPolynomial.evaluate_from_evals(h, \n",
    "                r, [Fp(0), Fp(1), Fp(2)])\n",
    "    half >>= 1\n",
    "\n",
    "## End of the big loop for `i`\n",
    "\n",
    "f2_len = len(f2)\n",
    "f2_mle = MLEPolynomial(f2, log_2(f2_len))\n",
    "\n",
    "# check sumcheck\n",
    "if debug > 0:\n",
    "    print(f\"P> check sum_checked = {sum_checked}\")\n",
    "    # eq_mle_post = MLEPolynomial(eq1, log_2(f_len)-k)\n",
    "    # eq_mle_post_at_r = eq_mle_post.evaluate(r_vec)\n",
    "    eval = Fp.zero()\n",
    "    for i in range(f1_len // (2**k)):\n",
    "        eval += f2[i] * eq2[i]\n",
    "    assert sum_checked_2 == eval, \\\n",
    "        f\"sum_checked = {sum_checked_2}, eval = {eval}\"\n",
    "    print(f\"P> sum_checked = {eval} = Σ_b f2(b) * eq(b,us)\")\n",
    "    print(f\"P> check sum_checked passed\")\n",
    "\n",
    "print(f\"P> sum_checked = {sum_checked_2}, r_vec_2 = {r_vec_2}, f2 = {f2}, eq2 = {eq2}\")"
   ]
  },
  {
   "cell_type": "code",
   "execution_count": null,
   "metadata": {
    "vscode": {
     "languageId": "python"
    }
   },
   "outputs": [],
   "source": []
  },
  {
   "cell_type": "markdown",
   "metadata": {},
   "source": [
    "### Good luck!"
   ]
  },
  {
   "cell_type": "code",
   "execution_count": 30,
   "metadata": {
    "vscode": {
     "languageId": "python"
    }
   },
   "outputs": [
    {
     "name": "stdout",
     "output_type": "stream",
     "text": [
      "P> total_r_vec = [45, -65, -9, -56]\n",
      "check sumcheck result\n",
      "P> acc_k = 2, remain_k = 3\n",
      "P> f_mle_at_r = MLEPolynomial([-67, 83], 1)\n",
      "P> eq_mle = MLEPolynomial([19, 68], 1)\n",
      "P> z0_pow = [-72, -27, -43]\n",
      "P> z0_mle = MLEPolynomial([2, 77], 1)\n",
      "P> zi = 1\n",
      "P> zi_pow = [46, -7, 49]\n",
      "P> zi_mle = MLEPolynomial([-78, -41], 1)\n",
      "P> zi = -3\n",
      "P> zi_pow = [55, -63, -84]\n",
      "P> zi_mle = MLEPolynomial([8, 92], 1)\n",
      "P> final_sum = Σ_b f(b) * eq(b,us) checked = 58\n"
     ]
    }
   ],
   "source": [
    "# Check sum_checked in advance before the protocol ends. Good luck!\n",
    "from utils import inner_product\n",
    "\n",
    "print(f\"P> total_r_vec = {r_vec + r_vec_2}\")\n",
    "if debug > 0:\n",
    "    print(f\"check sumcheck result\")\n",
    "    print(f\"P> acc_k = {acc_k}, remain_k = {remain_k}\")\n",
    "\n",
    "    num_vars = remain_k-k\n",
    "    # define an accumulated array `eval` for hypercube-evaluations\n",
    "    new_f_mle = f_mle.partial_evaluate(r_vec + r_vec_2)\n",
    "\n",
    "    print(f\"P> f_mle_at_r = {new_f_mle}\")\n",
    "    eq_mle = Scalar(eq_eval(r_vec+r_vec_2, us[:-num_vars])) \\\n",
    "            * MLEPolynomial(MLEPolynomial.eqs_over_hypercube(us[-num_vars:]), num_vars)\n",
    "    print(f\"P> eq_mle = {eq_mle}\")\n",
    "    \n",
    "    z0_pow = compute_power_of_2_powers(z0, remain_k)\n",
    "    print(f\"P> z0_pow = {z0_pow}\")\n",
    "    z0_mle = Scalar(gamma * eq_eval(r_vec_2, z0_pow[:-num_vars])) \\\n",
    "            * MLEPolynomial(MLEPolynomial.eqs_over_hypercube(z0_pow[-num_vars:]), num_vars)\n",
    "    eq_mle += z0_mle\n",
    "    print(f\"P> z0_mle = {z0_mle}\")\n",
    "\n",
    "    for i in range(t):\n",
    "        zi = z_vec[i]\n",
    "        print(f\"P> zi = {zi}\")\n",
    "        zi_pow = compute_power_of_2_powers(zi * coset**(2**k), remain_k)\n",
    "        print(f\"P> zi_pow = {zi_pow}\")\n",
    "        zi_mle = Scalar(gamma**(i+2) * eq_eval(r_vec_2, zi_pow[:-num_vars])) \\\n",
    "                * MLEPolynomial(MLEPolynomial.eqs_over_hypercube(zi_pow[-num_vars:]), num_vars)\n",
    "        eq_mle += zi_mle\n",
    "        print(f\"P> zi_mle = {zi_mle}\")\n",
    "\n",
    "    eval = inner_product(new_f_mle.evals, eq_mle.evals, Fp.zero())\n",
    "\n",
    "    assert sum_checked_2 == eval, \\\n",
    "        f\"sum_checked_2 = {sum_checked_2}, eval = {eval}\"\n",
    "    print(f\"P> final_sum = Σ_b f(b) * eq(b,us) checked = {eval}\")"
   ]
  },
  {
   "cell_type": "markdown",
   "metadata": {},
   "source": [
    "### 2nd Iteration, (Final) FRI Round \n",
    "\n",
    "\n",
    "| f0            |   k=2   |      f1        |  k=2    | f2 (curr)      |\n",
    "|---------------|---------|----------------|---------|----------------|\n",
    "| `f0_code`, 64 | 2       | `f1_code`, 32  | 2       |  `f2_code`, 16 | \n",
    "| `f0_mle`, 32  | 2^2=4   |  `f1_mle`, 8   | 2^2=4   |  `f2_mle`, 2   | \n"
   ]
  },
  {
   "cell_type": "code",
   "execution_count": 41,
   "metadata": {
    "vscode": {
     "languageId": "python"
    }
   },
   "outputs": [
    {
     "name": "stdout",
     "output_type": "stream",
     "text": [
      "encode> k=2, N=16, omega = 64\n",
      "P> check f2_code \n",
      "P> f2_coeffs = [-67, -43]\n",
      "P> D = [1, 64, 43, 50, -81, 27, -9, 3, -1, -64, -43, -50, 81, -27, 9, -3]\n",
      "P> f2_code = [-89, -45, -22, 81, -48, -86, -62, -72, 69, -10, -82, -52, -9, 68, 60, -1]\n",
      "P> check f2_code passed\n",
      "P> f2 = [-67, 83]\n"
     ]
    }
   ],
   "source": [
    "f2_coeffs = MLEPolynomial.compute_coeffs_from_evals(f2)\n",
    "f2_mle = MLEPolynomial(f2, log_2(len(f2)))\n",
    "\n",
    "f2_code = rs_encode(f2_coeffs, coset, len(f2_coeffs), len(f1_code)//2)\n",
    "if debug > 1:\n",
    "    print(f\"P> check f2_code \")\n",
    "    f2_coeffs = MLEPolynomial.compute_coeffs_from_evals(f2)\n",
    "    print(f\"P> f2_coeffs = {f2_coeffs}\")\n",
    "    f2_uni = UniPolynomialWithFft(f2_coeffs)\n",
    "    D = compute_powers(Fp.nth_root_of_unity(len(f2_code)), len(f2_code))\n",
    "    print(f\"P> D = {D}\")\n",
    "    D_rbo = bit_reverse_permutation(D)\n",
    "    evals = [f2_uni.evaluate(coset * d) for d in D_rbo]\n",
    "    assert evals == f2_code, f\"evals={evals}, f2_code={f2_code}\"\n",
    "    print(f\"P> f2_code = {f2_code}\")\n",
    "    for i in range(len(D_rbo)):\n",
    "        w = D_rbo[i]\n",
    "        w_pow = compute_power_of_2_powers(w * coset, f2_mle.num_var)\n",
    "        # print(f\"P> w = {w}, w_pow = {w_pow}\")\n",
    "        assert f2_code[i] == f2_mle.evaluate(w_pow), \\\n",
    "            f\"f2_code[{i}] = {f2_code[i]}, f2_mle.evaluate(w_pow) = {f2_mle.evaluate(w_pow)}\"\n",
    "    print(f\"P> check f2_code passed\")\n",
    "\n",
    "tr.absorb(b\"final_f_evals\", f2)\n",
    "\n",
    "print(f\"P> f2 = {f2}\")"
   ]
  },
  {
   "cell_type": "code",
   "execution_count": 32,
   "metadata": {
    "vscode": {
     "languageId": "python"
    }
   },
   "outputs": [
    {
     "name": "stdout",
     "output_type": "stream",
     "text": [
      "P> FRI> z_idx_vec = [5, 2], from [0..8)\n"
     ]
    }
   ],
   "source": [
    "# Query-phase\n",
    "\n",
    "f1_code_folded_len = len(f1_code)//2**k\n",
    "\n",
    "z_idx_vec = []\n",
    "for i in range(max_queries_try):\n",
    "    z_idx = tr.squeeze(int, b\"zi\", 4) % f1_code_folded_len\n",
    "    if z_idx not in z_idx_vec:\n",
    "        z_idx_vec.append(z_idx)\n",
    "    else:\n",
    "        continue\n",
    "    if len(z_idx_vec) >= t:\n",
    "        break\n",
    "assert len(z_idx_vec) == t, f\"len(z_idx_vec) = {len(z_idx_vec)}, t = {t}\"\n",
    "\n",
    "if debug > 1:\n",
    "    print(f\"P> FRI> z_idx_vec = {z_idx_vec}, from [0..{f1_code_folded_len})\")\n"
   ]
  },
  {
   "cell_type": "code",
   "execution_count": 33,
   "metadata": {
    "vscode": {
     "languageId": "python"
    }
   },
   "outputs": [
    {
     "name": "stdout",
     "output_type": "stream",
     "text": [
      "P> FRI> z_omega = 43, ord(z_omega) = 8\n",
      "P> FRI> z_idx_vec = [5, 2]\n",
      "P> FRI> ord(z_omega) = 8, z_vec = [-43, -81], y_vec = [67, -39]\n",
      "P> FRI> query_replies = [[-55, 82, 77, -44], [37, -64, 22, 85]]\n",
      "P> FRI> check query replies (num=2)\n",
      "P> FRI> query_reply_folded = [67]\n",
      "P> FRI> check query-reply-0 passed\n",
      "P> FRI> query_reply_folded = [-39]\n",
      "P> FRI> check query-reply-1 passed\n"
     ]
    }
   ],
   "source": [
    "z_omega = Fp.nth_root_of_unity(f1_code_folded_len)\n",
    "print(f\"P> FRI> z_omega = {z_omega}, ord(z_omega) = {get_order_of_omega(z_omega, f1_code_folded_len)}\")\n",
    "# D = compute_powers(z_omega, f1_code_folded_len)\n",
    "# D_rbo = bit_reverse_permutation(D)\n",
    "# print(f\"P> FRI> D_rbo = {D_rbo}\")\n",
    "\n",
    "# compute {(zi, yi)}, where yi = f_i(zi)\n",
    "z_vec, y_vec = [], []\n",
    "for i in range(t):\n",
    "    zi = z_omega** bit_reverse(z_idx_vec[i], log_2(f1_code_folded_len))\n",
    "    z_vec.append(zi)\n",
    "    zi_pow = compute_power_of_2_powers(zi * coset**(2**k), f2_mle.num_var)\n",
    "    y_vec.append(f2_mle.evaluate(zi_pow))\n",
    "\n",
    "# if debug > 1:\n",
    "#     f2_code_A = rs_encode(f2_coeffs, coset**(2**k), len(f2_coeffs), len(f1_code)//(2**k))\n",
    "#     f2_code_B = fold_code(f1_code, r_vec_2, coset, twiddles)\n",
    "\n",
    "#     print(f\"P> FRI> f2_code_A = {f2_code_A}\")\n",
    "#     print(f\"P> FRI> f2_code_B = {f2_code_B}\")\n",
    "\n",
    "if debug > 1:\n",
    "    print(f\"P> FRI> z_idx_vec = {z_idx_vec}\")\n",
    "    print(f\"P> FRI> z_vec = {z_vec}, y_vec = {y_vec}\")\n",
    "\n",
    "# collect leaves of the code for constructing `yi=f(zi)`\n",
    "query_replies = []\n",
    "for i in range(t):\n",
    "    idx = z_idx_vec[i]\n",
    "    start_idx = idx*2**k\n",
    "    query_reply = f1_code[start_idx: start_idx + 2**k]\n",
    "    query_replies.append(query_reply)\n",
    "print(f\"P> FRI> query_replies = {query_replies}\")\n",
    "\n",
    "if debug > 1:\n",
    "    print(f\"P> FRI> check query replies (num={t})\")\n",
    "    for j in range(t):\n",
    "        start_idx = z_idx_vec[j] * 2**k\n",
    "        query_reply_folded = fold_code_chunk(query_replies[j], k, r_vec_2, coset, start_idx, 2**k, twiddles)\n",
    "        print(f\"P> FRI> query_reply_folded = {query_reply_folded}\")\n",
    "        assert len(query_reply_folded) == int(1), \\\n",
    "            f\"len(code_folded) = {len(query_reply_folded)}, query_reply = {query_reply}, r_vec = {r_vec_2}, coset = {coset}\"\n",
    "        assert query_reply_folded[0] == y_vec[j], \\\n",
    "            f\"code_folded[0] = {query_reply_folded[0]}, y_vec[{j}] = {y_vec[j]}\"\n",
    "        print(f\"P> FRI> check query-reply-{j} passed\")\n",
    "\n"
   ]
  },
  {
   "cell_type": "code",
   "execution_count": 34,
   "metadata": {
    "vscode": {
     "languageId": "python"
    }
   },
   "outputs": [],
   "source": [
    "tr.absorb(b\"query_replies\", query_replies)"
   ]
  },
  {
   "cell_type": "code",
   "execution_count": 35,
   "metadata": {
    "vscode": {
     "languageId": "python"
    }
   },
   "outputs": [
    {
     "data": {
      "text/plain": [
       "[(2, -72, -39, [1, -3], [30, 37], 3)]"
      ]
     },
     "execution_count": 35,
     "metadata": {},
     "output_type": "execute_result"
    }
   ],
   "source": [
    "all_z_y_vec"
   ]
  },
  {
   "cell_type": "markdown",
   "metadata": {},
   "source": [
    "### Update global variables "
   ]
  },
  {
   "cell_type": "code",
   "execution_count": 36,
   "metadata": {
    "vscode": {
     "languageId": "python"
    }
   },
   "outputs": [
    {
     "name": "stdout",
     "output_type": "stream",
     "text": [
      "P> acc_k = 4, remain_k = 1, final_k = 1\n"
     ]
    }
   ],
   "source": [
    "all_r_vec += r_vec_2\n",
    "remain_k -= k\n",
    "acc_k += k\n",
    "\n",
    "final_k = remain_k\n",
    "print(f\"P> acc_k = {acc_k}, remain_k = {remain_k}, final_k = {final_k}\")"
   ]
  },
  {
   "cell_type": "markdown",
   "metadata": {},
   "source": [
    "### Check the final SUM! "
   ]
  },
  {
   "cell_type": "code",
   "execution_count": 31,
   "metadata": {
    "vscode": {
     "languageId": "python"
    }
   },
   "outputs": [],
   "source": []
  },
  {
   "cell_type": "code",
   "execution_count": 38,
   "metadata": {
    "vscode": {
     "languageId": "python"
    }
   },
   "outputs": [
    {
     "name": "stdout",
     "output_type": "stream",
     "text": [
      "i=0, acc_k_i = 2, remain_k_i = 3, total_k = 5\n",
      "len(z0_pow)=2\n",
      "P> gamma_i = 92\n",
      "P> z0_mle = MLEPolynomial([2, 77], 1)\n",
      "P> zi = 1\n",
      "P> zi_pow = [46, -7, 49]\n",
      "P> zi_mle = MLEPolynomial([-78, -41], 1)\n",
      "P> zi = -3\n",
      "P> zi_pow = [55, -63, -84]\n",
      "P> zi_mle = MLEPolynomial([8, 92], 1)\n"
     ]
    },
    {
     "data": {
      "text/plain": [
       "MLEPolynomial([-49, 3], 1)"
      ]
     },
     "execution_count": 38,
     "metadata": {},
     "output_type": "execute_result"
    }
   ],
   "source": [
    "eq_mle = MLEPolynomial(MLEPolynomial.eqs_over_hypercube(us[acc_k:]), final_k)\n",
    "eq_mle = Scalar(eq_eval(all_r_vec, us[:acc_k])) * eq_mle\n",
    "for i, ((acc_k_i, z0_i, y0_i, z_vec_i, y_vec_i, remain_k_i), gamma_i) in enumerate(zip(all_z_y_vec, all_gamma)):\n",
    "    print(f\"i={i}, acc_k_i = {acc_k_i}, remain_k_i = {remain_k_i}, total_k = {total_k}\")\n",
    "    assert acc_k_i + remain_k_i == total_k, \\\n",
    "        f\"i={i}, acc_k_i = {acc_k_i}, remain_k_i = {remain_k_i}, total_k = {total_k}\"\n",
    "    print(f\"len(z0_pow)={remain_k_i-final_k}\")\n",
    "    print(f\"P> gamma_i = {gamma_i}\")\n",
    "    z0_pow = compute_power_of_2_powers(z0_i, remain_k_i)\n",
    "    z0_mle = MLEPolynomial(MLEPolynomial.eqs_over_hypercube(z0_pow[-final_k:]), final_k)\n",
    "    z0_mle = Scalar(gamma_i * eq_eval(all_r_vec[acc_k_i:], z0_pow[:-final_k])) * z0_mle\n",
    "    print(f\"P> z0_mle = {z0_mle}\")\n",
    "    eq_mle += z0_mle\n",
    "\n",
    "    for j in range(t):\n",
    "        zi = z_vec_i[j]\n",
    "        print(f\"P> zi = {zi}\")\n",
    "        zi_pow = compute_power_of_2_powers(zi * coset**(2**k), remain_k_i)\n",
    "        print(f\"P> zi_pow = {zi_pow}\")\n",
    "        zi_mle = MLEPolynomial(MLEPolynomial.eqs_over_hypercube(zi_pow[-final_k:]), final_k)\n",
    "        zi_mle = Scalar(gamma_i**(j+2) * eq_eval(all_r_vec[acc_k_i:], zi_pow[:-final_k])) * zi_mle\n",
    "        print(f\"P> zi_mle = {zi_mle}\")\n",
    "        eq_mle += zi_mle\n",
    "eq_mle"
   ]
  },
  {
   "cell_type": "code",
   "execution_count": 39,
   "metadata": {
    "vscode": {
     "languageId": "python"
    }
   },
   "outputs": [],
   "source": [
    "final_mle = MLEPolynomial(f2, final_k)\n",
    "\n",
    "final_eval = inner_product(final_mle.evals, eq_mle.evals, Fp.zero())\n",
    "\n",
    "assert final_eval == sum_checked_2, \\\n",
    "    f\"final_eval = {final_eval}, sum_checked_2 = {sum_checked_2}\""
   ]
  },
  {
   "cell_type": "code",
   "execution_count": 40,
   "metadata": {
    "vscode": {
     "languageId": "python"
    }
   },
   "outputs": [
    {
     "data": {
      "text/plain": [
       "<class 'int'>"
      ]
     },
     "execution_count": 40,
     "metadata": {},
     "output_type": "execute_result"
    }
   ],
   "source": [
    "type(int(21))"
   ]
  },
  {
   "cell_type": "markdown",
   "metadata": {},
   "source": [
    "### Great!"
   ]
  },
  {
   "cell_type": "markdown",
   "metadata": {},
   "source": [
    "Sample from `[0, 1, 2, 3, ..., 7]`, which is the index set of `f1_code/2^k`. We want to sample \n",
    "code chunk `[c0, ..., c2^k-1]` from `f1_code` and fold it into `yi`, which is equal to `f2_mle(zi)`.\n",
    "\n",
    "$$\n",
    "L_1 = \\{g, g\\omega, g\\omega^2, ..., g\\omega^{N/2-1}\\}\n",
    "$$\n",
    "\n",
    "$$\n",
    "C_1 = \\{c_0, c_1, ..., c_{N/2-1}\\}\n",
    "$$\n",
    "\n",
    "The polynomial $\\tilde{f}_2$ is the folded MlE polynomial from $\\tilde{f}_1$, \n",
    "\n",
    "$$\n",
    "\\tilde{f}_2(X_2, \\ldots, X_{s-1}) = \\tilde{f}_1(r_1, X_2, \\ldots, X_{s-1}) = \\tilde{f}_0(r_0, r_1, X_2, \\ldots, X_{s-1})\n",
    "$$\n",
    "\n",
    "If the verifier samples $\\{z_i\\}$ from $L^{2^k}_1$, \n",
    "\n",
    "$$\n",
    "z_i \\leftarrow \\big(g\\cdot\\omega^{2^k}\\big)^i \\in L^{2^k}_1\n",
    "$$\n",
    "\n",
    "then we can have a corresponding evaluation of $\\tilde{f}_2$, as denoted by $y_i$\n",
    "\n",
    "\n",
    "$$\n",
    "\\tilde{f}_2(z_i, z_i^2, z_i^4, ..., z_i^{2^{k^*}}) = y_i\n",
    "$$\n",
    "\n",
    "In fact, $y_i$ happens to be the folded code chunk from $C_1$\n",
    "\n",
    "$$\n",
    "\\mathsf{fold}(c_0, c_1, ..., c_{2^k-1}) = y_i\n",
    "$$"
   ]
  }
 ],
 "metadata": {
  "kernelspec": {
   "display_name": "SageMath 10.4",
   "language": "sage",
   "name": "SageMath-10.4"
  },
  "language_info": {
   "codemirror_mode": {
    "name": "ipython",
    "version": 3
   },
   "file_extension": ".py",
   "mimetype": "text/x-python",
   "name": "sage",
   "nbconvert_exporter": "python",
   "pygments_lexer": "ipython3",
   "version": "3.12.4"
  }
 },
 "nbformat": 4,
 "nbformat_minor": 2
}
