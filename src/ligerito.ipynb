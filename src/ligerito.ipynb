{
 "cells": [
  {
   "cell_type": "code",
   "execution_count": 26,
   "metadata": {
    "vscode": {
     "languageId": "python"
    }
   },
   "outputs": [
    {
     "data": {
      "text/plain": [
       "Multivariate Polynomial Ring in X0, X1, X2, X3, X4, X5, X6, X7, X8, X9, Y0, Y1, Y2, Y3, Y4, Y5, Y6, Y7, A0, A1, A2, B0, B1, B2 over Finite Field of size 193"
      ]
     },
     "execution_count": 26,
     "metadata": {},
     "output_type": "execute_result"
    }
   ],
   "source": [
    "F193.<a> = GF(193) # 193 = 64 * 3 + 1\n",
    "R193.<X> = F193[]\n",
    "R193\n",
    "Fp=F193\n",
    "\n",
    "from utils import log_2, next_power_of_two, is_power_of_two, bits_le_with_width, inner_product, reverse_bits\n",
    "\n",
    "def nth_root_of_unity(n):\n",
    "    k = log_2(n)\n",
    "    assert k <= 6, \"k is greater than 6\"\n",
    "    \n",
    "    return Fp(5)**(3*2**(6-k))\n",
    "\n",
    "Fp.nth_root_of_unity = nth_root_of_unity\n",
    "Fp.TWO_ADICITY = 6\n",
    "Fp.MULTIPLICATIVE_GENERATOR = Fp.primitive_element()\n",
    "Fp.ROOT_OF_UNITY = Fp(5)**3\n",
    "\n",
    "def neg_one():\n",
    "    return Fp(-1)\n",
    "Fp.neg_one = neg_one\n",
    "\n",
    "R_2.<X0, X1, X2, X3, X4, X5, X6, X7, X8, X9, Y0, Y1, Y2, Y3, Y4, Y5, Y6, Y7, A0, A1, A2, B0, B1, B2> = Fp[]; R_2"
   ]
  },
  {
   "cell_type": "code",
   "execution_count": 2,
   "metadata": {
    "vscode": {
     "languageId": "python"
    }
   },
   "outputs": [],
   "source": [
    "from mle2 import MLEPolynomial\n",
    "from unipoly2 import UniPolynomial, UniPolynomialWithFft\n",
    "from transcript import MerlinTranscript\n",
    "from merkle import MerkleTree\n",
    "\n",
    "MLEPolynomial.set_field_type(Fp)\n",
    "transcript = MerlinTranscript(\"test\")\n",
    "UniPolynomial.set_field_type(Fp)\n",
    "UniPolynomialWithFft.set_field_type(Fp)\n"
   ]
  },
  {
   "cell_type": "code",
   "execution_count": 3,
   "metadata": {
    "vscode": {
     "languageId": "python"
    }
   },
   "outputs": [],
   "source": [
    "def rs_encode(f: list[Fp], coset: Fp, blowup_factor: int) -> list[Fp]:\n",
    "    n = next_power_of_two(len(f))\n",
    "    N = n * blowup_factor\n",
    "\n",
    "    omega_Nth = Fp.nth_root_of_unity(N)\n",
    "    k = log_2(N)\n",
    "    vec = f + [Fp.zero()] * (N - len(f))\n",
    "    return UniPolynomialWithFft.fft_coset_rbo(vec, coset, k, omega=omega_Nth)\n"
   ]
  },
  {
   "cell_type": "code",
   "execution_count": 4,
   "metadata": {
    "vscode": {
     "languageId": "python"
    }
   },
   "outputs": [],
   "source": [
    "def rs_generator_matrix(g, k, c):\n",
    "    assert is_power_of_two(k), \"k: %d is not a power of two\" % k\n",
    "    assert is_power_of_two(c), \"c: %d is not a power of two\" % c\n",
    "\n",
    "    n = k * c\n",
    "    w = Fp.nth_root_of_unity(n)\n",
    "    G = []\n",
    "    for i in range(n):\n",
    "        G.append([w**(i*j) for j in range(k)])\n",
    "    return G"
   ]
  },
  {
   "cell_type": "code",
   "execution_count": 5,
   "metadata": {
    "vscode": {
     "languageId": "python"
    }
   },
   "outputs": [
    {
     "data": {
      "text/plain": [
       "[1, 64, 43, 50, 112, 27, 184, 3]"
      ]
     },
     "execution_count": 5,
     "metadata": {},
     "output_type": "execute_result"
    }
   ],
   "source": [
    "G = rs_generator_matrix(Fp(1), 8, 2)\n",
    "G[1]"
   ]
  },
  {
   "cell_type": "code",
   "execution_count": 6,
   "metadata": {
    "vscode": {
     "languageId": "python"
    }
   },
   "outputs": [
    {
     "data": {
      "text/plain": [
       "[36, 176, 184, 143, 127, 167, 115, 93, 189, 113, 70, 59, 58, 51, 1, 171]"
      ]
     },
     "execution_count": 6,
     "metadata": {},
     "output_type": "execute_result"
    }
   ],
   "source": [
    "def matrix_mul_vec(G, m):\n",
    "    assert len(G[0]) == len(m), \"len(G[0]) != len(m)\"\n",
    "    return [inner_product(G[i], m, Fp(0)) for i in range(len(G))]\n",
    "matrix_mul_vec(G, [1, 2, 3, 4, 5, 6, 7, 8])"
   ]
  },
  {
   "cell_type": "code",
   "execution_count": 7,
   "metadata": {
    "vscode": {
     "languageId": "python"
    }
   },
   "outputs": [
    {
     "data": {
      "text/plain": [
       "([[1, 4, 7], [2, 5, 8], [3, 6, 9]], [[1], [2], [3]])"
      ]
     },
     "execution_count": 7,
     "metadata": {},
     "output_type": "execute_result"
    }
   ],
   "source": [
    "def matrix_transpose(M):\n",
    "    if type(M[0]) == type([]):\n",
    "        return [[M[j][i] for j in range(len(M))] for i in range(len(M[0]))]\n",
    "    elif type(M) == type([Fp(0)]):\n",
    "        return [[M[i]] for i in range(len(M))]\n",
    "matrix_transpose([[1, 2, 3], [4, 5, 6], [7, 8, 9]]), matrix_transpose([1, 2, 3])\n"
   ]
  },
  {
   "cell_type": "code",
   "execution_count": 8,
   "metadata": {
    "vscode": {
     "languageId": "python"
    }
   },
   "outputs": [
    {
     "data": {
      "text/plain": [
       "[[8, 98, 0, 126, 0, 89, 0, 192, 0, 3, 0, 106, 0, 69, 0, 97],\n",
       " [98, 0, 126, 0, 89, 0, 192, 0, 3, 0, 106, 0, 69, 0, 97, 8],\n",
       " [0, 126, 0, 89, 0, 192, 0, 3, 0, 106, 0, 69, 0, 97, 8, 98],\n",
       " [126, 0, 89, 0, 192, 0, 3, 0, 106, 0, 69, 0, 97, 8, 98, 0],\n",
       " [0, 89, 0, 192, 0, 3, 0, 106, 0, 69, 0, 97, 8, 98, 0, 126],\n",
       " [89, 0, 192, 0, 3, 0, 106, 0, 69, 0, 97, 8, 98, 0, 126, 0],\n",
       " [0, 192, 0, 3, 0, 106, 0, 69, 0, 97, 8, 98, 0, 126, 0, 89],\n",
       " [192, 0, 3, 0, 106, 0, 69, 0, 97, 8, 98, 0, 126, 0, 89, 0],\n",
       " [0, 3, 0, 106, 0, 69, 0, 97, 8, 98, 0, 126, 0, 89, 0, 192],\n",
       " [3, 0, 106, 0, 69, 0, 97, 8, 98, 0, 126, 0, 89, 0, 192, 0],\n",
       " [0, 106, 0, 69, 0, 97, 8, 98, 0, 126, 0, 89, 0, 192, 0, 3],\n",
       " [106, 0, 69, 0, 97, 8, 98, 0, 126, 0, 89, 0, 192, 0, 3, 0],\n",
       " [0, 69, 0, 97, 8, 98, 0, 126, 0, 89, 0, 192, 0, 3, 0, 106],\n",
       " [69, 0, 97, 8, 98, 0, 126, 0, 89, 0, 192, 0, 3, 0, 106, 0],\n",
       " [0, 97, 8, 98, 0, 126, 0, 89, 0, 192, 0, 3, 0, 106, 0, 69],\n",
       " [97, 8, 98, 0, 126, 0, 89, 0, 192, 0, 3, 0, 106, 0, 69, 0]]"
      ]
     },
     "execution_count": 8,
     "metadata": {},
     "output_type": "execute_result"
    }
   ],
   "source": [
    "def matrix_mul_matrix(G, M):\n",
    "    m = len(G)\n",
    "    n = len(G[0])\n",
    "    k = len(M[0])\n",
    "    assert n == len(M), \"len(G[0]) != len(M[0])\"\n",
    "    A = []\n",
    "    for i in range(m):\n",
    "        A.append([inner_product(G[i], [M[l][j] for l in range(n)], Fp(0)) for j in range(k)])\n",
    "    return A\n",
    "matrix_mul_matrix(G, matrix_transpose(G))"
   ]
  },
  {
   "cell_type": "code",
   "execution_count": 9,
   "metadata": {
    "vscode": {
     "languageId": "python"
    }
   },
   "outputs": [
    {
     "data": {
      "text/plain": [
       "[[38, 44, 50], [83, 98, 113], [128, 152, 176], [173, 13, 46]]"
      ]
     },
     "execution_count": 9,
     "metadata": {},
     "output_type": "execute_result"
    }
   ],
   "source": [
    "# Test matrix_mul_matrix()\n",
    "matrix_mul_matrix([[1, 2, 3], [4, 5, 6], [7, 8, 9], [10, 11, 12]], [[1, 2, 3], [5, 6, 7], [9, 10, 11]])"
   ]
  },
  {
   "cell_type": "code",
   "execution_count": 10,
   "metadata": {
    "vscode": {
     "languageId": "python"
    }
   },
   "outputs": [
    {
     "data": {
      "text/plain": [
       "[[X0*Y0 + X1*Y1 + X2*Y2], [X3*Y0 + X4*Y1 + X5*Y2]]"
      ]
     },
     "execution_count": 10,
     "metadata": {},
     "output_type": "execute_result"
    }
   ],
   "source": [
    "# Test matrix_mul_matrix()\n",
    "matrix_mul_matrix([[X0, X1, X2], [X3, X4, X5]], [[Y0], [Y1], [Y2]])"
   ]
  },
  {
   "cell_type": "code",
   "execution_count": 11,
   "metadata": {
    "vscode": {
     "languageId": "python"
    }
   },
   "outputs": [],
   "source": [
    "# Test rs_encode() and matrix_mul()\n",
    "\n",
    "# rs_encode([1, 2, 3, 4, 5, 6, 7, 8], Fp(1), 8, 2) == matrix_mul(G, [1, 2, 3, 4, 5, 6, 7, 8])"
   ]
  },
  {
   "cell_type": "markdown",
   "metadata": {},
   "source": [
    "## Ligerito protocol\n",
    "\n",
    "\n",
    "1. blowup factor is `2`\n",
    "2. number of queries is `2`\n",
    "3. coset generator is `Fp(1)`"
   ]
  },
  {
   "cell_type": "code",
   "execution_count": 15,
   "metadata": {
    "vscode": {
     "languageId": "python"
    }
   },
   "outputs": [],
   "source": [
    "blowup_factor = 2\n",
    "num_queries = 2\n",
    "coset_gen = Fp(1)\n"
   ]
  },
  {
   "cell_type": "code",
   "execution_count": 16,
   "metadata": {
    "vscode": {
     "languageId": "python"
    }
   },
   "outputs": [
    {
     "data": {
      "text/plain": [
       "25"
      ]
     },
     "execution_count": 16,
     "metadata": {},
     "output_type": "execute_result"
    }
   ],
   "source": [
    "# An MLE polynomial example, with length 32\n",
    "evals_over_hypercube = [Fp(2), Fp(3), Fp(4), Fp(5), Fp(6), Fp(7), Fp(8), Fp(9), \\\n",
    "             Fp(10), Fp(11), Fp(12), Fp(13), Fp(14), Fp(15), Fp(16), Fp(17), \\\n",
    "             Fp(2), Fp(3), Fp(4), Fp(5), Fp(6), Fp(7), Fp(8), Fp(9), \\\n",
    "             Fp(10), Fp(11), Fp(12), Fp(13), Fp(14), Fp(15), Fp(16), Fp(17), \\\n",
    "            ]\n",
    "\n",
    "point = [Fp(-1), Fp(2), Fp(1), Fp(2), Fp(2)]\n",
    "\n",
    "f_mle = MLEPolynomial(evals_over_hypercube, 5)\n",
    "\n",
    "evaluation = f_mle.evaluate(point)\n",
    "evaluation\n"
   ]
  },
  {
   "cell_type": "code",
   "execution_count": 17,
   "metadata": {
    "vscode": {
     "languageId": "python"
    }
   },
   "outputs": [],
   "source": [
    "transcript = MerlinTranscript(\"test\")"
   ]
  },
  {
   "cell_type": "code",
   "execution_count": 22,
   "metadata": {
    "vscode": {
     "languageId": "python"
    }
   },
   "outputs": [
    {
     "name": "stdout",
     "output_type": "stream",
     "text": [
      "c_mat_T=[[14, 30, 46, 62, 14, 30, 46, 62], [191, 191, 191, 191, 191, 191, 191, 191], [160, 160, 160, 160, 160, 160, 160, 160], [29, 29, 29, 29, 29, 29, 29, 29], [148, 157, 166, 175, 148, 157, 166, 175], [173, 103, 33, 156, 173, 103, 33, 156], [128, 13, 91, 169, 128, 13, 91, 169], [138, 137, 136, 135, 138, 137, 136, 135]]\n"
     ]
    },
    {
     "data": {
      "text/plain": [
       "Commitment(len=8, root=24aa527a7c934be3c684c9eae6fa42a46037df5fa41be695016622f16ed441ed)"
      ]
     },
     "execution_count": 22,
     "metadata": {},
     "output_type": "execute_result"
    }
   ],
   "source": [
    "# Commit to the MLE polynomial\n",
    "\n",
    "class Commitment:\n",
    "\n",
    "    def __init__(self, tree: MerkleTree):\n",
    "        self.tree = tree\n",
    "        self.cm = tree.root\n",
    "        self.root = tree.root\n",
    "\n",
    "    def __repr__(self):\n",
    "        return f\"Commitment(len={len(self.tree.data)}, root={self.cm})\"\n",
    "    \n",
    "def commit(f_mle: MLEPolynomial) -> Commitment:\n",
    "    evals = f_mle.evals\n",
    "    k = f_mle.num_var\n",
    "    k2 = k // 2\n",
    "    k1 = k - k2\n",
    "    n1 = 2**k1\n",
    "    n2 = 2**k2\n",
    "    c_mat = []\n",
    "    for i in range(n1):\n",
    "        c_row = [evals[i*n2+j] for j in range(n2)]\n",
    "        c_row_code = rs_encode(c_row, coset_gen, blowup_factor)\n",
    "        c_mat.append(c_row_code)\n",
    "\n",
    "    c_mat_T = matrix_transpose(c_mat)\n",
    "    print(f\"c_mat_T={c_mat_T}\")\n",
    "    cm_vec = [MerkleTree(c_mat_T[i]) for i in range(len(c_mat_T))]\n",
    "    # print(f\"cm_vec={[cm_vec[i].root for i in range(len(cm_vec))]})\")\n",
    "    return Commitment(MerkleTree([cm.root for cm in cm_vec]))\n",
    "\n",
    "f_cm = commit(f_mle)\n",
    "f_cm\n"
   ]
  },
  {
   "cell_type": "markdown",
   "metadata": {},
   "source": [
    "### Prove the evaluation argument\n"
   ]
  },
  {
   "cell_type": "code",
   "execution_count": 23,
   "metadata": {
    "vscode": {
     "languageId": "python"
    }
   },
   "outputs": [
    {
     "data": {
      "text/plain": [
       "[191, 107]"
      ]
     },
     "execution_count": 23,
     "metadata": {},
     "output_type": "execute_result"
    }
   ],
   "source": [
    "[Fp(-3)*Fp(65), Fp(64)*Fp(65)]\n"
   ]
  },
  {
   "cell_type": "markdown",
   "metadata": {},
   "source": [
    "## Misc"
   ]
  },
  {
   "cell_type": "code",
   "execution_count": 141,
   "metadata": {
    "vscode": {
     "languageId": "python"
    }
   },
   "outputs": [],
   "source": [
    "blowup_factor = 2\n",
    "\n",
    "def prove_eval(mle: MLEPolynomial, point: list[Fp], transcript: MerlinTranscript):\n",
    "    assert mle.num_var == len(point), \"mle.num_var != len(point)\"\n",
    "\n",
    "    evals = mle.evals\n",
    "    k = mle.num_var\n",
    "    k1_prime = 2\n",
    "    k1 = k - k1_prime\n",
    "\n",
    "    G = rs_generator_matrix(Fp(1), 2**k1, blowup_factor)\n",
    "    X = []\n",
    "    for i in range(2**k1):\n",
    "        X.append([evals[i+j*2**k1] for j in range(2**k1_prime)])\n",
    "\n",
    "    r_vec = [Fp.random_element() for _ in range(k1_prime)]\n",
    "\n",
    "    eq_r = MLEPolynomial.eqs_over_hypercube(r_vec)\n",
    "\n",
    "    X_code = matrix_mul_matrix(G, X)\n",
    "    \n",
    "    y = matrix_mul_vec(X, eq_r)\n",
    "\n",
    "    return X, X_code, y, r_vec\n",
    "\n",
    "def verify_eval(X_code, y, point: list[Fp], r_vec: list[Fp],transcript: MerlinTranscript):\n",
    "\n",
    "    k = len(point)\n",
    "    k1_prime = 2\n",
    "    k1 = k - k1_prime\n",
    "\n",
    "    G = rs_generator_matrix(Fp(1), 2**k1, blowup_factor)\n",
    "\n",
    "    eq_r = MLEPolynomial.eqs_over_hypercube(r_vec)\n",
    "\n",
    "    lhs = matrix_mul_vec(X_code, eq_r)\n",
    "    rhs = matrix_mul_vec(G, y)\n",
    "    return lhs, rhs\n"
   ]
  },
  {
   "cell_type": "code",
   "execution_count": 142,
   "metadata": {
    "vscode": {
     "languageId": "python"
    }
   },
   "outputs": [],
   "source": [
    "def matrix_geometric(M):\n",
    "    return len(M), len(M[0])"
   ]
  },
  {
   "cell_type": "code",
   "execution_count": 143,
   "metadata": {
    "vscode": {
     "languageId": "python"
    }
   },
   "outputs": [],
   "source": [
    "X, X_code, y, r_vec = prove_eval(MLEPolynomial([1, 2, 3, 4, 5, 6, 7, 8, 9, 10, 11, 12, 13, 14, 15, 16], 4), [1, 2, 3, 4], transcript)"
   ]
  },
  {
   "cell_type": "code",
   "execution_count": 144,
   "metadata": {
    "vscode": {
     "languageId": "python"
    }
   },
   "outputs": [
    {
     "data": {
      "text/plain": [
       "([157, 150], (8, 4), (4, 4), [92, 93, 94, 95])"
      ]
     },
     "execution_count": 144,
     "metadata": {},
     "output_type": "execute_result"
    }
   ],
   "source": [
    "r_vec, matrix_geometric(X_code), matrix_geometric(X), y"
   ]
  },
  {
   "cell_type": "code",
   "execution_count": 145,
   "metadata": {
    "vscode": {
     "languageId": "python"
    }
   },
   "outputs": [
    {
     "data": {
      "text/plain": [
       "([181, 61, 160, 146, 191, 142, 29, 19], [181, 61, 160, 146, 191, 142, 29, 19])"
      ]
     },
     "execution_count": 145,
     "metadata": {},
     "output_type": "execute_result"
    }
   ],
   "source": [
    "verify_eval(X_code, y, [1, 2, 3, 4], r_vec,transcript)"
   ]
  },
  {
   "cell_type": "code",
   "execution_count": 146,
   "metadata": {
    "vscode": {
     "languageId": "python"
    }
   },
   "outputs": [],
   "source": [
    "X, X_code, y, r_vec  = prove_eval(MLEPolynomial([X1, X2, X3, X4, X5, X6, X7, X8], 3), [1, 2, 3], transcript)"
   ]
  },
  {
   "cell_type": "code",
   "execution_count": 147,
   "metadata": {
    "vscode": {
     "languageId": "python"
    }
   },
   "outputs": [
    {
     "data": {
      "text/plain": [
       "([[X1, X3, X5, X7], [X2, X4, X6, X8]],\n",
       " [[X1 + X2, X3 + X4, X5 + X6, X7 + X8],\n",
       "  [X1 - 81*X2, X3 - 81*X4, X5 - 81*X6, X7 - 81*X8],\n",
       "  [X1 - X2, X3 - X4, X5 - X6, X7 - X8],\n",
       "  [X1 + 81*X2, X3 + 81*X4, X5 + 81*X6, X7 + 81*X8]],\n",
       " [40*X1 + 90*X3 - 10*X5 + 74*X7, 40*X2 + 90*X4 - 10*X6 + 74*X8],\n",
       " [164, 64])"
      ]
     },
     "execution_count": 147,
     "metadata": {},
     "output_type": "execute_result"
    }
   ],
   "source": [
    "X, X_code, y, r_vec"
   ]
  },
  {
   "cell_type": "code",
   "execution_count": 148,
   "metadata": {
    "vscode": {
     "languageId": "python"
    }
   },
   "outputs": [
    {
     "data": {
      "text/plain": [
       "([40*X1 + 40*X2 + 90*X3 + 90*X4 - 10*X5 - 10*X6 + 74*X7 + 74*X8,\n",
       "  40*X1 + 41*X2 + 90*X3 + 44*X4 - 10*X5 + 38*X6 + 74*X7 - 11*X8,\n",
       "  40*X1 - 40*X2 + 90*X3 - 90*X4 - 10*X5 + 10*X6 + 74*X7 - 74*X8,\n",
       "  40*X1 - 41*X2 + 90*X3 - 44*X4 - 10*X5 - 38*X6 + 74*X7 + 11*X8],\n",
       " [40*X1 + 40*X2 + 90*X3 + 90*X4 - 10*X5 - 10*X6 + 74*X7 + 74*X8,\n",
       "  40*X1 + 41*X2 + 90*X3 + 44*X4 - 10*X5 + 38*X6 + 74*X7 - 11*X8,\n",
       "  40*X1 - 40*X2 + 90*X3 - 90*X4 - 10*X5 + 10*X6 + 74*X7 - 74*X8,\n",
       "  40*X1 - 41*X2 + 90*X3 - 44*X4 - 10*X5 - 38*X6 + 74*X7 + 11*X8])"
      ]
     },
     "execution_count": 148,
     "metadata": {},
     "output_type": "execute_result"
    }
   ],
   "source": [
    "verify_eval(X_code, y, [1, 2, 3], r_vec, transcript)"
   ]
  },
  {
   "cell_type": "markdown",
   "metadata": {},
   "source": [
    "## Section 5: Matrix-vector product with partial sumcheck"
   ]
  },
  {
   "cell_type": "code",
   "execution_count": 172,
   "metadata": {
    "vscode": {
     "languageId": "python"
    }
   },
   "outputs": [],
   "source": [
    "blowup_factor = 2\n",
    "debug = 2\n",
    "def prove_eval(mle: MLEPolynomial, point: list[Fp], transcript: MerlinTranscript):\n",
    "    assert mle.num_var == len(point), \"mle.num_var != len(point)\"\n",
    "\n",
    "    v = mle.evaluate(point)\n",
    "    print(f\"P> v = {v}\")\n",
    "    evals = mle.evals\n",
    "    k = mle.num_var\n",
    "    k1_prime = 2\n",
    "    k1 = k - k1_prime\n",
    "\n",
    "    G = rs_generator_matrix(Fp(1), 2**k1, blowup_factor)\n",
    "    X = []\n",
    "    for i in range(2**k1):\n",
    "        X.append([evals[i+j*2**k1] for j in range(2**k1_prime)])\n",
    "    if debug > 0:\n",
    "        print(f\"P> X = {X}\")\n",
    "\n",
    "    f = mle.evals\n",
    "    eq = MLEPolynomial.eqs_over_hypercube(point)\n",
    "    sumcheck_h_vec = []\n",
    "    sum_checked = v\n",
    "    r_vec = []\n",
    "    for i in range(k1_prime):\n",
    "        if debug > 0:\n",
    "            print(f\"P> sumcheck round {i}\")\n",
    "        half = len(f) // 2\n",
    "        f_low = f[:half]\n",
    "        f_high = f[half:]\n",
    "        eq_low = eq[:half]\n",
    "        eq_high = eq[half:]\n",
    "\n",
    "        h_eval_at_0 = sum([f_low[j] * eq_low[j] for j in range(half)], Fp(0))\n",
    "        h_eval_at_1 = sum([f_high[j] * eq_high[j] for j in range(half)], Fp(0))\n",
    "        h_eval_at_2 = sum([ (2 * f_high[j] - f_low[j]) * (2 * eq_high[j] - eq_low[j]) for j in range(half)], Fp(0))\n",
    "\n",
    "        h = [h_eval_at_0, h_eval_at_1, h_eval_at_2]\n",
    "        sumcheck_h_vec.append(h)\n",
    "\n",
    "        transcript.absorb(b\"h(X)\", h)\n",
    "\n",
    "        if debug > 0:\n",
    "            print(f\"P> h = {h}\")\n",
    "        \n",
    "        assert h_eval_at_0 + h_eval_at_1 == sum_checked, \\\n",
    "            f\"h_eval_at_0 + h_eval_at_1 = {h_eval_at_0 + h_eval_at_1}, sum_checked = {sum_checked}\"\n",
    "\n",
    "        r = Fp.random_element()\n",
    "\n",
    "        r_vec.append(r)\n",
    "\n",
    "        # fold f\n",
    "\n",
    "        f_folded = [(Fp(1) - r) * f_low[i] + r * f_high[i] for i in range(half)]\n",
    "        eq_folded = [(Fp(1) - r) * eq_low[i] + r * eq_high[i] for i in range(half)]\n",
    "\n",
    "        f = f_folded\n",
    "        eq = eq_folded\n",
    "\n",
    "        sum_checked = UniPolynomial.evaluate_from_evals(h, \n",
    "                r, [Fp(0), Fp(1), Fp(2)])\n",
    "\n",
    "    X_code = matrix_mul_matrix(G, X)\n",
    "\n",
    "    X_code_T = matrix_transpose(X_code)\n",
    "    \n",
    "    cm_vec = [MerkleTree(X_code_T[i]) for i in range(len(X_code_T))]\n",
    "\n",
    "    print(cm_vec)\n",
    "\n",
    "    eq_r = MLEPolynomial.eqs_over_hypercube(r_vec[::-1])\n",
    "\n",
    "    y = matrix_mul_vec(X, eq_r)\n",
    "    assert y == f_folded, f\"y != f_folded, y = {y}, f_folded = {f_folded}\"\n",
    "    \n",
    "\n",
    "    if debug > 1: \n",
    "        print(f\"P> check folded code\")\n",
    "        X_code_folded = matrix_mul_vec(X_code, eq_r)\n",
    "        print(X_code_folded)\n",
    "        assert X_code_folded == matrix_mul_vec(G, f_folded), f\"X_code_folded != X_code\"\n",
    "        print(f\"P> check folded code passed\")\n",
    "\n",
    "    return X, X_code, y, r_vec\n",
    "\n",
    "def verify_eval(X_code, y, point: list[Fp], r_vec: list[Fp], transcript: MerlinTranscript):\n",
    "\n",
    "    k = len(point)\n",
    "    k1_prime = 2\n",
    "    k1 = k - k1_prime\n",
    "\n",
    "    G = rs_generator_matrix(Fp(1), 2**k1, blowup_factor)\n",
    "\n",
    "    eq_r = MLEPolynomial.eqs_over_hypercube(r_vec)\n",
    "\n",
    "    lhs = matrix_mul_vec(X_code, eq_r)\n",
    "    rhs = matrix_mul_vec(G, y)\n",
    "    return lhs, rhs\n",
    "\n"
   ]
  },
  {
   "cell_type": "code",
   "execution_count": 173,
   "metadata": {
    "vscode": {
     "languageId": "python"
    }
   },
   "outputs": [
    {
     "name": "stdout",
     "output_type": "stream",
     "text": [
      "P> v = 2*X2 - 4*X4 - 3*X6 + 6*X8\n",
      "P> X = [[X1, X3, X5, X7], [X2, X4, X6, X8]]\n",
      "P> sumcheck round 0\n",
      "P> h = [2*X2 - 4*X4, -3*X6 + 6*X8, 8*X2 - 16*X4 - 16*X6 + 32*X8]\n",
      "P> sumcheck round 1\n",
      "P> h = [2*X2, -4*X4, 10*X2 - 20*X4]\n",
      "[<merkle.MerkleTree object at 0x161c27440>, <merkle.MerkleTree object at 0x161c27f80>, <merkle.MerkleTree object at 0x161c27620>, <merkle.MerkleTree object at 0x161c26480>]\n",
      "P> check folded code\n",
      "[56*X1 + 56*X2 - 55*X3 - 55*X4, 56*X1 + 96*X2 - 55*X3 + 16*X4, 56*X1 - 56*X2 - 55*X3 + 55*X4, 56*X1 - 96*X2 - 55*X3 - 16*X4]\n",
      "P> check folded code passed\n"
     ]
    }
   ],
   "source": [
    "X, X_code, y, r_vec  = prove_eval(MLEPolynomial([X1, X2, X3, X4, X5, X6, X7, X8], 3), [1, 2, 3], transcript)"
   ]
  },
  {
   "cell_type": "code",
   "execution_count": 174,
   "metadata": {
    "vscode": {
     "languageId": "python"
    }
   },
   "outputs": [],
   "source": [
    "def reverse_bits(n: int, bit_length: int) -> int:\n",
    "    \"\"\"\n",
    "    Reverse the bits of an integer.\n",
    "\n",
    "    Args:\n",
    "        n (int): The input integer.\n",
    "        bit_length (int): The number of bits to consider.\n",
    "\n",
    "    Returns:\n",
    "        int: The integer with its bits reversed.\n",
    "    \"\"\"\n",
    "    result = 0\n",
    "    for i in range(bit_length):\n",
    "        result = (result << 1) | (n & 1)\n",
    "        n >>= 1\n",
    "    return result"
   ]
  },
  {
   "cell_type": "code",
   "execution_count": 177,
   "metadata": {
    "vscode": {
     "languageId": "python"
    }
   },
   "outputs": [
    {
     "data": {
      "text/plain": [
       "1"
      ]
     },
     "execution_count": 177,
     "metadata": {},
     "output_type": "execute_result"
    }
   ],
   "source": [
    "reverse_bits(4, 3)"
   ]
  },
  {
   "cell_type": "code",
   "execution_count": 124,
   "metadata": {
    "vscode": {
     "languageId": "python"
    }
   },
   "outputs": [],
   "source": [
    "def tensor_vector(index: int, k1: int, blowup_factor: int):\n",
    "    N = 2**k1 * blowup_factor\n",
    "    omega_Nth = Fp.nth_root_of_unity(N)\n",
    "    index_rev = reverse_bits(index, log_2(N))\n",
    "    omega = omega_Nth**index_rev\n",
    "    print(f\"omega = {omega}\")\n",
    "    vec = [omega**(2**i) for i in range(k1)]\n",
    "    print(f\"vec = {vec}\")\n",
    "    return vec\n",
    "\n",
    "def rs_generator_matrix_at_row(index:int, f_len: int, coset:Fp, blowup_factor:int) -> list[Fp]:\n",
    "    n = next_power_of_two(f_len)\n",
    "    N = n * blowup_factor\n",
    "    omega_Nth = Fp.nth_root_of_unity(N)\n",
    "    index_rev = reverse_bits(index, log_2(N))\n",
    "    omega = omega_Nth**index_rev\n",
    "    return [coset* omega**i for i in range(n)]"
   ]
  },
  {
   "cell_type": "code",
   "execution_count": 125,
   "metadata": {
    "vscode": {
     "languageId": "python"
    }
   },
   "outputs": [
    {
     "name": "stdout",
     "output_type": "stream",
     "text": [
      "omega = 192\n",
      "vec = [192, 1, 1]\n"
     ]
    },
    {
     "data": {
      "text/plain": [
       "[192, 1, 1]"
      ]
     },
     "execution_count": 125,
     "metadata": {},
     "output_type": "execute_result"
    }
   ],
   "source": [
    "tensor_vector(1, 3, 2)"
   ]
  },
  {
   "cell_type": "code",
   "execution_count": 126,
   "metadata": {
    "vscode": {
     "languageId": "python"
    }
   },
   "outputs": [
    {
     "data": {
      "text/plain": [
       "(8, 192)"
      ]
     },
     "execution_count": 126,
     "metadata": {},
     "output_type": "execute_result"
    }
   ],
   "source": [
    "omega_Nth = Fp.nth_root_of_unity(16)\n",
    "index_rev = reverse_bits(1, 4)\n",
    "omega = omega_Nth**index_rev\n",
    "index_rev, omega"
   ]
  },
  {
   "cell_type": "code",
   "execution_count": 127,
   "metadata": {
    "vscode": {
     "languageId": "python"
    }
   },
   "outputs": [
    {
     "data": {
      "text/plain": [
       "(192, 1, 1)"
      ]
     },
     "execution_count": 127,
     "metadata": {},
     "output_type": "execute_result"
    }
   ],
   "source": [
    "omega, omega**2, omega**4"
   ]
  },
  {
   "cell_type": "code",
   "execution_count": 128,
   "metadata": {
    "vscode": {
     "languageId": "python"
    }
   },
   "outputs": [
    {
     "data": {
      "text/plain": [
       "[69, 7]"
      ]
     },
     "execution_count": 128,
     "metadata": {},
     "output_type": "execute_result"
    }
   ],
   "source": [
    "[63 * Fp(93), -2 * Fp(93)]"
   ]
  },
  {
   "cell_type": "code",
   "execution_count": 129,
   "metadata": {
    "vscode": {
     "languageId": "python"
    }
   },
   "outputs": [
    {
     "data": {
      "text/plain": [
       "[10, 22]"
      ]
     },
     "execution_count": 129,
     "metadata": {},
     "output_type": "execute_result"
    }
   ],
   "source": [
    "eq0 = [Fp(-83), Fp(28)]\n",
    "rs_w = [Fp(1), Fp(-81)]\n",
    "beta = Fp(93)\n",
    "eq = [eq0[j] + beta * rs_w[j] for j in range(len(eq0))]\n",
    "eq\n"
   ]
  },
  {
   "cell_type": "code",
   "execution_count": 155,
   "metadata": {
    "vscode": {
     "languageId": "python"
    }
   },
   "outputs": [
    {
     "data": {
      "text/plain": [
       "[70, 88]"
      ]
     },
     "execution_count": 155,
     "metadata": {},
     "output_type": "execute_result"
    }
   ],
   "source": [
    "point = [Fp(3), Fp(2), Fp(2)]\n",
    "k_last = 1\n",
    "r_vec_all = [Fp(76), Fp(70)]\n",
    "\n",
    "scalar = MLEPolynomial.evaluate_eq_polynomial(point[k_last:], r_vec_all)\n",
    "eq_0 = MLEPolynomial.eqs_over_hypercube(point[:k_last])\n",
    "eq_0 = [eq_0[j] * scalar for j in range(2**k_last)]\n",
    "eq_0"
   ]
  },
  {
   "cell_type": "code",
   "execution_count": 131,
   "metadata": {
    "vscode": {
     "languageId": "python"
    }
   },
   "outputs": [],
   "source": [
    "q=7\n",
    "k1_prime = 1\n",
    "k1 = 2"
   ]
  },
  {
   "cell_type": "code",
   "execution_count": 132,
   "metadata": {
    "vscode": {
     "languageId": "python"
    }
   },
   "outputs": [
    {
     "data": {
      "text/plain": [
       "[1, 9, 81, 150]"
      ]
     },
     "execution_count": 132,
     "metadata": {},
     "output_type": "execute_result"
    }
   ],
   "source": [
    "rs_generator_matrix_at_row(q, 2**k1, Fp(1), 4)"
   ]
  },
  {
   "cell_type": "code",
   "execution_count": 133,
   "metadata": {
    "vscode": {
     "languageId": "python"
    }
   },
   "outputs": [
    {
     "data": {
      "text/plain": [
       "[76]"
      ]
     },
     "execution_count": 133,
     "metadata": {},
     "output_type": "execute_result"
    }
   ],
   "source": [
    "r_vec = r_vec_all[:k1-k_last]\n",
    "r_vec\n"
   ]
  },
  {
   "cell_type": "code",
   "execution_count": 147,
   "metadata": {
    "vscode": {
     "languageId": "python"
    }
   },
   "outputs": [
    {
     "data": {
      "text/plain": [
       "[1, X0, X1, X0*X1, X2, X0*X2, X1*X2, X0*X1*X2]"
      ]
     },
     "execution_count": 147,
     "metadata": {},
     "output_type": "execute_result"
    }
   ],
   "source": [
    "def tensor_vector_with_monomial_basis(vec: list[Fp]) -> list[Fp]:\n",
    "    if len(vec) == 0:\n",
    "        return [Fp(1)]\n",
    "    v = vec[-1]\n",
    "    vec_expanded = tensor_vector_with_monomial_basis(vec[:-1])\n",
    "    vec_right = [vec_expanded[i] * v for i in range(len(vec_expanded))]\n",
    "    return vec_expanded + vec_right\n",
    "tensor_vector_with_monomial_basis([X0, X1, X2])"
   ]
  },
  {
   "cell_type": "code",
   "execution_count": 148,
   "metadata": {
    "vscode": {
     "languageId": "python"
    }
   },
   "outputs": [
    {
     "data": {
      "text/plain": [
       "[-X0*X1*X2 + X0*X1 + X0*X2 + X1*X2 - X0 - X1 - X2 + 1,\n",
       " X0*X1*X2 - X0*X1 - X0*X2 + X0,\n",
       " X0*X1*X2 - X0*X1 - X1*X2 + X1,\n",
       " -X0*X1*X2 + X0*X1,\n",
       " X0*X1*X2 - X0*X2 - X1*X2 + X2,\n",
       " -X0*X1*X2 + X0*X2,\n",
       " -X0*X1*X2 + X1*X2,\n",
       " X0*X1*X2]"
      ]
     },
     "execution_count": 148,
     "metadata": {},
     "output_type": "execute_result"
    }
   ],
   "source": [
    "def tensor_vector_with_multilinear_basis(vec: list[Fp]) -> list[Fp]:\n",
    "    if len(vec) == 0:\n",
    "        return [Fp(1)]\n",
    "    v = vec[-1]\n",
    "    vec_expanded = tensor_vector_with_multilinear_basis(vec[:-1])\n",
    "    vec_left = [vec_expanded[i] * (Fp(1)-v) for i in range(len(vec_expanded))]\n",
    "    vec_right = [vec_expanded[i] * v for i in range(len(vec_expanded))]\n",
    "    return vec_left + vec_right\n",
    "tensor_vector_with_multilinear_basis([X0, X1, X2])"
   ]
  },
  {
   "cell_type": "code",
   "execution_count": 149,
   "metadata": {
    "vscode": {
     "languageId": "python"
    }
   },
   "outputs": [
    {
     "data": {
      "text/plain": [
       "[-X0*X1*X2 + X0*X1 + X0*X2 + X1*X2 - X0 - X1 - X2 + 1,\n",
       " X0*X1*X2 - X0*X1 - X0*X2 + X0,\n",
       " X0*X1*X2 - X0*X1 - X1*X2 + X1,\n",
       " -X0*X1*X2 + X0*X1,\n",
       " X0*X1*X2 - X0*X2 - X1*X2 + X2,\n",
       " -X0*X1*X2 + X0*X2,\n",
       " -X0*X1*X2 + X1*X2,\n",
       " X0*X1*X2]"
      ]
     },
     "execution_count": 149,
     "metadata": {},
     "output_type": "execute_result"
    }
   ],
   "source": [
    "MLEPolynomial.eqs_over_hypercube([X0, X1, X2])"
   ]
  },
  {
   "cell_type": "code",
   "execution_count": 161,
   "metadata": {
    "vscode": {
     "languageId": "python"
    }
   },
   "outputs": [
    {
     "name": "stdout",
     "output_type": "stream",
     "text": [
      "omega = 9\n",
      "vec = [9, 81]\n",
      "w_rev = [9, 81]\n",
      "w_ex = [1, 81]\n",
      "r_ex = [118, 76]\n",
      "scalar = 98, scalar_2 = 98\n"
     ]
    },
    {
     "data": {
      "text/plain": [
       "([6, 91], [98, 110], 98)"
      ]
     },
     "execution_count": 161,
     "metadata": {},
     "output_type": "execute_result"
    }
   ],
   "source": [
    "# iteration 0\n",
    "\n",
    "from functools import reduce\n",
    "from operator import mul\n",
    "\n",
    "beta=Fp(86)\n",
    "q=7\n",
    "k1_prime = 1\n",
    "k1 = 2\n",
    "r_vec = r_vec_all[:k1-k_last]\n",
    "\n",
    "w_rev = tensor_vector(q, k1, 2)\n",
    "print(f\"w_rev = {w_rev}\")\n",
    "w_ex = tensor_vector_with_monomial_basis(w_rev[k_last:])\n",
    "print(f\"w_ex = {w_ex}\")\n",
    "r_ex = tensor_vector_with_multilinear_basis(r_vec)\n",
    "print(f\"r_ex = {r_ex}\")\n",
    "scalar = inner_product(r_ex, w_ex, Fp(0))\n",
    "scalar_2 = reduce(mul, [inner_product([Fp(1)-r_vec[j], r_vec[j]], [1, w_rev[k_last:][j]], Fp(0)) for j in range(len(r_vec))], Fp(1))\n",
    "print(f\"scalar = {scalar}, scalar_2 = {scalar_2}\")\n",
    "assert scalar == scalar_2, f\"scalar != scalar_2, {scalar} != {scalar_2}\"\n",
    "\n",
    "new_eq = tensor_vector_with_monomial_basis(w_rev[:k_last])\n",
    "new_eq = [new_eq[j] * scalar for j in range(2**k_last)]\n",
    "eq_2 = [eq_0[j] + beta * new_eq[j] for j in range(2**k_last)]\n",
    "eq_2, new_eq, scalar\n"
   ]
  },
  {
   "cell_type": "code",
   "execution_count": 162,
   "metadata": {
    "vscode": {
     "languageId": "python"
    }
   },
   "outputs": [
    {
     "name": "stdout",
     "output_type": "stream",
     "text": [
      "omega = 1\n",
      "vec = [1]\n",
      "w_rev = [1]\n",
      "w_ex = [1]\n",
      "r_ex = [1]\n",
      "scalar = 1, scalar_2 = 1\n"
     ]
    },
    {
     "data": {
      "text/plain": [
       "([18, 103], [1, 1], 1)"
      ]
     },
     "execution_count": 162,
     "metadata": {},
     "output_type": "execute_result"
    }
   ],
   "source": [
    "# iteration 1\n",
    "\n",
    "q=0\n",
    "k1_prime = 1\n",
    "k1 = 1\n",
    "r_vec = r_vec_all[:k1-k_last]\n",
    "beta = Fp(12)\n",
    "\n",
    "w_rev = tensor_vector(q, k1, 2)\n",
    "print(f\"w_rev = {w_rev}\")\n",
    "w_ex = tensor_vector_with_monomial_basis(w_rev[k_last:])\n",
    "print(f\"w_ex = {w_ex}\")\n",
    "r_ex = tensor_vector_with_multilinear_basis(r_vec)\n",
    "print(f\"r_ex = {r_ex}\")\n",
    "scalar = inner_product(r_ex, w_ex, Fp(0))\n",
    "scalar_2 = reduce(mul, [inner_product([Fp(1)-r_vec[j], r_vec[j]], [1, w_rev[k_last:][j]], Fp(0)) for j in range(len(r_vec))], Fp(1))\n",
    "print(f\"scalar = {scalar}, scalar_2 = {scalar_2}\")\n",
    "assert scalar == scalar_2, f\"scalar != scalar_2, {scalar} != {scalar_2}\"\n",
    "\n",
    "new_eq = tensor_vector_with_monomial_basis(w_rev[:k_last])\n",
    "new_eq = [new_eq[j] * scalar for j in range(2**k_last)]\n",
    "eq_3 = [eq_2[j] + beta * new_eq[j] for j in range(2**k_last)]\n",
    "eq_3, new_eq, scalar"
   ]
  },
  {
   "cell_type": "code",
   "execution_count": null,
   "metadata": {
    "vscode": {
     "languageId": "python"
    }
   },
   "outputs": [],
   "source": []
  }
 ],
 "metadata": {
  "kernelspec": {
   "display_name": "SageMath 10.4",
   "language": "sage",
   "name": "SageMath-10.4"
  },
  "language_info": {
   "codemirror_mode": {
    "name": "ipython",
    "version": 3
   },
   "file_extension": ".py",
   "mimetype": "text/x-python",
   "name": "sage",
   "nbconvert_exporter": "python",
   "pygments_lexer": "ipython3",
   "version": "3.12.4"
  }
 },
 "nbformat": 4,
 "nbformat_minor": 2
}
