{
 "cells": [
  {
   "cell_type": "code",
   "execution_count": 1,
   "metadata": {},
   "outputs": [],
   "source": [
    "F193 = GF(64*3+1)\n",
    "TWO_ADICITY = 6\n",
    "ORDER = 64*3+1\n",
    "MULTIPLICATIVE_GENERATOR = F193.primitive_element()\n",
    "ROOT_OF_UNITY = F193(MULTIPLICATIVE_GENERATOR**3)\n",
    "F193.primitive_element()\n",
    "R193.<X, A, B, X0, X1, X2, X3, X4, X5, A0, A1, A2, A3, A4, A5, A6, A7, A8, A9, A10, A11, A12, A13, A14, A15> = PolynomialRing(F193)"
   ]
  },
  {
   "cell_type": "code",
   "execution_count": 2,
   "metadata": {},
   "outputs": [],
   "source": [
    "from typing import Union, Optional, TypeVar\n",
    "from random import randint, Random\n",
    "from utils import prime_field_inv, is_power_of_two, log_2, next_power_of_two"
   ]
  },
  {
   "cell_type": "code",
   "execution_count": 3,
   "metadata": {},
   "outputs": [],
   "source": [
    "class Fp:\n",
    "    field_modulus = ORDER\n",
    "\n",
    "    ROOT_OF_UNITY = ROOT_OF_UNITY\n",
    "    MULTIPLICATIVE_GENERATOR = MULTIPLICATIVE_GENERATOR\n",
    "    TWO_ADICITY = TWO_ADICITY\n",
    "\n",
    "    def __init__(self, val: Integer | int) -> None:\n",
    "        if self.field_modulus is None:\n",
    "            raise AttributeError(\"Field Modulus hasn't been specified\")\n",
    "\n",
    "        if isinstance(val, Fp):\n",
    "            self.n = val.n % self.field_modulus\n",
    "        elif isinstance(val, Integer):\n",
    "            self.n = val % self.field_modulus\n",
    "        elif Integer(val) == Integer(val):\n",
    "            self.n = Integer(val) % self.field_modulus\n",
    "        else:\n",
    "            raise TypeError(\n",
    "                \"Expected an int or Fp object, but got object of type {}\"\n",
    "                .format(type(val))\n",
    "            )\n",
    "\n",
    "    def __add__(self, other: Union[Integer, \"Fp\"]) -> \"Fp\":\n",
    "        if isinstance(other, Fp):\n",
    "            on = other.n\n",
    "        elif isinstance(other, Integer):\n",
    "            on = other\n",
    "        elif Integer(other) == Integer(other):\n",
    "            on = Integer(other)\n",
    "        else:\n",
    "            raise TypeError(\n",
    "                \"Expected an int or Fp object, but got object of type {}\"\n",
    "                .format(type(other))\n",
    "            )\n",
    "\n",
    "        return type(self)((self.n + on) % self.field_modulus)\n",
    "\n",
    "    def __mul__(self, other: Union[\"Fp\", Integer]) -> \"Fp\":\n",
    "        if isinstance(other, Fp):\n",
    "            on = other.n\n",
    "        elif isinstance(other, Integer):\n",
    "            on = other\n",
    "        elif Integer(other) == Integer(other):\n",
    "            on = Integer(other)\n",
    "        else:\n",
    "            raise TypeError(\n",
    "                \"Expected an int or Fp object, but got object of type {}\"\n",
    "                .format(type(other))\n",
    "            )\n",
    "\n",
    "        return type(self)((self.n * on) % self.field_modulus)\n",
    "\n",
    "    def __rmul__(self, other: Union[\"Fp\", Integer]) -> \"Fp\":\n",
    "        return self * other\n",
    "\n",
    "    def __radd__(self, other: Union[\"Fp\", Integer]) -> \"Fp\":\n",
    "        return self + other\n",
    "\n",
    "    def __rsub__(self, other: Union[\"Fp\", Integer]) -> \"Fp\":\n",
    "        if isinstance(other, Fp):\n",
    "            on = other.n\n",
    "        elif isinstance(other, Integer):\n",
    "            on = other\n",
    "        elif Integer(other) == Integer(other):\n",
    "            on = Integer(other)\n",
    "        else:\n",
    "            raise TypeError(\n",
    "                \"Expected an int or Fp object, but got object of type {}\"\n",
    "                .format(type(other))\n",
    "            )\n",
    "\n",
    "        return type(self)((on - self.n) % self.field_modulus)\n",
    "\n",
    "    def __sub__(self, other: Union[\"Fp\", Integer]) -> \"Fp\":\n",
    "        if isinstance(other, Fp):\n",
    "            on = other.n\n",
    "        elif isinstance(other, Integer):\n",
    "            on = other\n",
    "        elif Integer(other) == Integer(other):\n",
    "            on = Integer(other)\n",
    "        else:\n",
    "            raise TypeError(\n",
    "                \"Expected an int or Fp object, but got object of type {}\"\n",
    "                .format(type(other))\n",
    "            )\n",
    "\n",
    "        return type(self)((self.n - on) % self.field_modulus)\n",
    "\n",
    "    def __div__(self, other: Union[\"Fp\", Integer]) -> \"Fp\":\n",
    "        if isinstance(other, Fp):\n",
    "            on = other.n\n",
    "        elif isinstance(other, Integer):\n",
    "            on = other\n",
    "        elif Integer(other) == Integer(other):\n",
    "            on = Integer(other)\n",
    "        else:\n",
    "            raise TypeError(\n",
    "                \"Expected an int or Fp object, but got object of type {}\"\n",
    "                .format(type(other))\n",
    "            )\n",
    "\n",
    "        return type(self)(\n",
    "            self.n * prime_field_inv(on, self.field_modulus) % self.field_modulus\n",
    "        )\n",
    "\n",
    "    def __truediv__(self, other: Union[\"Fp\", Integer]) -> \"Fp\":\n",
    "        return self.__div__(other)\n",
    "\n",
    "    def __rdiv__(self, other: Union[\"Fp\", Integer]) -> \"Fp\":\n",
    "        if isinstance(other, Fp):\n",
    "            on = other.n\n",
    "        elif isinstance(other, Integer):\n",
    "            on = other\n",
    "        elif Integer(other) == Integer(other):\n",
    "            on = Integer(other)\n",
    "        else:\n",
    "            raise TypeError(\n",
    "                \"Expected an int or Fp object, but got object of type {}\"\n",
    "                .format(type(other))\n",
    "            )\n",
    "\n",
    "        return type(self)(\n",
    "            prime_field_inv(self.n, self.field_modulus) * on % self.field_modulus\n",
    "        )\n",
    "\n",
    "    def __rtruediv__(self, other: Union[\"Fp\", Integer]) -> \"Fp\":\n",
    "        return self.__rdiv__(other)\n",
    "\n",
    "    # def __pow__(self, other: Union[\"Fp\", Integer]) -> \"Fp\":\n",
    "    #     if other == 0:\n",
    "    #         return type(self)(1)\n",
    "    #     elif other == 1:\n",
    "    #         return type(self)(self.n)\n",
    "    #     elif other % 2 == 0:\n",
    "    #         return (self * self) ** (other // 2)\n",
    "    #     else:\n",
    "    #         return ((self * self) ** (other // 2)) * self\n",
    "\n",
    "    def __eq__(self, other: Union[\"Fp\", Integer]) -> bool:\n",
    "        if isinstance(other, Fp):\n",
    "            return self.n == other.n\n",
    "        elif isinstance(other, Integer):\n",
    "            return self.n == other\n",
    "        elif Integer(other) == Integer(other):\n",
    "            return self.n == Integer(other)\n",
    "        else:\n",
    "            raise TypeError(\n",
    "                \"Expected an int or Fp object, but got object of type {}\"\n",
    "                .format(type(other))\n",
    "            )\n",
    "\n",
    "    def __ne__(self, other: Union[\"Fp\", Integer]) -> bool:\n",
    "        return not self == other\n",
    "\n",
    "    def __neg__(self) -> \"Fp\":\n",
    "        return type(self)(-self.n)\n",
    "\n",
    "    def __str__(self) -> str:\n",
    "        return self.repr()\n",
    "        \n",
    "    def __repr__(self) -> str:\n",
    "        return self.repr()\n",
    "    \n",
    "    # Override the default (inefficient) __pow__ function in py_ecc.fields.field_elements.FQ\n",
    "    def __pow__(self: \"Fp\", other: int) -> \"Fp\":\n",
    "        return type(self)(pow(self.n, other, self.field_modulus))\n",
    "    \n",
    "    # def __repr__(self) -> str:\n",
    "    #     return repr(self.n)\n",
    "\n",
    "    def __int__(self) -> int:\n",
    "        return self.n\n",
    "\n",
    "    @classmethod\n",
    "    def one(cls) -> \"Fp\":\n",
    "        return cls(1)\n",
    "\n",
    "    @classmethod\n",
    "    def zero(cls) -> \"Fp\":\n",
    "        return cls(0)\n",
    "    \n",
    "    @classmethod\n",
    "    def neg_one(cls) -> \"Fp\":\n",
    "        return cls(cls.field_modulus - 1)\n",
    "\n",
    "    @classmethod\n",
    "    def rand(cls, rndg: Optional[Random] = None) -> \"Fp\":\n",
    "        if rndg is None:\n",
    "            return cls(randint(1, cls.field_modulus - 1))\n",
    "        return cls(rndg.randint(1, cls.field_modulus - 1))\n",
    "    \n",
    "    @classmethod\n",
    "    def random(cls) -> \"Fp\":\n",
    "        return cls.rand()\n",
    "    \n",
    "    @classmethod\n",
    "    def rands(cls, rndg: Random, n: int) -> list[\"Fp\"]:\n",
    "        return [cls(rndg.randint(1, cls.field_modulus - 1)) for _ in range(n)]\n",
    "    \n",
    "    @classmethod\n",
    "    def from_bytes(cls, b: bytes) -> \"Fp\":\n",
    "        i = int.from_bytes(b, \"big\")\n",
    "        return cls(i)\n",
    "    \n",
    "    def inv(self) -> \"Fp\":\n",
    "        return Fp(prime_field_inv(self.n, self.field_modulus))\n",
    "    \n",
    "    def repr(self) -> str:\n",
    "        k = self.field_modulus // 2\n",
    "        if self.n < k:\n",
    "            return f\"{self.n}\"\n",
    "        else:\n",
    "            return f\"-{self.field_modulus - self.n}\"\n",
    "        \n",
    "    def exp(self: \"Fp\", other: int) -> \"Fp\":\n",
    "        return type(self)(pow(self.n, other, self.field_modulus))\n",
    "    \n",
    "    @classmethod\n",
    "    def compute_root_of_unity(cls) -> \"Fp\":\n",
    "        return cls(pow(cls.MULTIPLICATIVE_GENERATOR, ((cls.field_modulus - 1) // 2 ** cls.TWO_ADICITY), cls.field_modulus))\n",
    "    \n",
    "    @classmethod\n",
    "    def root_of_unity(cls) -> \"Fp\":\n",
    "        return cls(cls.ROOT_OF_UNITY)\n",
    "    \n",
    "    @classmethod\n",
    "    def multiplicative_generator(cls) -> \"Fp\":\n",
    "        return cls(cls.MULTIPLICATIVE_GENERATOR)\n",
    "\n",
    "    @classmethod\n",
    "    def nth_root_of_unity(cls, n: int) -> \"Fp\":\n",
    "        assert is_power_of_two(n), \"n must be a power of two\"\n",
    "        return cls(pow(cls.ROOT_OF_UNITY, 2**(cls.TWO_ADICITY - log_2(n)), cls.field_modulus))"
   ]
  },
  {
   "cell_type": "code",
   "execution_count": 4,
   "metadata": {},
   "outputs": [],
   "source": [
    "from unipoly2 import UniPolynomial, UniPolynomialWithFft, bit_reverse_permutation\n",
    "from mle2 import MLEPolynomial\n",
    "UniPolynomialWithFft.set_field_type(Fp)\n",
    "MLEPolynomial.set_field_type(Fp)\n",
    "from merkle import MerkleTree"
   ]
  },
  {
   "cell_type": "code",
   "execution_count": 5,
   "metadata": {},
   "outputs": [
    {
     "data": {
      "text/plain": [
       "(-40, 'c86117467dc48f44adcbdff0f6ccfd5e1edfbf358ff48efe3441f2cb8b34aca2')"
      ]
     },
     "execution_count": 5,
     "metadata": {},
     "output_type": "execute_result"
    }
   ],
   "source": [
    "f_mle = MLEPolynomial([Fp(1), Fp(3), Fp(2), Fp(1),\n",
    "                    Fp(2), Fp(-2), Fp(1), Fp(2)], 3)\n",
    "f_cm = MerkleTree(f_mle.evals)\n",
    "us = [Fp(2), Fp(-1), Fp(2)]\n",
    "v = f_mle.evaluate(us)\n",
    "v, f_cm.root"
   ]
  },
  {
   "cell_type": "code",
   "execution_count": 6,
   "metadata": {},
   "outputs": [],
   "source": [
    "def rs_encode(f: list[Field], coset: Field, blowup_factor: int) -> list[Field]:\n",
    "    n = next_power_of_two(len(f))\n",
    "    N = n * blowup_factor\n",
    "\n",
    "    omega_Nth = Fp.nth_root_of_unity(N)\n",
    "    # print(f\"omega_Nth = {omega_Nth}\")\n",
    "    k = log_2(N)\n",
    "    # print(f\"n = {n}, N = {N}, k = {k}\")\n",
    "    vec = f + [Fp.zero()] * (N - len(f))\n",
    "    # print(f\"vec = {vec}, len(vec) = {len(vec)}\")\n",
    "    return UniPolynomialWithFft.fft_coset_rbo(vec, coset, k, omega=omega_Nth)\n",
    "     "
   ]
  },
  {
   "cell_type": "code",
   "execution_count": 7,
   "metadata": {},
   "outputs": [
    {
     "name": "stdout",
     "output_type": "stream",
     "text": [
      "f_code_len = 16, g=5, blowup_factor=2\n"
     ]
    }
   ],
   "source": [
    "f = f_mle.evals\n",
    "alpha = Fp(2)\n",
    "f_len = len(f)\n",
    "g = Fp.multiplicative_generator()\n",
    "blowup_factor = 2\n",
    "f_code_len = f_len * blowup_factor\n",
    "print(f\"f_code_len = {f_code_len}, g={g}, blowup_factor={blowup_factor}\")"
   ]
  },
  {
   "cell_type": "markdown",
   "metadata": {},
   "source": [
    "## Commit phase"
   ]
  },
  {
   "cell_type": "code",
   "execution_count": 8,
   "metadata": {},
   "outputs": [],
   "source": [
    "debug = 2\n",
    "twiddles = UniPolynomialWithFft.precompute_twiddles_for_fft(f_code_len, is_bit_reversed=True)\n",
    "coset = Fp.multiplicative_generator()"
   ]
  },
  {
   "cell_type": "code",
   "execution_count": 9,
   "metadata": {},
   "outputs": [
    {
     "data": {
      "text/plain": [
       "(-40, [1, 3, 2, 1, 2, -2, 1, 2], [2, -4, -1, 2, -4, 8, 2, -4])"
      ]
     },
     "execution_count": 9,
     "metadata": {},
     "output_type": "execute_result"
    }
   ],
   "source": [
    "f = f_mle.evals.copy()\n",
    "\n",
    "# Sumcheck Round 0\n",
    "\n",
    "eq = MLEPolynomial.eqs_over_hypercube(us)\n",
    "n = len(f)\n",
    "half = n >> 1\n",
    "sum0 = v\n",
    "v, f, eq"
   ]
  },
  {
   "cell_type": "code",
   "execution_count": 10,
   "metadata": {},
   "outputs": [],
   "source": [
    "alpha = Fp(31)"
   ]
  },
  {
   "cell_type": "code",
   "execution_count": 11,
   "metadata": {},
   "outputs": [
    {
     "data": {
      "text/plain": [
       "[31, -4, 16]"
      ]
     },
     "execution_count": 11,
     "metadata": {},
     "output_type": "execute_result"
    }
   ],
   "source": [
    "def compute_alpha_powers(alpha: Fp, n: int) -> list[Fp]:\n",
    "    return [alpha**(2**i) for i in range(n)]\n",
    "alpha_powers = compute_alpha_powers(alpha, 3)\n",
    "alpha_powers"
   ]
  },
  {
   "cell_type": "code",
   "execution_count": 40,
   "metadata": {},
   "outputs": [
    {
     "data": {
      "text/plain": [
       "[-X0*A0 + X0*A1 + A0,\n",
       " -X0*A2 + X0*A3 + A2,\n",
       " -X0*A4 + X0*A5 + A4,\n",
       " -X0*A6 + X0*A7 + A6]"
      ]
     },
     "execution_count": 40,
     "metadata": {},
     "output_type": "execute_result"
    }
   ],
   "source": [
    "def fold(f: list[Fp], r: Fp) -> list[Fp]:\n",
    "    n = len(f)\n",
    "    assert n % 2 == 0, f\"n = {n}, n must be even\"\n",
    "    half = n >> 1\n",
    "    f_even = f[::2]\n",
    "    f_odd = f[1::2]\n",
    "    return [f_even[i] + r * (f_odd[i] - f_even[i]) for i in range(half)]\n",
    "fold([A0, A1, A2, A3, A4, A5, A6, A7], X0)"
   ]
  },
  {
   "cell_type": "code",
   "execution_count": 72,
   "metadata": {},
   "outputs": [
    {
     "data": {
      "text/plain": [
       "[-X1*A0 + X1*A2 + A0,\n",
       " -X1*A1 + X1*A3 + A1,\n",
       " X0*X1*A0 - X0*X1*A1 - X0*X1*A2 + X0*X1*A3 - X0*A0 - X1*A0 + X0*A1 + X1*A2 + A0]"
      ]
     },
     "execution_count": 72,
     "metadata": {},
     "output_type": "execute_result"
    }
   ],
   "source": [
    "def expanded_partial_evaluate(f: list[Fp], us: list[Fp]) -> list[Fp]:\n",
    "    \"\"\"\n",
    "    Evaluate mle polynomial *partially* from x_{n-1}, x_{n-2}, ..., x_{n-k}\n",
    "    \"\"\"\n",
    "    k, n = len(us), len(f)\n",
    "    assert n == 2**k, f\"n = {n}, k = {k}\"\n",
    "\n",
    "    rs, e = [], f.copy()\n",
    "    half = n >> 1\n",
    "    for i in range(k):\n",
    "        e_low, e_high = e[:half], e[half:]\n",
    "        e = [e_low[j] + us[k-i-1] * (e_high[j] - e_low[j]) for j in range(half)]\n",
    "        rs += e\n",
    "        half >>= 1\n",
    "    return rs\n",
    "\n",
    "expanded_partial_evaluate([A0, A1, A2, A3], [X0, X1])"
   ]
  },
  {
   "cell_type": "code",
   "execution_count": 73,
   "metadata": {},
   "outputs": [
    {
     "data": {
      "text/plain": [
       "[5, 6, 8]"
      ]
     },
     "execution_count": 73,
     "metadata": {},
     "output_type": "execute_result"
    }
   ],
   "source": [
    "expanded_partial_evaluate([Fp(1), Fp(2), Fp(3), Fp(4)], [Fp(3), Fp(2)])"
   ]
  },
  {
   "cell_type": "code",
   "execution_count": 74,
   "metadata": {},
   "outputs": [
    {
     "data": {
      "text/plain": [
       "8"
      ]
     },
     "execution_count": 74,
     "metadata": {},
     "output_type": "execute_result"
    }
   ],
   "source": [
    "MLEPolynomial([Fp(1), Fp(2), Fp(3), Fp(4)], 2).evaluate([Fp(3), Fp(2)])"
   ]
  },
  {
   "cell_type": "code",
   "execution_count": 75,
   "metadata": {},
   "outputs": [
    {
     "data": {
      "text/plain": [
       "[13, 14, 15, 16, 17, 18, 21]"
      ]
     },
     "execution_count": 75,
     "metadata": {},
     "output_type": "execute_result"
    }
   ],
   "source": [
    "expanded_partial_evaluate([Fp(1), Fp(2), Fp(3), Fp(4), Fp(5), Fp(6), Fp(7), Fp(8)], [Fp(4), Fp(2), Fp(3)])"
   ]
  },
  {
   "cell_type": "code",
   "execution_count": 76,
   "metadata": {},
   "outputs": [
    {
     "data": {
      "text/plain": [
       "21"
      ]
     },
     "execution_count": 76,
     "metadata": {},
     "output_type": "execute_result"
    }
   ],
   "source": [
    "MLEPolynomial([Fp(1), Fp(2), Fp(3), Fp(4), Fp(5), Fp(6), Fp(7), Fp(8)], 3).evaluate([Fp(4), Fp(2), Fp(3)])"
   ]
  },
  {
   "cell_type": "code",
   "execution_count": 14,
   "metadata": {},
   "outputs": [
    {
     "data": {
      "text/plain": [
       "62"
      ]
     },
     "execution_count": 14,
     "metadata": {},
     "output_type": "execute_result"
    }
   ],
   "source": [
    "f_at_alpha = f_mle.evaluate(alpha_powers)\n",
    "f_at_alpha\n"
   ]
  },
  {
   "cell_type": "code",
   "execution_count": 15,
   "metadata": {},
   "outputs": [
    {
     "name": "stdout",
     "output_type": "stream",
     "text": [
      "P> check f0_code\n",
      "P> check f0_code passed\n"
     ]
    }
   ],
   "source": [
    "# FRI Round 0\n",
    "\n",
    "f0_code = rs_encode(f, coset, 2)\n",
    "if debug > 1:\n",
    "    print(f\"P> check f0_code\")\n",
    "    f_orig_evals = bit_reverse_permutation(f0_code)\n",
    "    f_orig_coeffs = UniPolynomialWithFft.ifft_coset(f_orig_evals, coset, log_2(f_code_len))\n",
    "    f_orig = UniPolynomial(f_orig_coeffs)\n",
    "    assert f_orig.coeffs == f, f\"f_orig != f0, f_orig = {f_orig.coeffs}, f = {f}\"\n",
    "    print(f\"P> check f0_code passed\")"
   ]
  },
  {
   "cell_type": "code",
   "execution_count": 16,
   "metadata": {},
   "outputs": [
    {
     "data": {
      "text/plain": [
       "[32, 59, 7]"
      ]
     },
     "execution_count": 16,
     "metadata": {},
     "output_type": "execute_result"
    }
   ],
   "source": [
    "alpha0 = Fp(32)\n",
    "alpha0_powers = compute_alpha_powers(alpha0, 3)\n",
    "alpha0_powers"
   ]
  },
  {
   "cell_type": "code",
   "execution_count": 17,
   "metadata": {},
   "outputs": [],
   "source": [
    "# Sumcheck Round 1\n",
    "\n",
    "f0_even = f[::2]\n",
    "f0_odd = f[1::2]\n",
    "f0_even_mle = MLEPolynomial(f0_even, f_mle.num_var-1)\n",
    "f0_odd_mle = MLEPolynomial(f0_odd, f_mle.num_var-1)\n",
    "\n",
    "# construct hz(X): hz(X) = f(X, u1, u2,...)\n",
    "hz_at_0 = f0_even_mle.evaluate(us[1:])\n",
    "hz_at_1 = f0_odd_mle.evaluate(us[1:])\n",
    "hz = [hz_at_0, hz_at_1]\n",
    "\n",
    "assert (UniPolynomial.evaluate_from_evals(hz, us[0], [Fp(0), Fp(1)])) == v, \\\n",
    "    f\"hz(us[0]) = {UniPolynomial.evaluate_from_evals(hz, us[0])}, v = {v}\""
   ]
  },
  {
   "cell_type": "code",
   "execution_count": 18,
   "metadata": {},
   "outputs": [
    {
     "data": {
      "text/plain": [
       "-30"
      ]
     },
     "execution_count": 18,
     "metadata": {},
     "output_type": "execute_result"
    }
   ],
   "source": [
    "# alpha0 = Fp.rand()\n",
    "r0 = Fp(-30)\n",
    "r0"
   ]
  },
  {
   "cell_type": "code",
   "execution_count": 19,
   "metadata": {},
   "outputs": [],
   "source": [
    "# Sumcheck fold \n",
    "\n",
    "f1 = [(Fp(1) - r0) * f0_even[i] + r0 * f0_odd[i] for i in range(half)]\n",
    "\n",
    "# compute the new sum = h(r0)\n",
    "hz_r0 = UniPolynomial.evaluate_from_evals(hz, r0, [Fp(0), Fp(1)])"
   ]
  },
  {
   "cell_type": "code",
   "execution_count": 20,
   "metadata": {},
   "outputs": [],
   "source": [
    "half >>= 1"
   ]
  },
  {
   "cell_type": "code",
   "execution_count": 21,
   "metadata": {},
   "outputs": [],
   "source": [
    "# Sumcheck Round 2\n",
    "\n",
    "f1_even = f1[::2]\n",
    "f1_odd = f1[1::2]\n",
    "f1_even_mle = MLEPolynomial(f1_even, f_mle.num_var-2)\n",
    "f1_odd_mle = MLEPolynomial(f1_odd, f_mle.num_var-2)\n",
    "\n",
    "# construct hz(X): hz(X) = f1(X, u1, u2,...)\n",
    "hz_at_0 = f1_even_mle.evaluate(us[2:])\n",
    "hz_at_1 = f1_odd_mle.evaluate(us[2:])\n",
    "hz = [hz_at_0, hz_at_1]\n",
    "\n",
    "assert (UniPolynomial.evaluate_from_evals(hz, us[1], [Fp(0), Fp(1)])) == hz_r0, \\\n",
    "    f\"hz(us[1]) = {UniPolynomial.evaluate_from_evals(hz, us[1])}, hz_r0 = {hz_r0}\"\n"
   ]
  },
  {
   "cell_type": "code",
   "execution_count": 22,
   "metadata": {},
   "outputs": [
    {
     "data": {
      "text/plain": [
       "-32"
      ]
     },
     "execution_count": 22,
     "metadata": {},
     "output_type": "execute_result"
    }
   ],
   "source": [
    "# alpha0 = Fp.rand()\n",
    "r1 = Fp(-32)\n",
    "r1"
   ]
  },
  {
   "cell_type": "code",
   "execution_count": 23,
   "metadata": {},
   "outputs": [
    {
     "data": {
      "text/plain": [
       "-52"
      ]
     },
     "execution_count": 23,
     "metadata": {},
     "output_type": "execute_result"
    }
   ],
   "source": [
    "# Sumcheck fold \n",
    "\n",
    "f2 = [(Fp(1) - r1) * f1_even[i] + r1 * f1_odd[i] for i in range(half)]\n",
    "\n",
    "# compute the new sum = h(r1)\n",
    "hz_r1 = UniPolynomial.evaluate_from_evals(hz, r1, [Fp(0), Fp(1)])\n",
    "hz_r1"
   ]
  },
  {
   "cell_type": "code",
   "execution_count": 24,
   "metadata": {},
   "outputs": [],
   "source": [
    "half >>= 1"
   ]
  },
  {
   "cell_type": "code",
   "execution_count": 25,
   "metadata": {},
   "outputs": [],
   "source": [
    "# Sumcheck Round 2\n",
    "\n",
    "f2_even = f2[::2]\n",
    "f2_odd = f2[1::2]\n",
    "f2_even_mle = MLEPolynomial(f2_even, f_mle.num_var-3)\n",
    "f2_odd_mle = MLEPolynomial(f2_odd, f_mle.num_var-3)\n",
    "\n",
    "# construct hz(X): hz(X) = f2(X) = f(r0, r1, X)\n",
    "hz_at_0 = f2_even_mle.evaluate(us[3:])\n",
    "hz_at_1 = f2_odd_mle.evaluate(us[3:])\n",
    "hz = [hz_at_0, hz_at_1]\n",
    "\n",
    "assert (UniPolynomial.evaluate_from_evals(hz, us[2], [Fp(0), Fp(1)])) == hz_r1, \\\n",
    "    f\"hz(us[2]) = {UniPolynomial.evaluate_from_evals(hz, us[2])}, hz_r1 = {hz_r1}\""
   ]
  },
  {
   "cell_type": "code",
   "execution_count": 26,
   "metadata": {},
   "outputs": [
    {
     "data": {
      "text/plain": [
       "-33"
      ]
     },
     "execution_count": 26,
     "metadata": {},
     "output_type": "execute_result"
    }
   ],
   "source": [
    "# alpha0 = Fp.rand()\n",
    "r2 = Fp(-33)\n",
    "r2\n"
   ]
  },
  {
   "cell_type": "code",
   "execution_count": 27,
   "metadata": {},
   "outputs": [
    {
     "data": {
      "text/plain": [
       "-86"
      ]
     },
     "execution_count": 27,
     "metadata": {},
     "output_type": "execute_result"
    }
   ],
   "source": [
    "# Sumcheck fold \n",
    "\n",
    "f3 = [(Fp(1) - r2) * f2_even[i] + r2 * f2_odd[i] for i in range(half)]\n",
    "\n",
    "# compute the new sum = h(r2)\n",
    "hz_r2 = UniPolynomial.evaluate_from_evals(hz, r2, [Fp(0), Fp(1)])\n",
    "hz_r2"
   ]
  },
  {
   "cell_type": "code",
   "execution_count": 28,
   "metadata": {},
   "outputs": [
    {
     "data": {
      "text/plain": [
       "True"
      ]
     },
     "execution_count": 28,
     "metadata": {},
     "output_type": "execute_result"
    }
   ],
   "source": [
    "# Check the final result: h(r0, r1, r2) = f(r0, r1, r2)\n",
    "\n",
    "hz_r2 == f_mle.evaluate([r0, r1,r2])"
   ]
  },
  {
   "cell_type": "markdown",
   "metadata": {},
   "source": [
    "## Simplified Sumcheck"
   ]
  },
  {
   "cell_type": "code",
   "execution_count": 29,
   "metadata": {},
   "outputs": [],
   "source": [
    "sum_checked = v\n",
    "half = n >> 1\n",
    "k = len(us)\n",
    "# f_code = f0_code\n",
    "# coset = self.coset_gen\n",
    "constant = None\n",
    "r_vec = []\n",
    "sumcheck_h_vec = []\n",
    "# code_commitments = []\n",
    "# trees = [MerkleTree(f_code)]\n",
    "# codes = [f_code]"
   ]
  },
  {
   "cell_type": "code",
   "execution_count": 30,
   "metadata": {},
   "outputs": [
    {
     "name": "stdout",
     "output_type": "stream",
     "text": [
      "rs=[]\n",
      "rs=[3, -7, 0, 3]\n",
      "rs=[3, -7, 0, 3, 6, -17]\n"
     ]
    },
    {
     "data": {
      "text/plain": [
       "[3, -7, 0, 3, 6, -17, -40]"
      ]
     },
     "execution_count": 30,
     "metadata": {},
     "output_type": "execute_result"
    }
   ],
   "source": [
    "f_partial_evals = expanded_partial_evaluate(f, us)\n",
    "f_partial_evals"
   ]
  },
  {
   "cell_type": "code",
   "execution_count": 31,
   "metadata": {},
   "outputs": [
    {
     "name": "stdout",
     "output_type": "stream",
     "text": [
      "P> f = [1, 3, 2, 1, 2, -2, 1, 2]\n",
      "P> h_eval_at_0 = 6\n",
      "P> h_eval_at_1 = -17\n",
      "P> h_eval_at_u = -40\n",
      "P> h_eval_at_u_plus_1 = -63\n",
      "P> check h(0), h(1), h(u), h(u+1)\n",
      "P> check h_eval_at_u passed, -40 = -40\n",
      "P> r[0] = -12\n",
      "P> check new sumcheck passed\n",
      "P> check new sumcheck passed, 89 = 89\n",
      "P> f_parital_evals_trimmed = [3, -7, 0, 3, 6, -17]\n"
     ]
    }
   ],
   "source": [
    "# Sumcheck Round 0\n",
    "i = 0 \n",
    "\n",
    "f_even = f[::2]\n",
    "f_odd = f[1::2]\n",
    "print(f\"P> f = {f}\")\n",
    "\n",
    "# construct h_i(X) = f_i(r0,r1,...,X,u_{i+1},u_{i+2},...,u_k)\n",
    "h_at_0 = f_partial_evals[-3]\n",
    "h_at_1 = f_partial_evals[-2]\n",
    "h_at_u = f_partial_evals[-1]\n",
    "h_at_u_plus_1 = h_at_u + (h_at_1 - h_at_0)\n",
    "\n",
    "print(f\"P> h_at_0 = {h_at_0}\")\n",
    "print(f\"P> h_at_1 = {h_at_1}\")\n",
    "print(f\"P> h_at_u = {h_at_u}\")\n",
    "print(f\"P> h_plus_1_at_u = {h_at_u_plus_1}\")\n",
    "\n",
    "if debug > 0:\n",
    "    print(f\"P> check h(0), h(1), h(u), h(u+1)\")\n",
    "    partial_f_mle = MLEPolynomial(f, k-i)\n",
    "    assert h_at_0 == partial_f_mle.evaluate([Fp(0)]+us[i+1:]), \\\n",
    "        f\"h_at_0 = {h_at_0}, partial_f_mle.evaluate([Fp(0)]+us[i+1:]) = {partial_f_mle.evaluate([Fp(0)]+us[i+1:])}\"\n",
    "    assert h_at_1 == partial_f_mle.evaluate([Fp(1)]+us[i+1:]), \\\n",
    "        f\"h_at_1 = {h_at_1}, partial_f_mle.evaluate([Fp(1)]+us[i+1:]) = {partial_f_mle.evaluate([Fp(1)]+us[i+1:])}\"\n",
    "    assert h_at_u == partial_f_mle.evaluate(us[i:]), \\\n",
    "        f\"h_at_u = {h_at_u}, partial_f_mle.evaluate(us[i:]) = {partial_f_mle.evaluate(us[i:])}\"\n",
    "    assert h_at_u_plus_1 == partial_f_mle.evaluate([us[i]+Fp(1)]+us[i+1:]), \\\n",
    "        f\"h_plus_1_at_u = {h_at_u_plus_1}, partial_f_mle.evaluate([us[i]+Fp(1)]+us[i+1:]) = {partial_f_mle.evaluate([us[i]+Fp(1)]+us[i+1:])}\"\n",
    "    # print(f\"P> f(0) = {partial_f_mle.evaluate([Fp(0)]+us[i+1:])}\")\n",
    "    # print(f\"P> f(u) = {partial_f_mle.evaluate(us[i:])}\")\n",
    "    # print(f\"P> f(u+1) = {partial_f_mle.evaluate([us[i]+Fp(1)]+us[i+1:])}\")\n",
    "    assert h_at_u == sum_checked, \\\n",
    "        f\"h_at_u = {h_at_u}, sum_checked = {sum_checked}\"\n",
    "    print(f\"P> check h_at_u passed, {h_at_u} = {sum_checked}\")\n",
    "sumcheck_h_vec.append(h_at_u)\n",
    "\n",
    "# tr.absorb(b\"h(X)\", h_eval_at_u_plus_1)\n",
    "\n",
    "# check sum\n",
    "# assert UniPolynomial.evaluate_from_evals(h, us[i], [Field(0), Field(1)]) == sum_checked, \\\n",
    "#     f\"h(us[{i}]) = {UniPolynomial.evaluate_from_evals(h, us[i], [Field(0), Field(1)])}, sum_checked = {sum_checked}\"\n",
    "\n",
    "# Receive a random number from the verifier\n",
    "r = Fp(-12)\n",
    "\n",
    "if debug > 0:\n",
    "    print(f\"P> r[{i}] = {r}\")\n",
    "\n",
    "\n",
    "# NOTE: The verifier compute f_i(r), which is *equal to* f_{i+1}(u_i). And then in \n",
    "#   the next round, the prover will only need to send f_{i+1}(u_i+1) to the verifier.\n",
    "#   The computation of f_{i+1}(r) at the verifier's side costs only one multiplication.\n",
    "h_at_r = h_at_u + (h_at_u_plus_1 - h_at_u) * (r - us[i])\n",
    "\n",
    "if debug > 0:\n",
    "    print(f\"P> check new sumcheck passed\")\n",
    "    assert h_at_r == MLEPolynomial(f, k-i).evaluate([r]+us[i+1:]), \\\n",
    "        f\"h_at_r = {h_at_r}, f(r) = {MLEPolynomial(f, k-i).evaluate([r]+us[i+1:])}\"\n",
    "    new_sum = UniPolynomial.evaluate_from_evals([h_at_u, h_at_u_plus_1], r, [us[i], us[i]+Fp(1)])\n",
    "    assert h_at_r == new_sum\n",
    "    print(f\"P> check new sumcheck passed, {h_at_r} = {new_sum}\")\n",
    "\n",
    "# fold f\n",
    "\n",
    "# f_folded = [(Fp(1) - r) * f_even[i] + r * f_odd[i] for i in range(half)]\n",
    "f_folded = fold(f, r)\n",
    "\n",
    "f_parital_evals_trimmed = f_partial_evals[:-1]\n",
    "f_parital_even = f_parital_evals_trimmed[::2]\n",
    "f_parital_odd = f_parital_evals_trimmed[1::2]\n",
    "print(f\"P> f_parital_evals_trimmed = {f_parital_evals_trimmed}\")\n",
    "f_parital_evals_folded = fold(f_parital_evals_trimmed, r)\n"
   ]
  },
  {
   "cell_type": "code",
   "execution_count": 32,
   "metadata": {},
   "outputs": [],
   "source": [
    "# # update parameters for the next round\n",
    "sum_checked = h_at_r\n",
    "r_vec.append(r)\n",
    "f = f_folded\n",
    "f_partial_evals = f_parital_evals_folded\n",
    "# f_code = f_code_folded\n",
    "half >>= 1\n",
    "coset *= coset"
   ]
  },
  {
   "cell_type": "code",
   "execution_count": 35,
   "metadata": {},
   "outputs": [
    {
     "data": {
      "text/plain": [
       "([-70, -36, 89], 2)"
      ]
     },
     "execution_count": 35,
     "metadata": {},
     "output_type": "execute_result"
    }
   ],
   "source": [
    "f_partial_evals, half"
   ]
  },
  {
   "cell_type": "code",
   "execution_count": 37,
   "metadata": {},
   "outputs": [
    {
     "name": "stdout",
     "output_type": "stream",
     "text": [
      "P> f = [-23, 14, 50, -11]\n",
      "P> h_eval_at_0 = -70\n",
      "P> h_eval_at_1 = -36\n",
      "P> h_eval_at_u = 89\n",
      "P> h_eval_at_u_plus_1 = -70\n",
      "P> check h(0), h(1), h(u), h(u+1)\n",
      "P> check h_eval_at_u passed, 89 = 89\n",
      "P> r[1] = -13\n",
      "P> check new sumcheck passed\n",
      "P> check new sumcheck passed, 67 = 67\n",
      "P> f_parital_evals_trimmed = [-70, -36]\n",
      "P> f_parital_evals_folded = [67]\n"
     ]
    }
   ],
   "source": [
    "# Sumcheck Round 1\n",
    "i = 1\n",
    "\n",
    "f_even = f[::2]\n",
    "f_odd = f[1::2]\n",
    "print(f\"P> f = {f}\")\n",
    "\n",
    "# construct h(X)\n",
    "h_eval_at_0 = f_partial_evals[-3]\n",
    "h_eval_at_1 = f_partial_evals[-2]\n",
    "h_eval_at_u = f_partial_evals[-1]\n",
    "h_eval_at_u_plus_1 = h_eval_at_u + (h_eval_at_1 - h_eval_at_0)\n",
    "\n",
    "print(f\"P> h_eval_at_0 = {h_eval_at_0}\")\n",
    "print(f\"P> h_eval_at_1 = {h_eval_at_1}\")\n",
    "print(f\"P> h_eval_at_u = {h_eval_at_u}\")\n",
    "print(f\"P> h_eval_at_u_plus_1 = {h_eval_at_u_plus_1}\")\n",
    "\n",
    "if debug > 0:\n",
    "    print(f\"P> check h(0), h(1), h(u), h(u+1)\")\n",
    "    partial_f_mle = MLEPolynomial(f, k-i)\n",
    "    assert h_eval_at_0 == partial_f_mle.evaluate([Fp(0)]+us[i+1:]), \\\n",
    "        f\"h_eval_at_0 = {h_eval_at_0}, partial_f_mle.evaluate([Fp(0)]+us[i+1:]) = {partial_f_mle.evaluate([Fp(0)]+us[i+1:])}\"\n",
    "    assert h_eval_at_1 == partial_f_mle.evaluate([Fp(1)]+us[i+1:]), \\\n",
    "        f\"h_eval_at_1 = {h_eval_at_1}, partial_f_mle.evaluate([Fp(1)]+us[i+1:]) = {partial_f_mle.evaluate([Fp(1)]+us[i+1:])}\"\n",
    "    assert h_eval_at_u == partial_f_mle.evaluate(us[i:]), \\\n",
    "        f\"h_eval_at_u = {h_eval_at_u}, partial_f_mle.evaluate(us[i:]) = {partial_f_mle.evaluate(us[i:])}\"\n",
    "    assert h_eval_at_u_plus_1 == partial_f_mle.evaluate([us[i]+Fp(1)]+us[i+1:]), \\\n",
    "        f\"h_eval_at_u_plus_1 = {h_eval_at_u_plus_1}, partial_f_mle.evaluate([us[i]+Fp(1)]+us[i+1:]) = {partial_f_mle.evaluate([us[i]+Fp(1)]+us[i+1:])}\"\n",
    "    # print(f\"P> f(0) = {partial_f_mle.evaluate([Fp(0)]+us[i+1:])}\")\n",
    "    # print(f\"P> f(u) = {partial_f_mle.evaluate(us[i:])}\")\n",
    "    # print(f\"P> f(u+1) = {partial_f_mle.evaluate([us[i]+Fp(1)]+us[i+1:])}\")\n",
    "    assert h_eval_at_u == sum_checked, \\\n",
    "        f\"h_eval_at_u = {h_eval_at_u}, sum_checked = {sum_checked}\"\n",
    "    print(f\"P> check h_eval_at_u passed, {h_eval_at_u} = {sum_checked}\")\n",
    "sumcheck_h_vec.append(h_eval_at_u_plus_1)\n",
    "\n",
    "# tr.absorb(b\"h(X)\", h_eval_at_u_plus_1)\n",
    "\n",
    "# check sum\n",
    "# assert UniPolynomial.evaluate_from_evals(h, us[i], [Field(0), Field(1)]) == sum_checked, \\\n",
    "#     f\"h(us[{i}]) = {UniPolynomial.evaluate_from_evals(h, us[i], [Field(0), Field(1)])}, sum_checked = {sum_checked}\"\n",
    "\n",
    "# Receive a random number from the verifier\n",
    "r = Fp(-13)\n",
    "\n",
    "if debug > 0:\n",
    "    print(f\"P> r[{i}] = {r}\")\n",
    "\n",
    "h_eval_at_r = h_eval_at_u + (h_eval_at_u_plus_1 - h_eval_at_u) * (r - us[i])\n",
    "\n",
    "if debug > 0:\n",
    "    print(f\"P> check new sumcheck passed\")\n",
    "    assert h_eval_at_r == MLEPolynomial(f, k-i).evaluate([r]+us[i+1:]), \\\n",
    "        f\"h_eval_at_r = {h_eval_at_r}, f(r) = {MLEPolynomial(f, k-i).evaluate([r]+us[i+1:])}\"\n",
    "    new_sum = UniPolynomial.evaluate_from_evals([h_eval_at_u, h_eval_at_u_plus_1], r, [us[i], us[i]+Fp(1)])\n",
    "    assert h_eval_at_r == new_sum\n",
    "    print(f\"P> check new sumcheck passed, {h_eval_at_r} = {new_sum}\")\n",
    "\n",
    "# fold f\n",
    "\n",
    "# f_folded = [(Fp(1) - r) * f_even[i] + r * f_odd[i] for i in range(half)]\n",
    "f_folded = fold(f, r)\n",
    "\n",
    "f_parital_evals_trimmed = f_partial_evals[:-1]\n",
    "f_parital_even = f_parital_evals_trimmed[::2]\n",
    "f_parital_odd = f_parital_evals_trimmed[1::2]\n",
    "print(f\"P> f_parital_evals_trimmed = {f_parital_evals_trimmed}\")\n",
    "f_parital_evals_folded = fold(f_parital_evals_trimmed, r)\n",
    "print(f\"P> f_parital_evals_folded = {f_parital_evals_folded}\")\n"
   ]
  },
  {
   "cell_type": "code",
   "execution_count": 38,
   "metadata": {},
   "outputs": [],
   "source": [
    "# # update parameters for the next round\n",
    "sum_checked = h_eval_at_r\n",
    "r_vec.append(r)\n",
    "f = f_folded\n",
    "f_partial_evals = f_parital_evals_folded\n",
    "# f_code = f_code_folded\n",
    "half >>= 1\n",
    "coset *= coset"
   ]
  },
  {
   "cell_type": "code",
   "execution_count": null,
   "metadata": {},
   "outputs": [],
   "source": [
    "# Sumcheck Round 2 (final round)\n",
    "i = 2\n",
    "\n",
    "f_even = f[::2]\n",
    "f_odd = f[1::2]\n",
    "print(f\"P> f = {f}\")\n",
    "\n",
    "# construct h(X)\n",
    "h_eval_at_0 = f_partial_evals[0]\n",
    "h_eval_at_1 = f_partial_evals[0]\n",
    "h_eval_at_u = f_partial_evals[0]\n",
    "h_eval_at_u_plus_1 = h_eval_at_u + (h_eval_at_1 - h_eval_at_0)\n",
    "\n",
    "print(f\"P> h_eval_at_0 = {h_eval_at_0}\")\n",
    "print(f\"P> h_eval_at_1 = {h_eval_at_1}\")\n",
    "print(f\"P> h_eval_at_u = {h_eval_at_u}\")\n",
    "print(f\"P> h_eval_at_u_plus_1 = {h_eval_at_u_plus_1}\")\n",
    "\n",
    "if debug > 0:\n",
    "    print(f\"P> check h(0), h(1), h(u), h(u+1)\")\n",
    "    partial_f_mle = MLEPolynomial(f, k-i)\n",
    "    assert h_eval_at_0 == partial_f_mle.evaluate([Fp(0)]+us[i+1:]), \\\n",
    "        f\"h_eval_at_0 = {h_eval_at_0}, partial_f_mle.evaluate([Fp(0)]+us[i+1:]) = {partial_f_mle.evaluate([Fp(0)]+us[i+1:])}\"\n",
    "    assert h_eval_at_1 == partial_f_mle.evaluate([Fp(1)]+us[i+1:]), \\\n",
    "        f\"h_eval_at_1 = {h_eval_at_1}, partial_f_mle.evaluate([Fp(1)]+us[i+1:]) = {partial_f_mle.evaluate([Fp(1)]+us[i+1:])}\"\n",
    "    assert h_eval_at_u == partial_f_mle.evaluate(us[i:]), \\\n",
    "        f\"h_eval_at_u = {h_eval_at_u}, partial_f_mle.evaluate(us[i:]) = {partial_f_mle.evaluate(us[i:])}\"\n",
    "    assert h_eval_at_u_plus_1 == partial_f_mle.evaluate([us[i]+Fp(1)]+us[i+1:]), \\\n",
    "        f\"h_eval_at_u_plus_1 = {h_eval_at_u_plus_1}, partial_f_mle.evaluate([us[i]+Fp(1)]+us[i+1:]) = {partial_f_mle.evaluate([us[i]+Fp(1)]+us[i+1:])}\"\n",
    "    # print(f\"P> f(0) = {partial_f_mle.evaluate([Fp(0)]+us[i+1:])}\")\n",
    "    # print(f\"P> f(u) = {partial_f_mle.evaluate(us[i:])}\")\n",
    "    # print(f\"P> f(u+1) = {partial_f_mle.evaluate([us[i]+Fp(1)]+us[i+1:])}\")\n",
    "    assert h_eval_at_u == sum_checked, \\\n",
    "        f\"h_eval_at_u = {h_eval_at_u}, sum_checked = {sum_checked}\"\n",
    "    print(f\"P> check h_eval_at_u passed, {h_eval_at_u} = {sum_checked}\")\n",
    "sumcheck_h_vec.append(h_eval_at_u_plus_1)\n",
    "\n",
    "# tr.absorb(b\"h(X)\", h_eval_at_u_plus_1)\n",
    "\n",
    "# check sum\n",
    "# assert UniPolynomial.evaluate_from_evals(h, us[i], [Field(0), Field(1)]) == sum_checked, \\\n",
    "#     f\"h(us[{i}]) = {UniPolynomial.evaluate_from_evals(h, us[i], [Field(0), Field(1)])}, sum_checked = {sum_checked}\"\n",
    "\n",
    "# Receive a random number from the verifier\n",
    "r = Fp(-13)\n",
    "\n",
    "if debug > 0:\n",
    "    print(f\"P> r[{i}] = {r}\")\n",
    "\n",
    "# NOTE: The verifier compute f_i(r), which is *equal to* f_{i+1}(u_i). And then in \n",
    "#   the next round, the prover will only need to send f_{i+1}(u_i+1) to the verifier.\n",
    "h_eval_at_r = h_eval_at_u + (h_eval_at_u_plus_1 - h_eval_at_u) * (r - us[i])\n",
    "\n",
    "if debug > 0:\n",
    "    print(f\"P> check new sumcheck passed\")\n",
    "    assert h_eval_at_r == MLEPolynomial(f, k-i).evaluate([r]+us[i+1:]), \\\n",
    "        f\"h_eval_at_r = {h_eval_at_r}, f(r) = {MLEPolynomial(f, k-i).evaluate([r]+us[i+1:])}\"\n",
    "    new_sum = UniPolynomial.evaluate_from_evals([h_eval_at_u, h_eval_at_u_plus_1], r, [us[i], us[i]+Fp(1)])\n",
    "    assert h_eval_at_r == new_sum\n",
    "    print(f\"P> check new sumcheck passed, {h_eval_at_r} = {new_sum}\")\n",
    "\n",
    "# fold f\n",
    "\n",
    "# f_folded = [(Fp(1) - r) * f_even[i] + r * f_odd[i] for i in range(half)]\n",
    "f_folded = fold(f, r)\n",
    "\n",
    "f_parital_evals_trimmed = f_partial_evals[:-1]\n",
    "f_parital_even = f_parital_evals_trimmed[::2]\n",
    "f_parital_odd = f_parital_evals_trimmed[1::2]\n",
    "print(f\"P> f_parital_evals_trimmed = {f_parital_evals_trimmed}\")\n",
    "f_parital_evals_folded = fold(f_parital_evals_trimmed, r)\n",
    "print(f\"P> f_parital_evals_folded = {f_parital_evals_folded}\")\n"
   ]
  },
  {
   "cell_type": "code",
   "execution_count": null,
   "metadata": {},
   "outputs": [],
   "source": [
    "# # Sumcheck Round 1\n",
    "# i = 0 \n",
    "\n",
    "# f_even = f[::2]\n",
    "# f_odd = f[1::2]\n",
    "# print(f\"P> f = {f}\")\n",
    "\n",
    "# # construct h(X)\n",
    "# h_eval_at_0 = MLEPolynomial(f_even, k-i-1).evaluate(us[i+1:])\n",
    "# h_eval_at_1 = MLEPolynomial(f_odd, k-i-1).evaluate(us[i+1:])\n",
    "# h_eval_at_u = (Fp(1) - us[i]) * h_eval_at_0 + us[i] * h_eval_at_1\n",
    "# h_eval_at_u_plus_1 = h_eval_at_u + (h_eval_at_1 - h_eval_at_0)\n",
    "\n",
    "# print(f\"P> h_eval_at_0 = {h_eval_at_0}\")\n",
    "# print(f\"P> h_eval_at_1 = {h_eval_at_1}\")\n",
    "# print(f\"P> h_eval_at_u = {h_eval_at_u}\")\n",
    "# print(f\"P> h_eval_at_u_plus_1 = {h_eval_at_u_plus_1}\")\n",
    "\n",
    "# if debug > 0:\n",
    "#     print(f\"P> check h(0), h(1), h(u), h(u+1)\")\n",
    "#     partial_f_mle = MLEPolynomial(f, k-i)\n",
    "#     assert h_eval_at_0 == partial_f_mle.evaluate([Fp(0)]+us[i+1:]), \\\n",
    "#         f\"h_eval_at_0 = {h_eval_at_0}, partial_f_mle.evaluate([Fp(0)]+us[i+1:]) = {partial_f_mle.evaluate([Fp(0)]+us[i+1:])}\"\n",
    "#     assert h_eval_at_1 == partial_f_mle.evaluate([Fp(1)]+us[i+1:]), \\\n",
    "#         f\"h_eval_at_1 = {h_eval_at_1}, partial_f_mle.evaluate([Fp(1)]+us[i+1:]) = {partial_f_mle.evaluate([Fp(1)]+us[i+1:])}\"\n",
    "#     assert h_eval_at_u == partial_f_mle.evaluate(us[i:]), \\\n",
    "#         f\"h_eval_at_u = {h_eval_at_u}, partial_f_mle.evaluate(us[i:]) = {partial_f_mle.evaluate(us[i:])}\"\n",
    "#     assert h_eval_at_u_plus_1 == partial_f_mle.evaluate([us[i]+Fp(1)]+us[i+1:]), \\\n",
    "#         f\"h_eval_at_u_plus_1 = {h_eval_at_u_plus_1}, partial_f_mle.evaluate([us[i]+Fp(1)]+us[i+1:]) = {partial_f_mle.evaluate([us[i]+Fp(1)]+us[i+1:])}\"\n",
    "#     # print(f\"P> f(0) = {partial_f_mle.evaluate([Fp(0)]+us[i+1:])}\")\n",
    "#     # print(f\"P> f(u) = {partial_f_mle.evaluate(us[i:])}\")\n",
    "#     # print(f\"P> f(u+1) = {partial_f_mle.evaluate([us[i]+Fp(1)]+us[i+1:])}\")\n",
    "#     assert h_eval_at_u == sum_checked, \\\n",
    "#         f\"h_eval_at_u = {h_eval_at_u}, sum_checked = {sum_checked}\"\n",
    "#     print(f\"P> check h_eval_at_u passed, {h_eval_at_u} = {sum_checked}\")\n",
    "# sumcheck_h_vec.append(h_eval_at_u_plus_1)\n",
    "\n",
    "# # tr.absorb(b\"h(X)\", h_eval_at_u_plus_1)\n",
    "\n",
    "# # check sum\n",
    "# # assert UniPolynomial.evaluate_from_evals(h, us[i], [Field(0), Field(1)]) == sum_checked, \\\n",
    "# #     f\"h(us[{i}]) = {UniPolynomial.evaluate_from_evals(h, us[i], [Field(0), Field(1)])}, sum_checked = {sum_checked}\"\n",
    "\n",
    "# # Receive a random number from the verifier\n",
    "# r = Fp(-12)\n",
    "\n",
    "# if debug > 0:\n",
    "#     print(f\"P> r[{i}] = {r}\")\n",
    "\n",
    "# h_eval_at_r = h_eval_at_u + (h_eval_at_u_plus_1 - h_eval_at_u) * (r - us[i])\n",
    "\n",
    "# if debug > 0:\n",
    "#     print(f\"P> check new sumcheck passed\")\n",
    "#     assert h_eval_at_r == MLEPolynomial(f, k-i).evaluate([r]+us[i+1:]), \\\n",
    "#         f\"h_eval_at_r = {h_eval_at_r}, f(r) = {MLEPolynomial(f, k-i).evaluate([r]+us[i+1:])}\"\n",
    "#     new_sum = UniPolynomial.evaluate_from_evals([h_eval_at_u, h_eval_at_u_plus_1], r, [us[i], us[i]+Fp(1)])\n",
    "#     assert h_eval_at_r == new_sum\n",
    "#     print(f\"P> check new sumcheck passed, {h_eval_at_r} = {new_sum}\")\n",
    "\n",
    "# # fold f\n",
    "\n",
    "# f_folded = [(Fp(1) - r) * f_even[i] + r * f_odd[i] for i in range(half)]\n"
   ]
  },
  {
   "cell_type": "code",
   "execution_count": 32,
   "metadata": {},
   "outputs": [],
   "source": []
  },
  {
   "cell_type": "code",
   "execution_count": null,
   "metadata": {},
   "outputs": [],
   "source": []
  }
 ],
 "metadata": {
  "kernelspec": {
   "display_name": "SageMath 10.4",
   "language": "sage",
   "name": "SageMath-10.4"
  },
  "language_info": {
   "codemirror_mode": {
    "name": "ipython",
    "version": 3
   },
   "file_extension": ".py",
   "mimetype": "text/x-python",
   "name": "python",
   "nbconvert_exporter": "python",
   "pygments_lexer": "ipython3",
   "version": "3.12.4"
  }
 },
 "nbformat": 4,
 "nbformat_minor": 2
}
